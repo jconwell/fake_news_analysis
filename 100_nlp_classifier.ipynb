{
 "cells": [
  {
   "cell_type": "markdown",
   "metadata": {},
   "source": [
    "In this notebook, I'm going to go through the same dataset in the `data_exploration` and `tfidf` notebooks, but use FastAI's NLP libraries to try to build a classifier for fake vs real with a neural net model"
   ]
  },
  {
   "cell_type": "code",
   "execution_count": 1,
   "metadata": {},
   "outputs": [],
   "source": [
    "from fastai.text.all import get_text_files, Path, TextDataLoaders, language_model_learner, text_classifier_learner, accuracy, Perplexity, AWD_LSTM, AWD_QRNN\n",
    "import pandas as pd"
   ]
  },
  {
   "cell_type": "code",
   "execution_count": 2,
   "metadata": {},
   "outputs": [],
   "source": [
    "path = Path(\"/home/g-clef/turbo_stuff/fake_news_analysis/data/\")"
   ]
  },
  {
   "cell_type": "markdown",
   "metadata": {},
   "source": [
    "So we need to make a \"DataLoader\" in fastai terminology, which is an object that loads the data from disk and prepares it for feeding to the learning model in batches. The dataloader for text also handles a bunch of lexical parsing, stemming, punctuation handling, etc.\n",
    "\n",
    "This next step raises a numpy warning every time, and does in the fastai documentation as well, so I'm going to ignore that for the moment.\n",
    "\n",
    "In earlier uses of this, I was experimenting with lowering the batch size (`bs=4`) and block size `block_size=4`. That was mostly related to tryign to get a languate learner to work and fit in RAM. For the text classifier that mostly seemed to just slow things down and make determining a good learning rate difficult."
   ]
  },
  {
   "cell_type": "code",
   "execution_count": 3,
   "metadata": {},
   "outputs": [
    {
     "data": {
      "text/html": [],
      "text/plain": [
       "<IPython.core.display.HTML object>"
      ]
     },
     "metadata": {},
     "output_type": "display_data"
    },
    {
     "name": "stderr",
     "output_type": "stream",
     "text": [
      "/home/g-clef/anaconda3/lib/python3.8/site-packages/numpy/core/_asarray.py:83: VisibleDeprecationWarning: Creating an ndarray from ragged nested sequences (which is a list-or-tuple of lists-or-tuples-or ndarrays with different lengths or shapes) is deprecated. If you meant to do this, you must specify 'dtype=object' when creating the ndarray\n",
      "  return array(a, dtype, copy=False, order=order)\n"
     ]
    }
   ],
   "source": [
    "dls = TextDataLoaders.from_csv(path=path, csv_fname=\"news.csv\", text_col=[\"title\", \"text\"], label_col=\"label\", valid_pct=0.2)"
   ]
  },
  {
   "cell_type": "code",
   "execution_count": 4,
   "metadata": {},
   "outputs": [
    {
     "data": {
      "text/html": [
       "<table border=\"1\" class=\"dataframe\">\n",
       "  <thead>\n",
       "    <tr style=\"text-align: right;\">\n",
       "      <th></th>\n",
       "      <th>text</th>\n",
       "      <th>category</th>\n",
       "    </tr>\n",
       "  </thead>\n",
       "  <tbody>\n",
       "    <tr>\n",
       "      <th>0</th>\n",
       "      <td>xxbos xxfld 1 xxmaj re : xxmaj why xxmaj are xxmaj so xxmaj many xxmaj people xxmaj choosing xxmaj to xxmaj leave xxmaj the xxmaj united xxmaj states xxmaj permanently ? xxfld 2 xxmaj why xxmaj are xxmaj so xxmaj many xxmaj people xxmaj choosing xxmaj to xxmaj leave xxmaj the xxmaj united xxmaj states xxmaj permanently ? xxmaj august 11th , 2013 \\n xxmaj have things gotten so bad that it is time to leave the xxmaj united xxmaj states for good ? xxmaj that is a question that a lot of xxmaj americans are dealing with these days , and an increasing number of them are choosing to leave the country of their birth permanently . xxmaj some are doing it for tax reasons , some are doing it because they believe the future is brighter elsewhere , and others are doing it because they are very distressed</td>\n",
       "      <td>FAKE</td>\n",
       "    </tr>\n",
       "    <tr>\n",
       "      <th>1</th>\n",
       "      <td>xxbos xxfld 1 xxmaj fascism xxmaj in xxmaj india - xxunk xxfld 2 in xxmaj communal xxmaj harmony — by xxmaj xxunk xxmaj xxunk — xxmaj november 5 , 2016 \\n xxmaj on xxmaj monday the 31st of xxmaj october 2016 the xxmaj xxunk xxmaj pradesh police assassinated eight alleged associates of the xxmaj students ’ xxmaj islamic xxmaj movement of xxmaj india ( simi ) after an alleged escape from prison near xxmaj bhopal . xxmaj this was not coincidentally a day when the xxmaj prime xxmaj minister xxmaj narendra xxmaj modi was hyping xxmaj hindu nationalism on xxmaj diwali , the xxmaj hindu festival that celebrates the return of the xxunk god xxmaj ram to xxmaj xxunk in present day xxmaj xxunk xxmaj pradesh . xxmaj the assassination was most certainly a celebration of xxmaj diwali and xxmaj hindu nationalism by assassination of xxmaj muslims . xxmaj narendra</td>\n",
       "      <td>FAKE</td>\n",
       "    </tr>\n",
       "    <tr>\n",
       "      <th>2</th>\n",
       "      <td>xxbos xxfld 1 xxup lucifer in the xxmaj temple of the xxmaj dog xxup ii xxfld 2 xxup isis xxmaj takes xxmaj out xxup xxunk xxmaj abrams xxmaj tank with xxmaj american xxup tow xxmaj missile ( video ) ‹ › xxmaj bio by xxmaj jack xxmaj heart : xxmaj my earliest memories were of being surrounded by machinery and a constant deep mechanical humming rose and fell like the breath of xxunk sleep . xxmaj maybe it was the \" mother ship \" or the \" montauk underground \" like xxmaj preston xxmaj nichols author of the xxmaj the xxmaj montauk xxmaj projects would later claim but i am inclined to believe it was the post natal care room at xxmaj xxunk xxmaj medical xxmaj center in xxmaj brooklyn where i was born to a well to do family . i grew up in xxmaj brooklyn . xxmaj my</td>\n",
       "      <td>FAKE</td>\n",
       "    </tr>\n",
       "  </tbody>\n",
       "</table>"
      ],
      "text/plain": [
       "<IPython.core.display.HTML object>"
      ]
     },
     "metadata": {},
     "output_type": "display_data"
    }
   ],
   "source": [
    "dls.show_batch(max_n=3)"
   ]
  },
  {
   "cell_type": "markdown",
   "metadata": {},
   "source": [
    "So this is a lot of pre-parsed text. There's a lot to talk about how this parsing is working. FastAI offers multiple ways to \"tokenize\" text. By default, a TextDataLoader will use a tokenizer called `spaCy`. FastAI mostly uses spacy to split on words in an intelligent way (don't split punctuation in the middle of a number or a price, for example, but do split `it's` into `it s`. FastAI wraps that in a class of its own, so if you look in the TextDataLoader, it will be called a \"WordTokenizer\", to allow them to swap that out if they find something better than spaCy. \n",
    "\n",
    "FastAI will go beyond spacy word splitting, to help identify special areas of the strings. FastAI will identify words and add extra tokens to indicate other information about the words it tokenizes. The tokens above that start with `xx` are special tokens added by FastAI. For example `xxbos` means \"beginning of string\" to mark the beginning of the set of things being tokenized, `xxmaj` means that the next word started with a capital letter, `xxunk` means the next word was unknown, etc. `xxup` means all letters were uppercase, `xxfld 1` means this data was in field 1. This is how FastAI handles the fact that data may have come from more than one field in the incoming CSV: it tags the text that's from that field with a special token at the beginning of that field's data. \n",
    "\n",
    "If spaces aren't useful,  you may ned to use a \"subword\" tokenizer. (note: the book claims that subword tokenizers can handle genomic sequences and MIDI notiation...possible to use subword tokenizers and language models with them to do file analysis? Files could be treated as just a string of hexadecimal values at that point.)"
   ]
  },
  {
   "cell_type": "markdown",
   "metadata": {},
   "source": [
    "Moving on, next we make a text_classifier learner. It may be tempting to try to create a full language learner here, but in my experience the language learners required more RAM than I had available in my GPU (and I've got 8GB).\n",
    "\n",
    "The difference between a language learner and a text classifier appears to be that a language learner learns the corpus to allow it to make predictions about later words given a starting point. So it will generate or finish sentences in the style of the corpus given a starting point. A clasifier on the other hand, will just give you a classification of which label a given text belongs in. "
   ]
  },
  {
   "cell_type": "code",
   "execution_count": 5,
   "metadata": {},
   "outputs": [],
   "source": [
    "learn = text_classifier_learner(dls, AWD_LSTM, drop_mult=0.3, metrics=[accuracy, Perplexity()])"
   ]
  },
  {
   "cell_type": "code",
   "execution_count": 6,
   "metadata": {},
   "outputs": [
    {
     "data": {
      "text/html": [],
      "text/plain": [
       "<IPython.core.display.HTML object>"
      ]
     },
     "metadata": {},
     "output_type": "display_data"
    },
    {
     "data": {
      "text/plain": [
       "SuggestedLRs(lr_min=0.03630780577659607, lr_steep=0.0010000000474974513)"
      ]
     },
     "execution_count": 6,
     "metadata": {},
     "output_type": "execute_result"
    },
    {
     "data": {
      "image/png": "[encoded data removed]",
      "text/plain": [
       "<Figure size 432x288 with 1 Axes>"
      ]
     },
     "metadata": {
      "needs_background": "light"
     },
     "output_type": "display_data"
    }
   ],
   "source": [
    "learn.lr_find()"
   ]
  },
  {
   "cell_type": "markdown",
   "metadata": {},
   "source": [
    "This looks like a fairly typical learning rate curve from a FastAI perspective: It's semi-bathtub-shaped, with a long section with a steeply-dropping loss in the middle. That implies the techniques used by the vanilla FastAI learners will work fairly well here without much modification. Let's try just one cycle:"
   ]
  },
  {
   "cell_type": "code",
   "execution_count": 7,
   "metadata": {},
   "outputs": [
    {
     "data": {
      "text/html": [
       "<table border=\"1\" class=\"dataframe\">\n",
       "  <thead>\n",
       "    <tr style=\"text-align: left;\">\n",
       "      <th>epoch</th>\n",
       "      <th>train_loss</th>\n",
       "      <th>valid_loss</th>\n",
       "      <th>accuracy</th>\n",
       "      <th>perplexity</th>\n",
       "      <th>time</th>\n",
       "    </tr>\n",
       "  </thead>\n",
       "  <tbody>\n",
       "    <tr>\n",
       "      <td>0</td>\n",
       "      <td>0.399221</td>\n",
       "      <td>0.297955</td>\n",
       "      <td>0.873717</td>\n",
       "      <td>1.347101</td>\n",
       "      <td>01:05</td>\n",
       "    </tr>\n",
       "  </tbody>\n",
       "</table>"
      ],
      "text/plain": [
       "<IPython.core.display.HTML object>"
      ]
     },
     "metadata": {},
     "output_type": "display_data"
    }
   ],
   "source": [
    "learn.fit_one_cycle(1)"
   ]
  },
  {
   "cell_type": "markdown",
   "metadata": {},
   "source": [
    "accuracy 87% on one round? Not bad at all. Let's try again, but train for more than one epoch. (this may take a *long* time)"
   ]
  },
  {
   "cell_type": "code",
   "execution_count": 8,
   "metadata": {},
   "outputs": [
    {
     "data": {
      "text/html": [
       "<table border=\"1\" class=\"dataframe\">\n",
       "  <thead>\n",
       "    <tr style=\"text-align: left;\">\n",
       "      <th>epoch</th>\n",
       "      <th>train_loss</th>\n",
       "      <th>valid_loss</th>\n",
       "      <th>accuracy</th>\n",
       "      <th>perplexity</th>\n",
       "      <th>time</th>\n",
       "    </tr>\n",
       "  </thead>\n",
       "  <tbody>\n",
       "    <tr>\n",
       "      <td>0</td>\n",
       "      <td>0.497114</td>\n",
       "      <td>0.359929</td>\n",
       "      <td>0.856354</td>\n",
       "      <td>1.433228</td>\n",
       "      <td>01:07</td>\n",
       "    </tr>\n",
       "    <tr>\n",
       "      <td>1</td>\n",
       "      <td>0.395303</td>\n",
       "      <td>0.291344</td>\n",
       "      <td>0.872139</td>\n",
       "      <td>1.338225</td>\n",
       "      <td>01:06</td>\n",
       "    </tr>\n",
       "    <tr>\n",
       "      <td>2</td>\n",
       "      <td>0.345691</td>\n",
       "      <td>0.261555</td>\n",
       "      <td>0.889503</td>\n",
       "      <td>1.298948</td>\n",
       "      <td>01:05</td>\n",
       "    </tr>\n",
       "    <tr>\n",
       "      <td>3</td>\n",
       "      <td>0.315118</td>\n",
       "      <td>0.254234</td>\n",
       "      <td>0.885556</td>\n",
       "      <td>1.289473</td>\n",
       "      <td>01:05</td>\n",
       "    </tr>\n",
       "    <tr>\n",
       "      <td>4</td>\n",
       "      <td>0.281368</td>\n",
       "      <td>0.244851</td>\n",
       "      <td>0.888713</td>\n",
       "      <td>1.277431</td>\n",
       "      <td>01:05</td>\n",
       "    </tr>\n",
       "    <tr>\n",
       "      <td>5</td>\n",
       "      <td>0.258485</td>\n",
       "      <td>0.251115</td>\n",
       "      <td>0.888713</td>\n",
       "      <td>1.285458</td>\n",
       "      <td>01:07</td>\n",
       "    </tr>\n",
       "    <tr>\n",
       "      <td>6</td>\n",
       "      <td>0.245854</td>\n",
       "      <td>0.248446</td>\n",
       "      <td>0.889503</td>\n",
       "      <td>1.282032</td>\n",
       "      <td>01:05</td>\n",
       "    </tr>\n",
       "    <tr>\n",
       "      <td>7</td>\n",
       "      <td>0.241444</td>\n",
       "      <td>0.261919</td>\n",
       "      <td>0.887924</td>\n",
       "      <td>1.299422</td>\n",
       "      <td>01:05</td>\n",
       "    </tr>\n",
       "  </tbody>\n",
       "</table>"
      ],
      "text/plain": [
       "<IPython.core.display.HTML object>"
      ]
     },
     "metadata": {},
     "output_type": "display_data"
    }
   ],
   "source": [
    "learn = text_classifier_learner(dls, AWD_LSTM, drop_mult=0.3, metrics=[accuracy, Perplexity()])\n",
    "learn.fit_one_cycle(8)"
   ]
  },
  {
   "cell_type": "markdown",
   "metadata": {},
   "source": [
    "89% accuracy. Not much change from the original, and seems to have flatlined at that accuracy.\n",
    "\n",
    "One thing, though: the `drop_mult` is a bit of a magic number that I took from someone else's analysis. FastAI documentation says that `drop_mult` is a common weight to apply to all the kinds of dropout that the library can use. So, turning that up causes more dropout of all kinds, down causes less. Dropout is a method used to avoid overfitting data. With dropout, during training some of the activation values for the non-linear layers in the model are set to 0 for that round, to force the model to see whether simply removing that activation makes things better or worse. In the text classifier, there are actually multiple types of Dropout: at hidden, input, embed, and weight. These set the probability the learner will disable a given activation (in effect the % of activations that will be disabled in a  given batch). \n",
    "\n",
    "Let's see what happens if we change that value for this dataset."
   ]
  },
  {
   "cell_type": "code",
   "execution_count": 9,
   "metadata": {},
   "outputs": [
    {
     "data": {
      "text/html": [
       "<table border=\"1\" class=\"dataframe\">\n",
       "  <thead>\n",
       "    <tr style=\"text-align: left;\">\n",
       "      <th>epoch</th>\n",
       "      <th>train_loss</th>\n",
       "      <th>valid_loss</th>\n",
       "      <th>accuracy</th>\n",
       "      <th>perplexity</th>\n",
       "      <th>time</th>\n",
       "    </tr>\n",
       "  </thead>\n",
       "  <tbody>\n",
       "    <tr>\n",
       "      <td>0</td>\n",
       "      <td>0.491514</td>\n",
       "      <td>0.459929</td>\n",
       "      <td>0.779795</td>\n",
       "      <td>1.583961</td>\n",
       "      <td>01:05</td>\n",
       "    </tr>\n",
       "  </tbody>\n",
       "</table>"
      ],
      "text/plain": [
       "<IPython.core.display.HTML object>"
      ]
     },
     "metadata": {},
     "output_type": "display_data"
    }
   ],
   "source": [
    "learn = text_classifier_learner(dls, AWD_LSTM, drop_mult=1, metrics=[accuracy, Perplexity()])\n",
    "learn.fit_one_cycle(1)"
   ]
  },
  {
   "cell_type": "markdown",
   "metadata": {},
   "source": [
    "well, that's a good deal less accurate on a first run. Perhaps a bit smaller?"
   ]
  },
  {
   "cell_type": "code",
   "execution_count": 10,
   "metadata": {},
   "outputs": [
    {
     "data": {
      "text/html": [
       "<table border=\"1\" class=\"dataframe\">\n",
       "  <thead>\n",
       "    <tr style=\"text-align: left;\">\n",
       "      <th>epoch</th>\n",
       "      <th>train_loss</th>\n",
       "      <th>valid_loss</th>\n",
       "      <th>accuracy</th>\n",
       "      <th>perplexity</th>\n",
       "      <th>time</th>\n",
       "    </tr>\n",
       "  </thead>\n",
       "  <tbody>\n",
       "    <tr>\n",
       "      <td>0</td>\n",
       "      <td>0.463297</td>\n",
       "      <td>0.375833</td>\n",
       "      <td>0.819258</td>\n",
       "      <td>1.456203</td>\n",
       "      <td>01:05</td>\n",
       "    </tr>\n",
       "  </tbody>\n",
       "</table>"
      ],
      "text/plain": [
       "<IPython.core.display.HTML object>"
      ]
     },
     "metadata": {},
     "output_type": "display_data"
    }
   ],
   "source": [
    "learn = text_classifier_learner(dls, AWD_LSTM, drop_mult=0.7, metrics=[accuracy, Perplexity()])\n",
    "learn.fit_one_cycle(1)"
   ]
  },
  {
   "cell_type": "markdown",
   "metadata": {},
   "source": [
    "82%...still worse than the original 0.3 guess. Let's try setting it smaller than 0.3."
   ]
  },
  {
   "cell_type": "code",
   "execution_count": 11,
   "metadata": {},
   "outputs": [
    {
     "data": {
      "text/html": [
       "<table border=\"1\" class=\"dataframe\">\n",
       "  <thead>\n",
       "    <tr style=\"text-align: left;\">\n",
       "      <th>epoch</th>\n",
       "      <th>train_loss</th>\n",
       "      <th>valid_loss</th>\n",
       "      <th>accuracy</th>\n",
       "      <th>perplexity</th>\n",
       "      <th>time</th>\n",
       "    </tr>\n",
       "  </thead>\n",
       "  <tbody>\n",
       "    <tr>\n",
       "      <td>0</td>\n",
       "      <td>0.401169</td>\n",
       "      <td>0.311660</td>\n",
       "      <td>0.874507</td>\n",
       "      <td>1.365691</td>\n",
       "      <td>01:05</td>\n",
       "    </tr>\n",
       "  </tbody>\n",
       "</table>"
      ],
      "text/plain": [
       "<IPython.core.display.HTML object>"
      ]
     },
     "metadata": {},
     "output_type": "display_data"
    }
   ],
   "source": [
    "learn = text_classifier_learner(dls, AWD_LSTM, drop_mult=0.2, metrics=[accuracy, Perplexity()])\n",
    "learn.fit_one_cycle(1)"
   ]
  },
  {
   "cell_type": "markdown",
   "metadata": {},
   "source": [
    "ooh. it's slightly better. Apparently we can't turn dropout off entirely (pytorch exceptions somewhere under the hood). Let's try setting it even lower."
   ]
  },
  {
   "cell_type": "code",
   "execution_count": 12,
   "metadata": {},
   "outputs": [
    {
     "data": {
      "text/html": [
       "<table border=\"1\" class=\"dataframe\">\n",
       "  <thead>\n",
       "    <tr style=\"text-align: left;\">\n",
       "      <th>epoch</th>\n",
       "      <th>train_loss</th>\n",
       "      <th>valid_loss</th>\n",
       "      <th>accuracy</th>\n",
       "      <th>perplexity</th>\n",
       "      <th>time</th>\n",
       "    </tr>\n",
       "  </thead>\n",
       "  <tbody>\n",
       "    <tr>\n",
       "      <td>0</td>\n",
       "      <td>0.384740</td>\n",
       "      <td>0.294898</td>\n",
       "      <td>0.875296</td>\n",
       "      <td>1.342989</td>\n",
       "      <td>01:06</td>\n",
       "    </tr>\n",
       "  </tbody>\n",
       "</table>"
      ],
      "text/plain": [
       "<IPython.core.display.HTML object>"
      ]
     },
     "metadata": {},
     "output_type": "display_data"
    }
   ],
   "source": [
    "learn = text_classifier_learner(dls, AWD_LSTM, drop_mult=0.01, metrics=[accuracy, Perplexity()])\n",
    "learn.fit_one_cycle(1)"
   ]
  },
  {
   "cell_type": "markdown",
   "metadata": {},
   "source": [
    "89% on one round. Not bad. Let's try multiple rounds with very little dropout."
   ]
  },
  {
   "cell_type": "code",
   "execution_count": 13,
   "metadata": {},
   "outputs": [
    {
     "data": {
      "text/html": [
       "<table border=\"1\" class=\"dataframe\">\n",
       "  <thead>\n",
       "    <tr style=\"text-align: left;\">\n",
       "      <th>epoch</th>\n",
       "      <th>train_loss</th>\n",
       "      <th>valid_loss</th>\n",
       "      <th>accuracy</th>\n",
       "      <th>perplexity</th>\n",
       "      <th>time</th>\n",
       "    </tr>\n",
       "  </thead>\n",
       "  <tbody>\n",
       "    <tr>\n",
       "      <td>0</td>\n",
       "      <td>0.428597</td>\n",
       "      <td>0.288850</td>\n",
       "      <td>0.880821</td>\n",
       "      <td>1.334892</td>\n",
       "      <td>01:05</td>\n",
       "    </tr>\n",
       "    <tr>\n",
       "      <td>1</td>\n",
       "      <td>0.313833</td>\n",
       "      <td>0.257216</td>\n",
       "      <td>0.894238</td>\n",
       "      <td>1.293325</td>\n",
       "      <td>01:06</td>\n",
       "    </tr>\n",
       "    <tr>\n",
       "      <td>2</td>\n",
       "      <td>0.257035</td>\n",
       "      <td>0.234647</td>\n",
       "      <td>0.906077</td>\n",
       "      <td>1.264462</td>\n",
       "      <td>01:07</td>\n",
       "    </tr>\n",
       "    <tr>\n",
       "      <td>3</td>\n",
       "      <td>0.203199</td>\n",
       "      <td>0.233756</td>\n",
       "      <td>0.902131</td>\n",
       "      <td>1.263336</td>\n",
       "      <td>01:05</td>\n",
       "    </tr>\n",
       "  </tbody>\n",
       "</table>"
      ],
      "text/plain": [
       "<IPython.core.display.HTML object>"
      ]
     },
     "metadata": {},
     "output_type": "display_data"
    }
   ],
   "source": [
    "learn = text_classifier_learner(dls, AWD_LSTM, drop_mult=0.01, metrics=[accuracy, Perplexity()])\n",
    "learn.fit_one_cycle(4)"
   ]
  },
  {
   "cell_type": "markdown",
   "metadata": {},
   "source": [
    "A bit of an improvement in accuracy, but seems to be plateauing. One warning, though: the `train_loss` is getting smaller than the `valid_loss`, which seems to be plateau'ing. That's a sign that we need to turn the dropout back up, since it might be memorizing our input data set. "
   ]
  },
  {
   "cell_type": "markdown",
   "metadata": {},
   "source": [
    "after reading a little more, it turns out that the fastai folks don't recommend doing multiple rounds like this. They say that better results are gained by doing a series of `fit_one_cycle(1)` calls, followed by `freeze_to(-x)` calls with increasing negative arguments.\n",
    "\n",
    "What that does is fit the last layers in the model one by one, rather than all at once. Their example does three layers, then unfreezes the whole model and does a fit across.\n",
    "\n",
    "Let's try that.\n",
    "\n",
    "One thing: this ran out of RAM at the `freeze_to(-3)` stage the first time I tried it, so I think we have to re-create the dataloader for this with a smaller batch size."
   ]
  },
  {
   "cell_type": "code",
   "execution_count": 14,
   "metadata": {},
   "outputs": [
    {
     "data": {
      "text/html": [],
      "text/plain": [
       "<IPython.core.display.HTML object>"
      ]
     },
     "metadata": {},
     "output_type": "display_data"
    },
    {
     "name": "stderr",
     "output_type": "stream",
     "text": [
      "/home/g-clef/anaconda3/lib/python3.8/site-packages/numpy/core/_asarray.py:83: VisibleDeprecationWarning: Creating an ndarray from ragged nested sequences (which is a list-or-tuple of lists-or-tuples-or ndarrays with different lengths or shapes) is deprecated. If you meant to do this, you must specify 'dtype=object' when creating the ndarray\n",
      "  return array(a, dtype, copy=False, order=order)\n"
     ]
    }
   ],
   "source": [
    "dls = TextDataLoaders.from_csv(path=path, csv_fname=\"news.csv\", text_col=[\"title\", \"text\"], label_col=\"label\", valid_pct=0.2, bs=8)\n",
    "learn = text_classifier_learner(dls, AWD_LSTM, drop_mult=0.2, metrics=[accuracy, Perplexity()])"
   ]
  },
  {
   "cell_type": "code",
   "execution_count": 15,
   "metadata": {},
   "outputs": [
    {
     "data": {
      "text/html": [
       "<table border=\"1\" class=\"dataframe\">\n",
       "  <thead>\n",
       "    <tr style=\"text-align: left;\">\n",
       "      <th>epoch</th>\n",
       "      <th>train_loss</th>\n",
       "      <th>valid_loss</th>\n",
       "      <th>accuracy</th>\n",
       "      <th>perplexity</th>\n",
       "      <th>time</th>\n",
       "    </tr>\n",
       "  </thead>\n",
       "  <tbody>\n",
       "    <tr>\n",
       "      <td>0</td>\n",
       "      <td>0.422103</td>\n",
       "      <td>0.289651</td>\n",
       "      <td>0.883978</td>\n",
       "      <td>1.335962</td>\n",
       "      <td>03:38</td>\n",
       "    </tr>\n",
       "  </tbody>\n",
       "</table>"
      ],
      "text/plain": [
       "<IPython.core.display.HTML object>"
      ]
     },
     "metadata": {},
     "output_type": "display_data"
    }
   ],
   "source": [
    "learn.fit_one_cycle(1)"
   ]
  },
  {
   "cell_type": "code",
   "execution_count": 16,
   "metadata": {},
   "outputs": [
    {
     "data": {
      "text/html": [
       "<table border=\"1\" class=\"dataframe\">\n",
       "  <thead>\n",
       "    <tr style=\"text-align: left;\">\n",
       "      <th>epoch</th>\n",
       "      <th>train_loss</th>\n",
       "      <th>valid_loss</th>\n",
       "      <th>accuracy</th>\n",
       "      <th>perplexity</th>\n",
       "      <th>time</th>\n",
       "    </tr>\n",
       "  </thead>\n",
       "  <tbody>\n",
       "    <tr>\n",
       "      <td>0</td>\n",
       "      <td>0.369540</td>\n",
       "      <td>0.214328</td>\n",
       "      <td>0.928177</td>\n",
       "      <td>1.239029</td>\n",
       "      <td>04:24</td>\n",
       "    </tr>\n",
       "  </tbody>\n",
       "</table>"
      ],
      "text/plain": [
       "<IPython.core.display.HTML object>"
      ]
     },
     "metadata": {},
     "output_type": "display_data"
    }
   ],
   "source": [
    "learn.freeze_to(-2)\n",
    "learn.fit_one_cycle(1)"
   ]
  },
  {
   "cell_type": "code",
   "execution_count": 17,
   "metadata": {},
   "outputs": [
    {
     "data": {
      "text/html": [
       "<table border=\"1\" class=\"dataframe\">\n",
       "  <thead>\n",
       "    <tr style=\"text-align: left;\">\n",
       "      <th>epoch</th>\n",
       "      <th>train_loss</th>\n",
       "      <th>valid_loss</th>\n",
       "      <th>accuracy</th>\n",
       "      <th>perplexity</th>\n",
       "      <th>time</th>\n",
       "    </tr>\n",
       "  </thead>\n",
       "  <tbody>\n",
       "    <tr>\n",
       "      <td>0</td>\n",
       "      <td>0.309182</td>\n",
       "      <td>0.171190</td>\n",
       "      <td>0.931334</td>\n",
       "      <td>1.186716</td>\n",
       "      <td>05:25</td>\n",
       "    </tr>\n",
       "  </tbody>\n",
       "</table>"
      ],
      "text/plain": [
       "<IPython.core.display.HTML object>"
      ]
     },
     "metadata": {},
     "output_type": "display_data"
    }
   ],
   "source": [
    "learn.freeze_to(-3)\n",
    "learn.fit_one_cycle(1)"
   ]
  },
  {
   "cell_type": "code",
   "execution_count": 18,
   "metadata": {},
   "outputs": [
    {
     "data": {
      "text/html": [
       "<table border=\"1\" class=\"dataframe\">\n",
       "  <thead>\n",
       "    <tr style=\"text-align: left;\">\n",
       "      <th>epoch</th>\n",
       "      <th>train_loss</th>\n",
       "      <th>valid_loss</th>\n",
       "      <th>accuracy</th>\n",
       "      <th>perplexity</th>\n",
       "      <th>time</th>\n",
       "    </tr>\n",
       "  </thead>\n",
       "  <tbody>\n",
       "    <tr>\n",
       "      <td>0</td>\n",
       "      <td>0.218524</td>\n",
       "      <td>0.099522</td>\n",
       "      <td>0.966851</td>\n",
       "      <td>1.104643</td>\n",
       "      <td>07:04</td>\n",
       "    </tr>\n",
       "    <tr>\n",
       "      <td>1</td>\n",
       "      <td>0.130463</td>\n",
       "      <td>0.165690</td>\n",
       "      <td>0.957380</td>\n",
       "      <td>1.180207</td>\n",
       "      <td>07:03</td>\n",
       "    </tr>\n",
       "    <tr>\n",
       "      <td>2</td>\n",
       "      <td>0.128321</td>\n",
       "      <td>0.328811</td>\n",
       "      <td>0.954223</td>\n",
       "      <td>1.389315</td>\n",
       "      <td>07:01</td>\n",
       "    </tr>\n",
       "    <tr>\n",
       "      <td>3</td>\n",
       "      <td>0.061000</td>\n",
       "      <td>0.192668</td>\n",
       "      <td>0.962115</td>\n",
       "      <td>1.212480</td>\n",
       "      <td>07:04</td>\n",
       "    </tr>\n",
       "    <tr>\n",
       "      <td>4</td>\n",
       "      <td>0.066970</td>\n",
       "      <td>0.154391</td>\n",
       "      <td>0.965272</td>\n",
       "      <td>1.166947</td>\n",
       "      <td>07:04</td>\n",
       "    </tr>\n",
       "  </tbody>\n",
       "</table>"
      ],
      "text/plain": [
       "<IPython.core.display.HTML object>"
      ]
     },
     "metadata": {},
     "output_type": "display_data"
    }
   ],
   "source": [
    "learn.unfreeze()\n",
    "learn.fit_one_cycle(5)"
   ]
  },
  {
   "cell_type": "markdown",
   "metadata": {},
   "source": [
    "97%. Just wow. I'm a little concerned that this is over-fit, though, since the `train_loss` is smaller than the `valid_loss` (which is what the FastAI folks say to watch out for when training). Also, `valid_loss` is flatlining, and sometimes going *up*, which is another indication that it's overfit."
   ]
  },
  {
   "cell_type": "markdown",
   "metadata": {},
   "source": [
    "Before we go deeper into what it's doing, let's have a little fun & see what it does with predicting the classification of some sentences"
   ]
  },
  {
   "cell_type": "code",
   "execution_count": 19,
   "metadata": {},
   "outputs": [
    {
     "data": {
      "text/html": [],
      "text/plain": [
       "<IPython.core.display.HTML object>"
      ]
     },
     "metadata": {},
     "output_type": "display_data"
    },
    {
     "data": {
      "text/plain": [
       "('FAKE', tensor(0), tensor([1.0000e+00, 2.9312e-06]))"
      ]
     },
     "execution_count": 19,
     "metadata": {},
     "output_type": "execute_result"
    }
   ],
   "source": [
    "starting_word = \"This is a lie\"\n",
    "learn.predict(starting_word)"
   ]
  },
  {
   "cell_type": "code",
   "execution_count": 20,
   "metadata": {},
   "outputs": [
    {
     "data": {
      "text/html": [],
      "text/plain": [
       "<IPython.core.display.HTML object>"
      ]
     },
     "metadata": {},
     "output_type": "display_data"
    },
    {
     "data": {
      "text/plain": [
       "('FAKE', tensor(0), tensor([9.9908e-01, 9.2202e-04]))"
      ]
     },
     "execution_count": 20,
     "metadata": {},
     "output_type": "execute_result"
    }
   ],
   "source": [
    "starting = \"Is is possible that the length of a string has an impact on whether it's classified as fake? Let's see. This may also trigger on the fact that there are multiple sentences here.\"\n",
    "learn.predict(starting)"
   ]
  },
  {
   "cell_type": "code",
   "execution_count": 21,
   "metadata": {},
   "outputs": [
    {
     "data": {
      "text/html": [],
      "text/plain": [
       "<IPython.core.display.HTML object>"
      ]
     },
     "metadata": {},
     "output_type": "display_data"
    },
    {
     "data": {
      "text/plain": [
       "('FAKE', tensor(0), tensor([9.9981e-01, 1.9177e-04]))"
      ]
     },
     "execution_count": 21,
     "metadata": {},
     "output_type": "execute_result"
    }
   ],
   "source": [
    "starting = \"This is a lie. This is a lie. This is a lie. This is a lie. This is a lie.\"\n",
    "learn.predict(starting)"
   ]
  },
  {
   "cell_type": "markdown",
   "metadata": {},
   "source": [
    "huh. They're all fake. How do I get a real one? Let's grab an actual story from 2016 that wasn't in the original dataset & see how it classifies"
   ]
  },
  {
   "cell_type": "code",
   "execution_count": 22,
   "metadata": {},
   "outputs": [
    {
     "data": {
      "text/html": [],
      "text/plain": [
       "<IPython.core.display.HTML object>"
      ]
     },
     "metadata": {},
     "output_type": "display_data"
    },
    {
     "data": {
      "text/plain": [
       "('FAKE', tensor(0), tensor([0.9572, 0.0428]))"
      ]
     },
     "execution_count": 22,
     "metadata": {},
     "output_type": "execute_result"
    }
   ],
   "source": [
    "body = \"\"\"President Obama called it, \"an attack of terror and an attack of hate.\" Omar Mateen's early June rampage, in which he gunned down 50 people in the gay nightclub near downtown Orlando, was the deadliest mass shooting in United States history. His comments and perceived allegiance to the Islamic State extremist group were reported as well as reports he had anti-gay views. The FBI said before the 29-year-old committed the massacre, he made allusions to the Islamic State in communications with the agency. Authorities also said Mateen praised allegiance to the Islamic State before he was killed in a hail of gunfire.\"\"\"\n",
    "learn.predict(body)"
   ]
  },
  {
   "cell_type": "markdown",
   "metadata": {},
   "source": [
    "Well that's problematic, because it's literally pulled from USA Today's top stories of 2016, and is absolutely true. It's looking like the model might have overfitted & memorized the dataset. From what the fastAI folks are saying, if `training_loss` << `validation_loss` (which it was during training above), when  you're likely in a case where it's memorized the data. I'm going to leave this in the notebook to show what it looks like when the model overfits.\n",
    "\n",
    "Let's re-do the model, with just one epoch at the final round"
   ]
  },
  {
   "cell_type": "code",
   "execution_count": 23,
   "metadata": {},
   "outputs": [
    {
     "data": {
      "text/html": [],
      "text/plain": [
       "<IPython.core.display.HTML object>"
      ]
     },
     "metadata": {},
     "output_type": "display_data"
    },
    {
     "name": "stderr",
     "output_type": "stream",
     "text": [
      "/home/g-clef/anaconda3/lib/python3.8/site-packages/numpy/core/_asarray.py:83: VisibleDeprecationWarning: Creating an ndarray from ragged nested sequences (which is a list-or-tuple of lists-or-tuples-or ndarrays with different lengths or shapes) is deprecated. If you meant to do this, you must specify 'dtype=object' when creating the ndarray\n",
      "  return array(a, dtype, copy=False, order=order)\n"
     ]
    },
    {
     "data": {
      "text/html": [
       "<table border=\"1\" class=\"dataframe\">\n",
       "  <thead>\n",
       "    <tr style=\"text-align: left;\">\n",
       "      <th>epoch</th>\n",
       "      <th>train_loss</th>\n",
       "      <th>valid_loss</th>\n",
       "      <th>accuracy</th>\n",
       "      <th>perplexity</th>\n",
       "      <th>time</th>\n",
       "    </tr>\n",
       "  </thead>\n",
       "  <tbody>\n",
       "    <tr>\n",
       "      <td>0</td>\n",
       "      <td>0.406310</td>\n",
       "      <td>0.295760</td>\n",
       "      <td>0.873717</td>\n",
       "      <td>1.344147</td>\n",
       "      <td>03:37</td>\n",
       "    </tr>\n",
       "  </tbody>\n",
       "</table>"
      ],
      "text/plain": [
       "<IPython.core.display.HTML object>"
      ]
     },
     "metadata": {},
     "output_type": "display_data"
    },
    {
     "data": {
      "text/html": [
       "<table border=\"1\" class=\"dataframe\">\n",
       "  <thead>\n",
       "    <tr style=\"text-align: left;\">\n",
       "      <th>epoch</th>\n",
       "      <th>train_loss</th>\n",
       "      <th>valid_loss</th>\n",
       "      <th>accuracy</th>\n",
       "      <th>perplexity</th>\n",
       "      <th>time</th>\n",
       "    </tr>\n",
       "  </thead>\n",
       "  <tbody>\n",
       "    <tr>\n",
       "      <td>0</td>\n",
       "      <td>0.339188</td>\n",
       "      <td>0.223076</td>\n",
       "      <td>0.929755</td>\n",
       "      <td>1.249916</td>\n",
       "      <td>04:26</td>\n",
       "    </tr>\n",
       "  </tbody>\n",
       "</table>"
      ],
      "text/plain": [
       "<IPython.core.display.HTML object>"
      ]
     },
     "metadata": {},
     "output_type": "display_data"
    },
    {
     "data": {
      "text/html": [
       "<table border=\"1\" class=\"dataframe\">\n",
       "  <thead>\n",
       "    <tr style=\"text-align: left;\">\n",
       "      <th>epoch</th>\n",
       "      <th>train_loss</th>\n",
       "      <th>valid_loss</th>\n",
       "      <th>accuracy</th>\n",
       "      <th>perplexity</th>\n",
       "      <th>time</th>\n",
       "    </tr>\n",
       "  </thead>\n",
       "  <tbody>\n",
       "    <tr>\n",
       "      <td>0</td>\n",
       "      <td>0.327676</td>\n",
       "      <td>0.174649</td>\n",
       "      <td>0.930545</td>\n",
       "      <td>1.190829</td>\n",
       "      <td>05:25</td>\n",
       "    </tr>\n",
       "  </tbody>\n",
       "</table>"
      ],
      "text/plain": [
       "<IPython.core.display.HTML object>"
      ]
     },
     "metadata": {},
     "output_type": "display_data"
    },
    {
     "data": {
      "text/html": [
       "<table border=\"1\" class=\"dataframe\">\n",
       "  <thead>\n",
       "    <tr style=\"text-align: left;\">\n",
       "      <th>epoch</th>\n",
       "      <th>train_loss</th>\n",
       "      <th>valid_loss</th>\n",
       "      <th>accuracy</th>\n",
       "      <th>perplexity</th>\n",
       "      <th>time</th>\n",
       "    </tr>\n",
       "  </thead>\n",
       "  <tbody>\n",
       "    <tr>\n",
       "      <td>0</td>\n",
       "      <td>0.165439</td>\n",
       "      <td>0.110357</td>\n",
       "      <td>0.952644</td>\n",
       "      <td>1.116677</td>\n",
       "      <td>07:02</td>\n",
       "    </tr>\n",
       "  </tbody>\n",
       "</table>"
      ],
      "text/plain": [
       "<IPython.core.display.HTML object>"
      ]
     },
     "metadata": {},
     "output_type": "display_data"
    }
   ],
   "source": [
    "dls = TextDataLoaders.from_csv(path=path, csv_fname=\"news.csv\", text_col=[\"title\", \"text\"], label_col=\"label\", valid_pct=0.2, bs=8)\n",
    "learn = text_classifier_learner(dls, AWD_LSTM, drop_mult=0.2, metrics=[accuracy, Perplexity()])\n",
    "learn.fit_one_cycle(1)\n",
    "learn.freeze_to(-2)\n",
    "learn.fit_one_cycle(1)\n",
    "learn.freeze_to(-3)\n",
    "learn.fit_one_cycle(1)\n",
    "learn.unfreeze()\n",
    "learn.fit_one_cycle(1)"
   ]
  },
  {
   "cell_type": "markdown",
   "metadata": {},
   "source": [
    "95%. with similar `train_loss` and `valid_loss`. Okay. Let's see how it handles the USA Today article"
   ]
  },
  {
   "cell_type": "code",
   "execution_count": 24,
   "metadata": {},
   "outputs": [
    {
     "data": {
      "text/html": [],
      "text/plain": [
       "<IPython.core.display.HTML object>"
      ]
     },
     "metadata": {},
     "output_type": "display_data"
    },
    {
     "data": {
      "text/plain": [
       "('REAL', tensor(1), tensor([0.4933, 0.5067]))"
      ]
     },
     "execution_count": 24,
     "metadata": {},
     "output_type": "execute_result"
    }
   ],
   "source": [
    "body = \"\"\"President Obama called it, \"an attack of terror and an attack of hate.\" Omar Mateen's early June rampage, in which he gunned down 50 people in the gay nightclub near downtown Orlando, was the deadliest mass shooting in United States history. His comments and perceived allegiance to the Islamic State extremist group were reported as well as reports he had anti-gay views. The FBI said before the 29-year-old committed the massacre, he made allusions to the Islamic State in communications with the agency. Authorities also said Mateen praised allegiance to the Islamic State before he was killed in a hail of gunfire.\"\"\"\n",
    "learn.predict(body)"
   ]
  },
  {
   "cell_type": "markdown",
   "metadata": {},
   "source": [
    "Real! woot. Not very *confident* about that, but sweet. Let's try adding some blank lines, since the other articles all had blank lines. "
   ]
  },
  {
   "cell_type": "code",
   "execution_count": 25,
   "metadata": {},
   "outputs": [
    {
     "data": {
      "text/html": [],
      "text/plain": [
       "<IPython.core.display.HTML object>"
      ]
     },
     "metadata": {},
     "output_type": "display_data"
    },
    {
     "data": {
      "text/plain": [
       "('REAL', tensor(1), tensor([0.0074, 0.9926]))"
      ]
     },
     "execution_count": 25,
     "metadata": {},
     "output_type": "execute_result"
    }
   ],
   "source": [
    "body = \"\"\"President Obama called it, \"an attack of terror and an attack of hate.\" \\n\\nOmar Mateen's early June rampage, in which he gunned down 50 people in the gay nightclub near downtown Orlando, was the deadliest mass shooting in United States history. His comments and perceived allegiance to the Islamic State extremist group were reported as well as reports he had anti-gay views. The FBI said before the 29-year-old committed the massacre, he made allusions to the Islamic State in communications with the agency. \\n\\nAuthorities also said Mateen praised allegiance to the Islamic State before he was killed in a hail of gunfire.\\n\"\"\"\n",
    "learn.predict(body)"
   ]
  },
  {
   "cell_type": "markdown",
   "metadata": {},
   "source": [
    "Nice. Now it's 99% confident it's real. Interesting that just adding a couple newlines brought it up by > 40%. Clearly it learned something about the documents that real ones had blank lines. \n",
    "\n",
    "Out of curiosity, let's try to find how the original data was collected, to see if we can just get another one outside the set to validate.  Apparently the dataset came from this blog post: https://opendatascience.com/how-to-build-a-fake-news-classification-model/ , where he says he got the fake entries from a kaggle competition, and teh real ones from scraping a site called \"allsides.com\". So let's try grabbing an article from allsides & seeing if that comes back as \"REAL\""
   ]
  },
  {
   "cell_type": "code",
   "execution_count": 27,
   "metadata": {},
   "outputs": [
    {
     "data": {
      "text/html": [],
      "text/plain": [
       "<IPython.core.display.HTML object>"
      ]
     },
     "metadata": {},
     "output_type": "display_data"
    },
    {
     "data": {
      "text/plain": [
       "('FAKE', tensor(0), tensor([0.7549, 0.2451]))"
      ]
     },
     "execution_count": 27,
     "metadata": {},
     "output_type": "execute_result"
    }
   ],
   "source": [
    "body = \"\"\"By Daniel Dale, Holmes Lybrand and Tara Subramaniam, CNN\n",
    "\n",
    "Washington (CNN) In an opinion article published on Wednesday, former Vice President Mike Pence did something he used to do in office: echo a lie from former President Donald Trump in a slightly more sophisticated way.\n",
    "Pence's op-ed, published on the Daily Signal website run by the conservative think tank The Heritage Foundation, was mostly filled with attacks on a Democratic elections reform bill known as HR 1.\n",
    "But Pence also made claims about what happened in the 2020 election. Most notably, he began the article by claiming that the election involved \"significant voting irregularities.\"\n",
    "\n",
    "Unlike Trump, Pence did not say the election involved significant \"fraud.\" But he left his vaguer claim about \"voting irregularities\" wide open for readers to interpret as an endorsement of Trump's fraud lie.\n",
    "\n",
    "Facts First: There is no evidence of widespread fraud in the 2020 election. Trump-appointed FBI Director Christopher Wray, who remains in the job under President Joe Biden, testified to Congress on Tuesday that the FBI is \"not aware of any widespread evidence of voter fraud that would have affected the outcome in the election.\" Trump-appointed former Attorney General William Barr said in December, when he was still in the position, that the Justice Department had not seen any such evidence. And no court has endorsed the claim that there was major fraud in the election.\n",
    "\n",
    "Pence's claims about HR 1\n",
    "Now let's turn to Pence's more specific claims about HR 1, which is also known as the For the People Act. The bill would make major changes to numerous elections rules; it also contains significant provisions on government ethics.\n",
    "\n",
    "Voter identification\n",
    "Pence claimed that under the bill, \"voter ID would be banned from coast to coast.\"\n",
    "Facts First: This is false. The bill does not prohibit states from having voter identification requirements. Rather, it requires states to allow voters who do not show ID to instead submit a signed statement under penalty of perjury attesting to their identity and eligibility to vote.\n",
    "Pence could fairly argue that this provision weakens voter ID rules; Heritage Action for America, an advocacy organization connected to The Heritage Foundation, has argued that the provision \"sabotages\" and \"undermines\" state rules. But Pence's declaration that voter ID would be \"banned\" is not true.\n",
    "Undocumented immigrants and voting\n",
    "Pence suggested that the bill would allow undocumented immigrants to register to vote. Specifically, he claimed that by requiring \"automatic voter registration for any individual listed in state and federal government databases,\" like the Department of Motor Vehicles and welfare offices, the bill would ensure \"that millions of illegal immigrants are quickly registered to vote.\"\n",
    "Facts First: This is false. The bill does not change current law that bans people who aren't citizens of the United States, including undocumented immigrants, from voting in federal elections. The bill makes clear that people would still have to affirm that they are US citizens before they are added to the voter rolls. It also says that the government agencies involved in the process are to inform only US citizens that they will be registered to vote unless they choose to opt out. And it says the agencies are required to send state elections officials not only people's names but \"information showing that the individual is a citizen of the United States.\"\n",
    "It is true that in states that already have automatic voter registration, there have sometimes been errors that resulted in non-citizens getting registered to vote. But there are also errors in states without automatic voter registration. Daniel Weiner, deputy director of the Election Reform Program at New York University's liberal Brennan Center for Justice, said in an interview that automatic voter registration \"increases the accuracy\" of the voter rolls, \"not the other way around.\"\n",
    "Regardless: Pence was wrong in suggesting that \"any individual\" listed in government databases would be registered to vote regardless of their citizenship status. \n",
    "\n",
    "\"\"\"\n",
    "learn.predict(body)"
   ]
  },
  {
   "cell_type": "markdown",
   "metadata": {},
   "source": [
    "Well, that's interesting. This one is also absolutely real, with newlines, but it being flagged as FAKE.\n",
    "\n",
    "Before we dig into that, let's save the model so we can reload it later without having to re-do all the training above (which took a long time)."
   ]
  },
  {
   "cell_type": "code",
   "execution_count": 30,
   "metadata": {},
   "outputs": [
    {
     "data": {
      "text/plain": [
       "Path('/home/g-clef/turbo_stuff/fake_news_analysis/data/models/unfrozen_training.pth')"
      ]
     },
     "execution_count": 30,
     "metadata": {},
     "output_type": "execute_result"
    }
   ],
   "source": [
    "learn.save(\"unfrozen_training\")"
   ]
  },
  {
   "cell_type": "markdown",
   "metadata": {},
   "source": [
    "Last question: what is the model looking at to make the classification determination? Can we introspect the model to see what it's learned?"
   ]
  },
  {
   "cell_type": "code",
   "execution_count": 31,
   "metadata": {},
   "outputs": [
    {
     "data": {
      "text/plain": [
       "SequentialRNN(\n",
       "  (0): SentenceEncoder(\n",
       "    (module): AWD_LSTM(\n",
       "      (encoder): Embedding(36496, 400, padding_idx=1)\n",
       "      (encoder_dp): EmbeddingDropout(\n",
       "        (emb): Embedding(36496, 400, padding_idx=1)\n",
       "      )\n",
       "      (rnns): ModuleList(\n",
       "        (0): WeightDropout(\n",
       "          (module): LSTM(400, 1152, batch_first=True)\n",
       "        )\n",
       "        (1): WeightDropout(\n",
       "          (module): LSTM(1152, 1152, batch_first=True)\n",
       "        )\n",
       "        (2): WeightDropout(\n",
       "          (module): LSTM(1152, 400, batch_first=True)\n",
       "        )\n",
       "      )\n",
       "      (input_dp): RNNDropout()\n",
       "      (hidden_dps): ModuleList(\n",
       "        (0): RNNDropout()\n",
       "        (1): RNNDropout()\n",
       "        (2): RNNDropout()\n",
       "      )\n",
       "    )\n",
       "  )\n",
       "  (1): PoolingLinearClassifier(\n",
       "    (layers): Sequential(\n",
       "      (0): LinBnDrop(\n",
       "        (0): BatchNorm1d(1200, eps=1e-05, momentum=0.1, affine=True, track_running_stats=True)\n",
       "        (1): Dropout(p=0.08000000000000002, inplace=False)\n",
       "        (2): Linear(in_features=1200, out_features=50, bias=False)\n",
       "        (3): ReLU(inplace=True)\n",
       "      )\n",
       "      (1): LinBnDrop(\n",
       "        (0): BatchNorm1d(50, eps=1e-05, momentum=0.1, affine=True, track_running_stats=True)\n",
       "        (1): Dropout(p=0.1, inplace=False)\n",
       "        (2): Linear(in_features=50, out_features=2, bias=False)\n",
       "      )\n",
       "    )\n",
       "  )\n",
       ")"
      ]
     },
     "execution_count": 31,
     "metadata": {},
     "output_type": "execute_result"
    }
   ],
   "source": [
    "learn.model"
   ]
  },
  {
   "cell_type": "markdown",
   "metadata": {},
   "source": [
    " "
   ]
  }
 ],
 "metadata": {
  "kernelspec": {
   "display_name": "Python 3",
   "language": "python",
   "name": "python3"
  },
  "language_info": {
   "codemirror_mode": {
    "name": "ipython",
    "version": 3
   },
   "file_extension": ".py",
   "mimetype": "text/x-python",
   "name": "python",
   "nbconvert_exporter": "python",
   "pygments_lexer": "ipython3",
   "version": "3.8.2"
  }
 },
 "nbformat": 4,
 "nbformat_minor": 4
}
