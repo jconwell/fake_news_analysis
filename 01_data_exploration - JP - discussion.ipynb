{
 "cells": [
  {
   "cell_type": "markdown",
<<<<<<< HEAD
=======
   "id": "expensive-flavor",
>>>>>>> upstream/jun
   "metadata": {},
   "source": [
    "# Data Set Exploration"
   ]
  },
  {
   "cell_type": "code",
   "execution_count": 1,
<<<<<<< HEAD
=======
   "id": "killing-inventory",
>>>>>>> upstream/jun
   "metadata": {},
   "outputs": [],
   "source": [
    "import numpy as np\n",
    "import pandas as pd\n",
    "import itertools\n",
    "\n",
    "import matplotlib.pyplot as plt\n",
    "import numpy as np\n",
    "from matplotlib import colors\n",
    "from matplotlib.ticker import PercentFormatter"
   ]
  },
  {
   "cell_type": "markdown",
<<<<<<< HEAD
=======
   "id": "impressed-german",
>>>>>>> upstream/jun
   "metadata": {},
   "source": [
    "# `news.csv` Data Set\n",
    "\n",
    "There are 4 columns: \n",
    "\n",
    "- article id\n",
    "- article title\n",
    "- article text\n",
    "- lable\n",
    " \n",
    "How many rows? What does the data look like?"
   ]
  },
  {
   "cell_type": "code",
   "execution_count": 2,
<<<<<<< HEAD
=======
   "id": "metallic-burden",
>>>>>>> upstream/jun
   "metadata": {},
   "outputs": [
    {
     "name": "stdout",
     "output_type": "stream",
     "text": [
      "shape of the dataset: (6335, 4) \n",
      "\n"
     ]
    },
    {
     "data": {
      "text/html": [
       "<div>\n",
       "<style scoped>\n",
       "    .dataframe tbody tr th:only-of-type {\n",
       "        vertical-align: middle;\n",
       "    }\n",
       "\n",
       "    .dataframe tbody tr th {\n",
       "        vertical-align: top;\n",
       "    }\n",
       "\n",
       "    .dataframe thead th {\n",
       "        text-align: right;\n",
       "    }\n",
       "</style>\n",
       "<table border=\"1\" class=\"dataframe\">\n",
       "  <thead>\n",
       "    <tr style=\"text-align: right;\">\n",
       "      <th></th>\n",
       "      <th>Unnamed: 0</th>\n",
       "      <th>title</th>\n",
       "      <th>text</th>\n",
       "      <th>label</th>\n",
       "    </tr>\n",
       "  </thead>\n",
       "  <tbody>\n",
       "    <tr>\n",
       "      <th>0</th>\n",
       "      <td>8476</td>\n",
       "      <td>You Can Smell Hillary’s Fear</td>\n",
       "      <td>Daniel Greenfield, a Shillman Journalism Fello...</td>\n",
       "      <td>FAKE</td>\n",
       "    </tr>\n",
       "    <tr>\n",
       "      <th>1</th>\n",
       "      <td>10294</td>\n",
       "      <td>Watch The Exact Moment Paul Ryan Committed Pol...</td>\n",
       "      <td>Google Pinterest Digg Linkedin Reddit Stumbleu...</td>\n",
       "      <td>FAKE</td>\n",
       "    </tr>\n",
       "    <tr>\n",
       "      <th>2</th>\n",
       "      <td>3608</td>\n",
       "      <td>Kerry to go to Paris in gesture of sympathy</td>\n",
       "      <td>U.S. Secretary of State John F. Kerry said Mon...</td>\n",
       "      <td>REAL</td>\n",
       "    </tr>\n",
       "    <tr>\n",
       "      <th>3</th>\n",
       "      <td>10142</td>\n",
       "      <td>Bernie supporters on Twitter erupt in anger ag...</td>\n",
       "      <td>— Kaydee King (@KaydeeKing) November 9, 2016 T...</td>\n",
       "      <td>FAKE</td>\n",
       "    </tr>\n",
       "    <tr>\n",
       "      <th>4</th>\n",
       "      <td>875</td>\n",
       "      <td>The Battle of New York: Why This Primary Matters</td>\n",
       "      <td>It's primary day in New York and front-runners...</td>\n",
       "      <td>REAL</td>\n",
       "    </tr>\n",
       "    <tr>\n",
       "      <th>5</th>\n",
       "      <td>6903</td>\n",
       "      <td>Tehran, USA</td>\n",
       "      <td>\\nI’m not an immigrant, but my grandparents ...</td>\n",
       "      <td>FAKE</td>\n",
       "    </tr>\n",
       "    <tr>\n",
       "      <th>6</th>\n",
       "      <td>7341</td>\n",
       "      <td>Girl Horrified At What She Watches Boyfriend D...</td>\n",
       "      <td>Share This Baylee Luciani (left), Screenshot o...</td>\n",
       "      <td>FAKE</td>\n",
       "    </tr>\n",
       "    <tr>\n",
       "      <th>7</th>\n",
       "      <td>95</td>\n",
       "      <td>‘Britain’s Schindler’ Dies at 106</td>\n",
       "      <td>A Czech stockbroker who saved more than 650 Je...</td>\n",
       "      <td>REAL</td>\n",
       "    </tr>\n",
       "    <tr>\n",
       "      <th>8</th>\n",
       "      <td>4869</td>\n",
       "      <td>Fact check: Trump and Clinton at the 'commande...</td>\n",
       "      <td>Hillary Clinton and Donald Trump made some ina...</td>\n",
       "      <td>REAL</td>\n",
       "    </tr>\n",
       "    <tr>\n",
       "      <th>9</th>\n",
       "      <td>2909</td>\n",
       "      <td>Iran reportedly makes new push for uranium con...</td>\n",
       "      <td>Iranian negotiators reportedly have made a las...</td>\n",
       "      <td>REAL</td>\n",
       "    </tr>\n",
       "  </tbody>\n",
       "</table>\n",
       "</div>"
      ],
      "text/plain": [
       "   Unnamed: 0                                              title  \\\n",
       "0        8476                       You Can Smell Hillary’s Fear   \n",
       "1       10294  Watch The Exact Moment Paul Ryan Committed Pol...   \n",
       "2        3608        Kerry to go to Paris in gesture of sympathy   \n",
       "3       10142  Bernie supporters on Twitter erupt in anger ag...   \n",
       "4         875   The Battle of New York: Why This Primary Matters   \n",
       "5        6903                                        Tehran, USA   \n",
       "6        7341  Girl Horrified At What She Watches Boyfriend D...   \n",
       "7          95                  ‘Britain’s Schindler’ Dies at 106   \n",
       "8        4869  Fact check: Trump and Clinton at the 'commande...   \n",
       "9        2909  Iran reportedly makes new push for uranium con...   \n",
       "\n",
       "                                                text label  \n",
       "0  Daniel Greenfield, a Shillman Journalism Fello...  FAKE  \n",
       "1  Google Pinterest Digg Linkedin Reddit Stumbleu...  FAKE  \n",
       "2  U.S. Secretary of State John F. Kerry said Mon...  REAL  \n",
       "3  — Kaydee King (@KaydeeKing) November 9, 2016 T...  FAKE  \n",
       "4  It's primary day in New York and front-runners...  REAL  \n",
       "5    \\nI’m not an immigrant, but my grandparents ...  FAKE  \n",
       "6  Share This Baylee Luciani (left), Screenshot o...  FAKE  \n",
       "7  A Czech stockbroker who saved more than 650 Je...  REAL  \n",
       "8  Hillary Clinton and Donald Trump made some ina...  REAL  \n",
       "9  Iranian negotiators reportedly have made a las...  REAL  "
      ]
     },
     "execution_count": 2,
     "metadata": {},
     "output_type": "execute_result"
    }
   ],
   "source": [
    "#Read the data\n",
    "df=pd.read_csv('data/news.csv')\n",
    "\n",
    "#Get shape and head\n",
    "shape = df.shape\n",
    "print(f\"shape of the dataset: {shape} \\n\")\n",
    "\n",
    "df.head(10)"
   ]
  },
  {
   "cell_type": "markdown",
<<<<<<< HEAD
=======
   "id": "packed-observer",
>>>>>>> upstream/jun
   "metadata": {},
   "source": [
    "# Homework\n",
    "\n",
    "### Explore the data\n",
    "\n",
    "Create histograms to show the distributions of the different count columns. Also show histograms for the counts separated by fake and real news. Add markdown cells to the notebook with your observations about the distributions. Are there any differences between fake and real? What about word count vs character count?\n",
    "\n",
    "If you find something in the data that seems interesting that you want to explore add that to the notebook along with your observations.\n",
    "\n",
    "Calculate the min and max character and word counts for title and text columns.\n",
    "\n",
    "Calculate the total number of distinct words across all articles. Note the difference between the max words in the text and the total number of unique words in the dataset.\n"
   ]
  },
  {
   "cell_type": "markdown",
<<<<<<< HEAD
=======
   "id": "reserved-glucose",
>>>>>>> upstream/jun
   "metadata": {},
   "source": [
    "# Explore the character and word count distributions "
   ]
  },
  {
   "cell_type": "code",
   "execution_count": 3,
<<<<<<< HEAD
=======
   "id": "confident-enzyme",
>>>>>>> upstream/jun
   "metadata": {},
   "outputs": [
    {
     "data": {
      "text/html": [
       "<div>\n",
       "<style scoped>\n",
       "    .dataframe tbody tr th:only-of-type {\n",
       "        vertical-align: middle;\n",
       "    }\n",
       "\n",
       "    .dataframe tbody tr th {\n",
       "        vertical-align: top;\n",
       "    }\n",
       "\n",
       "    .dataframe thead th {\n",
       "        text-align: right;\n",
       "    }\n",
       "</style>\n",
       "<table border=\"1\" class=\"dataframe\">\n",
       "  <thead>\n",
       "    <tr style=\"text-align: right;\">\n",
       "      <th></th>\n",
       "      <th>Unnamed: 0</th>\n",
       "      <th>title</th>\n",
       "      <th>text</th>\n",
       "      <th>label</th>\n",
       "      <th>text_len</th>\n",
       "      <th>text_cnt</th>\n",
       "    </tr>\n",
       "  </thead>\n",
       "  <tbody>\n",
       "    <tr>\n",
       "      <th>1851</th>\n",
       "      <td>5752</td>\n",
       "      <td>America’s Senator Jeff Sessions Warns of Worse...</td>\n",
       "      <td></td>\n",
       "      <td>FAKE</td>\n",
       "      <td>1</td>\n",
       "      <td>2</td>\n",
       "    </tr>\n",
       "    <tr>\n",
       "      <th>6064</th>\n",
       "      <td>6127</td>\n",
       "      <td>Radio Derb: Peak White Guilt, PC Now To The LE...</td>\n",
       "      <td></td>\n",
       "      <td>FAKE</td>\n",
       "      <td>1</td>\n",
       "      <td>2</td>\n",
       "    </tr>\n",
       "    <tr>\n",
       "      <th>5581</th>\n",
       "      <td>6800</td>\n",
       "      <td>Automation: Robots from Korea to America Are R...</td>\n",
       "      <td></td>\n",
       "      <td>FAKE</td>\n",
       "      <td>1</td>\n",
       "      <td>2</td>\n",
       "    </tr>\n",
       "    <tr>\n",
       "      <th>6175</th>\n",
       "      <td>7043</td>\n",
       "      <td>Hillary’s High Crimes &amp; Misdemeanors Threaten ...</td>\n",
       "      <td></td>\n",
       "      <td>FAKE</td>\n",
       "      <td>1</td>\n",
       "      <td>2</td>\n",
       "    </tr>\n",
       "    <tr>\n",
       "      <th>5088</th>\n",
       "      <td>8875</td>\n",
       "      <td>Huma Abedin’s Muslim Dad</td>\n",
       "      <td></td>\n",
       "      <td>FAKE</td>\n",
       "      <td>1</td>\n",
       "      <td>2</td>\n",
       "    </tr>\n",
       "    <tr>\n",
       "      <th>1941</th>\n",
       "      <td>7525</td>\n",
       "      <td>Putins Army is coming for World war 3 against ...</td>\n",
       "      <td></td>\n",
       "      <td>FAKE</td>\n",
       "      <td>1</td>\n",
       "      <td>2</td>\n",
       "    </tr>\n",
       "    <tr>\n",
       "      <th>4142</th>\n",
       "      <td>6311</td>\n",
       "      <td>Radio Derb transcript for October 29th is up: ...</td>\n",
       "      <td></td>\n",
       "      <td>FAKE</td>\n",
       "      <td>1</td>\n",
       "      <td>2</td>\n",
       "    </tr>\n",
       "    <tr>\n",
       "      <th>2426</th>\n",
       "      <td>5776</td>\n",
       "      <td>Radio Derb Transcript For October 21 Up: The M...</td>\n",
       "      <td></td>\n",
       "      <td>FAKE</td>\n",
       "      <td>1</td>\n",
       "      <td>2</td>\n",
       "    </tr>\n",
       "    <tr>\n",
       "      <th>2832</th>\n",
       "      <td>6733</td>\n",
       "      <td>The Comey Confrontation: In Our New Third-Worl...</td>\n",
       "      <td></td>\n",
       "      <td>FAKE</td>\n",
       "      <td>1</td>\n",
       "      <td>2</td>\n",
       "    </tr>\n",
       "    <tr>\n",
       "      <th>3511</th>\n",
       "      <td>8240</td>\n",
       "      <td>Democrats Playing Class Card To Split the Whit...</td>\n",
       "      <td></td>\n",
       "      <td>FAKE</td>\n",
       "      <td>1</td>\n",
       "      <td>2</td>\n",
       "    </tr>\n",
       "  </tbody>\n",
       "</table>\n",
       "</div>"
      ],
      "text/plain": [
       "      Unnamed: 0                                              title text  \\\n",
       "1851        5752  America’s Senator Jeff Sessions Warns of Worse...        \n",
       "6064        6127  Radio Derb: Peak White Guilt, PC Now To The LE...        \n",
       "5581        6800  Automation: Robots from Korea to America Are R...        \n",
       "6175        7043  Hillary’s High Crimes & Misdemeanors Threaten ...        \n",
       "5088        8875                           Huma Abedin’s Muslim Dad        \n",
       "1941        7525  Putins Army is coming for World war 3 against ...        \n",
       "4142        6311  Radio Derb transcript for October 29th is up: ...        \n",
       "2426        5776  Radio Derb Transcript For October 21 Up: The M...        \n",
       "2832        6733  The Comey Confrontation: In Our New Third-Worl...        \n",
       "3511        8240  Democrats Playing Class Card To Split the Whit...        \n",
       "\n",
       "     label  text_len  text_cnt  \n",
       "1851  FAKE         1         2  \n",
       "6064  FAKE         1         2  \n",
       "5581  FAKE         1         2  \n",
       "6175  FAKE         1         2  \n",
       "5088  FAKE         1         2  \n",
       "1941  FAKE         1         2  \n",
       "4142  FAKE         1         2  \n",
       "2426  FAKE         1         2  \n",
       "2832  FAKE         1         2  \n",
       "3511  FAKE         1         2  "
      ]
     },
     "execution_count": 3,
     "metadata": {},
     "output_type": "execute_result"
    }
   ],
   "source": [
    "df['text_len'] = df['text'].str.len()\n",
    "df['text_cnt'] = df['text'].str.count(' ') + 1\n",
    "df.sort_values('text_len', ascending=True).head(10)"
   ]
  },
  {
   "cell_type": "code",
   "execution_count": 4,
<<<<<<< HEAD
=======
   "id": "touched-advancement",
>>>>>>> upstream/jun
   "metadata": {},
   "outputs": [
    {
     "name": "stdout",
     "output_type": "stream",
     "text": [
      "\n",
      "    max(text_len): 115372\n",
      "    min(text_len): 1 \n",
      "    max(freq_text_len): 59\n",
      "    min(freq_text_len): 1\n",
      "    count(distinct freq_text_len): 4562\n",
      "\n"
     ]
    }
   ],
   "source": [
    "max_text_len = max(df.text_len)\n",
    "min_text_len = min(df.text_len)\n",
    "max_freq_text_len = df.text_len.value_counts().max()\n",
    "min_freq_text_len = df.text_len.value_counts().min()\n",
    "cnt_distinct_text_len = df.text_len.nunique()\n",
    "\n",
    "print(\"\"\"\n",
    "    max(text_len): {0}\n",
    "    min(text_len): {1} \n",
    "    max(freq_text_len): {2}\n",
    "    min(freq_text_len): {3}\n",
    "    count(distinct freq_text_len): {4}\n",
    "\"\"\".format(max_text_len, min_text_len, max_freq_text_len, min_freq_text_len, cnt_distinct_text_len))"
   ]
  },
  {
   "cell_type": "code",
   "execution_count": 5,
<<<<<<< HEAD
=======
   "id": "rental-receptor",
>>>>>>> upstream/jun
   "metadata": {},
   "outputs": [
    {
     "data": {
      "image/png": "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\n",
      "text/plain": [
       "<Figure size 864x576 with 1 Axes>"
      ]
     },
     "metadata": {
      "needs_background": "light"
     },
     "output_type": "display_data"
    }
   ],
   "source": [
    "bins = cnt_distinct_text_len\n",
    "plt.figure(figsize=(12, 8))\n",
    "plt.hist(df.text_len, bins=bins)\n",
    "plt.ylim(min_freq_text_len, max_freq_text_len)\n",
    "plt.xlabel('text char count')\n",
    "plt.ylabel('frequency')\n",
    "plt.title('Text Char Count Histogram')\n",
    "plt.grid(True)\n",
    "plt.show()"
   ]
  },
  {
   "cell_type": "markdown",
<<<<<<< HEAD
=======
   "id": "opposite-hunger",
>>>>>>> upstream/jun
   "metadata": {},
   "source": [
    "## Histogram Bin Sizes\n",
    "\n",
    "The distinct count of text lengths is kind of arbitrary and can hide some distribution details depending on how unique the values are or not. \n",
    "\n",
    "I like to either use the max value of the x-axis as my bin size when the max value is less than a couple hundred. This way each individual count gets it's own bucket. But if the x-axis is quite large, like this example, I'll play around with a much smaller value, like 100. If 100 seems too course grained, play around with the bin size to get a good level of detail"
   ]
  },
  {
   "cell_type": "markdown",
<<<<<<< HEAD
=======
   "id": "ambient-greene",
>>>>>>> upstream/jun
   "metadata": {},
   "source": [
    "## Observations\n",
    "\n",
    "Looks like there are some outliers in this data. To better understand the distribution of data we're dealing with maybe we could remove the outliers and replot the data\n",
    "\n"
   ]
  },
  {
   "cell_type": "code",
   "execution_count": 6,
<<<<<<< HEAD
=======
   "id": "alleged-luxury",
>>>>>>> upstream/jun
   "metadata": {},
   "outputs": [
    {
     "data": {
      "text/html": [
       "<div>\n",
       "<style scoped>\n",
       "    .dataframe tbody tr th:only-of-type {\n",
       "        vertical-align: middle;\n",
       "    }\n",
       "\n",
       "    .dataframe tbody tr th {\n",
       "        vertical-align: top;\n",
       "    }\n",
       "\n",
       "    .dataframe thead tr th {\n",
       "        text-align: left;\n",
       "    }\n",
       "\n",
       "    .dataframe thead tr:last-of-type th {\n",
       "        text-align: right;\n",
       "    }\n",
       "</style>\n",
       "<table border=\"1\" class=\"dataframe\">\n",
       "  <thead>\n",
       "    <tr>\n",
       "      <th></th>\n",
       "      <th>title</th>\n",
       "    </tr>\n",
       "    <tr>\n",
       "      <th></th>\n",
       "      <th>count</th>\n",
       "    </tr>\n",
       "    <tr>\n",
       "      <th>text_len</th>\n",
       "      <th></th>\n",
       "    </tr>\n",
       "  </thead>\n",
       "  <tbody>\n",
       "    <tr>\n",
       "      <th>1</th>\n",
       "      <td>36</td>\n",
       "    </tr>\n",
       "    <tr>\n",
       "      <th>12</th>\n",
       "      <td>1</td>\n",
       "    </tr>\n",
       "    <tr>\n",
       "      <th>13</th>\n",
       "      <td>1</td>\n",
       "    </tr>\n",
       "    <tr>\n",
       "      <th>17</th>\n",
       "      <td>1</td>\n",
       "    </tr>\n",
       "    <tr>\n",
       "      <th>34</th>\n",
       "      <td>1</td>\n",
       "    </tr>\n",
       "  </tbody>\n",
       "</table>\n",
       "</div>"
      ],
      "text/plain": [
       "         title\n",
       "         count\n",
       "text_len      \n",
       "1           36\n",
       "12           1\n",
       "13           1\n",
       "17           1\n",
       "34           1"
      ]
     },
     "execution_count": 6,
     "metadata": {},
     "output_type": "execute_result"
    }
   ],
   "source": [
    "df[['title', 'text_len']].groupby(['text_len']).agg(['count']).sort_values('text_len', ascending=True).head(5)"
   ]
  },
  {
   "cell_type": "markdown",
<<<<<<< HEAD
=======
   "id": "naked-married",
>>>>>>> upstream/jun
   "metadata": {},
   "source": [
    "A 1 character article doesn't make much sense, so lets filter those out"
   ]
  },
  {
   "cell_type": "code",
   "execution_count": 7,
<<<<<<< HEAD
=======
   "id": "comparative-keeping",
>>>>>>> upstream/jun
   "metadata": {},
   "outputs": [
    {
     "name": "stdout",
     "output_type": "stream",
     "text": [
      "before: (6335, 6). after filtering: (6299, 6)\n"
     ]
    }
   ],
   "source": [
    "filtered_df = df[df['text_len'] > 1]\n",
    "\n",
    "print(f'before: {df.shape}. after filtering: {filtered_df.shape}')"
   ]
  },
  {
   "cell_type": "markdown",
<<<<<<< HEAD
=======
   "id": "sensitive-spotlight",
>>>>>>> upstream/jun
   "metadata": {},
   "source": [
    "What about really long arcitles? Like those greater than 20,000 words"
   ]
  },
  {
   "cell_type": "code",
   "execution_count": 8,
<<<<<<< HEAD
=======
   "id": "driven-session",
>>>>>>> upstream/jun
   "metadata": {},
   "outputs": [
    {
     "name": "stdout",
     "output_type": "stream",
     "text": [
      "after removing 1 word articles: (106, 6)\n"
     ]
    }
   ],
   "source": [
    "long_articles_df = df[df['text_len'] > 20000]\n",
    "print(f'after removing 1 word articles: {long_articles_df.shape}')"
   ]
  },
  {
   "cell_type": "markdown",
<<<<<<< HEAD
=======
   "id": "banned-indicator",
>>>>>>> upstream/jun
   "metadata": {},
   "source": [
    "Only 106 articles are super long, so lets filter those out and see what the distribution looks like now"
   ]
  },
  {
   "cell_type": "code",
   "execution_count": 9,
<<<<<<< HEAD
=======
   "id": "enabling-carter",
>>>>>>> upstream/jun
   "metadata": {},
   "outputs": [
    {
     "name": "stdout",
     "output_type": "stream",
     "text": [
      "after removing articles > 20,000 word: (6193, 6)\n"
     ]
    }
   ],
   "source": [
    "filtered_df = filtered_df[filtered_df['text_len'] <= 20000]\n",
    "print(f'after removing articles > 20,000 word: {filtered_df.shape}')"
   ]
  },
  {
   "cell_type": "markdown",
<<<<<<< HEAD
=======
   "id": "biblical-treasury",
>>>>>>> upstream/jun
   "metadata": {},
   "source": [
    "Lets replot the data and see what it looks like"
   ]
  },
  {
   "cell_type": "code",
   "execution_count": 80,
<<<<<<< HEAD
=======
   "id": "final-tender",
>>>>>>> upstream/jun
   "metadata": {},
   "outputs": [
    {
     "data": {
      "image/png": "iVBORw0KGgoAAAANSUhEUgAAAtMAAAHwCAYAAABkJOM0AAAAOXRFWHRTb2Z0d2FyZQBNYXRwbG90bGliIHZlcnNpb24zLjMuMywgaHR0cHM6Ly9tYXRwbG90bGliLm9yZy/Il7ecAAAACXBIWXMAAAsTAAALEwEAmpwYAAAtoUlEQVR4nO3de5hlZ1kn7N8DAVQaknCwJwnRBgUVjQbo4eCxA8hRBU8IkxECOBEnIF5mlICOog4a0MAnHicODBGRBhE+83FQY0ipUQEJhIRwkEAaSAhhAiFQAdGEZ/7Yq/l2iqru2iu1q2p33/d17avWftfp3U/trv7VW+9eq7o7AADA7G611R0AAIBFJUwDAMBIwjQAAIwkTAMAwEjCNAAAjCRMAwDASMI0wC1UVXuq6sqt7sd2VlVvqqonbXU/ADaaMA0slKpannp8sao+P/X85BHHW1cQrqr7V9Ubq+rTVfWpqnpbVT153KuYXVXdsar+n6r6yPBaPzg8v8ucz3tKVV14kG2WquonVrTdrK7d/cjuPmcd5+uq+vrxPQbYXMI0sFC6e8f+R5KPJPn+qbZXzOOcVfWgJG9O8rdJvj7JnZP8VJJHzuFcR6zSdtsk5yf55iSPSHLHJA9K8skk99/oPhyqVqstwC0lTAOHhKq6VVWdMYzYfrKqXl1VdxrW/UFV/fnUts+vqvOr6vZJ3pTk2KnR7WNXOfxvJjmnu5/f3df2xEXd/bgVfTi9qj5RVVdPj1pX1aOr6p1V9Zmq+mhVPXdq3a5hNPapVfWRTEL7Sk9M8jVJfrC739PdX+zuT3T3r3X3G4fjfNMwQvzpqrqsqn5g6hw3GzleOdo8nP9pVfWBYf/fq4lvSvKHSR401ObT6/lerGa6D1X19VX1t1V1fVVdW1WvGtr/btj8XcP5fmxo/y9VdfnwF4Fzp79HVfWwqnr/cKzfH467/zynVNU/VNWLquqTSZ5bVV9XVW8e3iPXVtUrquqoqePtq6qfq6pLquqGqnpJVe0cpql8tqr+pqqOHlsH4NAjTAOHimckeWyS70lybJLrkvzesO70JCcM4eq7kjw1yZO6+4ZMRpc/NjW6/bHpg1bVV2UyCvyag5z/PyQ5Mslxw/F/byp03ZBJID4qyaOT/FRVPXbF/t+T5JuSPHyVYz80yV929/JqJ66q2yT5/5L8dZKvHmrxiqr6hoP0edr3JfmPSb41yeOSPLy735vkaUn+aajNUTMc70B+bejr0UnuluR3kqS7v3tY/23D+V5VVQ9O8htDn45J8uEke5NkmOLymiTPzuSvBe9P8u0rzvWAJB9KsjPJ85LUcLxjM6n38Umeu2KfH07yvUnuleT7M/mF6zlJ7prJ/5s/fQtfP3AIEaaBQ8XTkvxCd1/Z3V/IJCD9SFUd0d2fS/LjSV6Y5E+SPKO71/uBwaMz+Vl59UG2+/ckv9rd/z6MFi8n+YYk6e6l7r50GFG+JMkrMwnP057b3Td09+dXOfadD3L+BybZkeTM7v637n5zktcnecLBXtyUM7v70939kSQXJDlxhn2T5MXDqPanhxHs1x9g239P8rVJju3uf+3uA83JPjnJS7v7HcP39dmZjJTvSvKoJJd192u7+8YkL07y8RX7f6y7f6e7b+zuz3f35d19Xnd/obv/TybviZXfi9/p7mu6+6okf5/krd39zu7+1ySvS3Kf9RQEODwI08Ch4muTvG4qzL03yU2ZjEimu9+ayQhlJXn1DMe9LskXMxkVPZBPDoFuv89lEnBTVQ+oqguq6v9U1fWZBP+VHxz86IGOfZDzH5vko939xam2D2cySr5e0yH0S32fwU9391H7H5mMdK/l5zP5PrxtmJLylANse2wmryVJMozOfzKT13ZspurW3Z1k5S9JN6vrMGVjb1VdVVWfyeSXq5Xfi2umlj+/yvNZawMcwoRp4FDx0SSPnA503f0Vw+hiquq0JLdL8rFMwtx+faCDDqPa/5TJn/7H+tMk5yY5vruPzGQecq081QH2/5skDx/meK/mY0mOr6rpn+lfk+SqYfmGJF81te4/rLfjB+nXKN398e7+L919bJKfTPL7B7iCx8cy+UUpSTLU4M6ZvLarM5kmsn9dTT/ff7oVz399aDuhu++Y5D/ny78XAOsmTAOHij9M8ryq+tokqaq7VtVjhuV7JfkfmQSnH0/y81V14rDfNUnuXFVHHuDYP5/klOGDaXcejvltVbV3nX27Q5JPdfe/VtX9k/ynGV/byzP5ZeHPq+oba/JhyztX1XOq6lFJ3prJaPLPV9VtqmpPJnN99/fv4iQ/VFVfNYTWp85w7muS3K0mVxTZEFX1o1W1P/Rel0m43T+qfk2Se0xt/sokT66qE6vqdpmE4bd2974kb8hkLvxja3KljtNy8F8U7pDJFJzrq+q4JD+3Ea8JOHwJ08Ch4rczGf3966r6bJK3JHnAELL+JMnzu/td3f2BTD5M9vKqul13vy+TwPahYYrIl13No7v/McmDh8eHqupTSc5O8sZ19u2/JvnVoV+/lNmmmWSYK/zQJO9Lcl6SzyR5WybTE97a3f+WSXh+ZJJrk/x+kicOry1JXpTk3zIJquckmeUSgm9OclmSj1fVtbP0+wD+Y5K3VtVyJt+zZ3b3h4Z1z01yzvC9eFx3/02S/57kzzMZif66JI9Pku6+NsmPJnlBJlM/7p3k7Um+cIBz/0qS+ya5PpMw/toNek3AYaomU8wAYLEN01yuTHJyd1+w1f0BDg9GpgFYWFX18Ko6apgC8pxM5j+/ZYu7BRxGhGkAFtmDknwwk+kt35/ksWtcXhBgLkzzAACAkYxMAwDASMI0AACMdMRWd+CWuMtd7tK7du3a9PPecMMNuf3t17p3AqtRs9mo1+zUbDbqNTs1m416zUa9ZrfZNbvooouu7e67rmxf6DC9a9euvP3tb9/08y4tLWXPnj2bft5FpmazUa/Zqdls1Gt2ajYb9ZqNes1us2tWVR9erd00DwAAGEmYBgCAkYRpAAAYSZgGAICRhGkAABhJmAYAgJGEaQAAGEmYBgCAkYRpAAAYSZgGAICRhGkAABhJmAYAgJGEaQAAGEmYBgCAkYRpAAAYSZgGAICRhGkAABhJmAYAgJGEaQAAGOmIre7Aotp1xhtWbd935qM3uScAAGwVI9MAADDS3MJ0VX1FVb2tqt5VVZdV1a8M7S+rqiuq6uLhceLQXlX14qq6vKouqar7zqtvAACwEeY5zeMLSR7c3ctVdZskF1bVm4Z1P9fdr1mx/SOT3HN4PCDJHwxfAQBgW5rbyHRPLA9PbzM8+gC7PCbJHw/7vSXJUVV1zLz6BwAAt1R1Hyjf3sKDV906yUVJvj7J73X3s6rqZUkelMnI9flJzujuL1TV65Oc2d0XDvuen+RZ3f32Fcc8NcmpSbJz58777d27d279X8vy8nKuuP6mVdedcNyRm9ybxbC8vJwdO3ZsdTcWhnrNTs1mo16zU7PZqNds1Gt2m12zk0466aLu3r2yfa5X8+jum5KcWFVHJXldVX1Lkmcn+XiS2yY5O8mzkvzqDMc8e9gvu3fv7j179mxwrw9uaWkpZ114w6rr9p28Z3M7syCWlpayFd+rRaVes1Oz2ajX7NRsNuo1G/Wa3Xap2aZczaO7P53kgiSP6O6rh6kcX0jyv5Pcf9jsqiTHT+12t6ENAAC2pXlezeOuw4h0quork3xvkvftnwddVZXksUnePexybpInDlf1eGCS67v76nn1DwAAbql5TvM4Jsk5w7zpWyV5dXe/vqreXFV3TVJJLk7ytGH7NyZ5VJLLk3wuyZPn2DcAALjF5hamu/uSJPdZpf3Ba2zfSU6bV38AAGCjuQMiAACMJEwDAMBIwjQAAIwkTAMAwEjCNAAAjCRMAwDASMI0AACMJEwDAMBIwjQAAIwkTAMAwEjCNAAAjCRMAwDASMI0AACMJEwDAMBIwjQAAIwkTAMAwEjCNAAAjCRMAwDASMI0AACMJEwDAMBIwjQAAIwkTAMAwEjCNAAAjCRMAwDASMI0AACMJEwDAMBIwjQAAIwkTAMAwEjCNAAAjCRMAwDASMI0AACMJEwDAMBIwjQAAIwkTAMAwEjCNAAAjCRMAwDASMI0AACMJEwDAMBIwjQAAIwkTAMAwEjCNAAAjCRMAwDASMI0AACMJEwDAMBIwjQAAIwkTAMAwEjCNAAAjCRMAwDASMI0AACMNLcwXVVfUVVvq6p3VdVlVfUrQ/vdq+qtVXV5Vb2qqm47tN9ueH75sH7XvPoGAAAbYZ4j019I8uDu/rYkJyZ5RFU9MMnzk7you78+yXVJnjps/9Qk1w3tLxq2AwCAbWtuYbonloentxkeneTBSV4ztJ+T5LHD8mOG5xnWP6Sqal79AwCAW2quc6ar6tZVdXGSTyQ5L8kHk3y6u28cNrkyyXHD8nFJPpokw/rrk9x5nv0DAIBborp7/iepOirJ65L89yQvG6ZypKqOT/Km7v6Wqnp3kkd095XDug8meUB3X7viWKcmOTVJdu7ceb+9e/fOvf8rLS8v54rrb1p13QnHHbnJvVkMy8vL2bFjx1Z3Y2Go1+zUbDbqNTs1m416zUa9ZrfZNTvppJMu6u7dK9uP2IyTd/enq+qCJA9KclRVHTGMPt8tyVXDZlclOT7JlVV1RJIjk3xylWOdneTsJNm9e3fv2bNnE17BzS0tLeWsC29Ydd2+k/dsbmcWxNLSUrbie7Wo1Gt2ajYb9Zqdms1GvWajXrPbLjWb59U87jqMSKeqvjLJ9yZ5b5ILkvzIsNmTkvzFsHzu8DzD+jf3ZgybAwDASPMcmT4myTlVdetMQvuru/v1VfWeJHur6n8keWeSlwzbvyTJy6vq8iSfSvL4OfYNAABusbmF6e6+JMl9Vmn/UJL7r9L+r0l+dF79AQCAjeYOiAAAMJIwDQAAIwnTAAAwkjANAAAjCdMAADCSMA0AACMJ0wAAMJIwDQAAIwnTAAAwkjANAAAjCdMAADCSMA0AACMJ0wAAMJIwDQAAIwnTAAAwkjANAAAjCdMAADCSMA0AACMJ0wAAMJIwDQAAIwnTAAAwkjANAAAjCdMAADCSMA0AACMJ0wAAMJIwDQAAIwnTAAAwkjANAAAjCdMAADCSMA0AACMJ0wAAMJIwDQAAIwnTAAAwkjANAAAjCdMAADCSMA0AACMJ0wAAMJIwDQAAIwnTAAAwkjANAAAjCdMAADCSMA0AACMJ0wAAMJIwDQAAIwnTAAAwkjANAAAjCdMAADCSMA0AACMJ0wAAMNLcwnRVHV9VF1TVe6rqsqp65tD+3Kq6qqouHh6Pmtrn2VV1eVW9v6oePq++AQDARjhijse+Mcnp3f2OqrpDkouq6rxh3Yu6+7emN66qeyd5fJJvTnJskr+pqnt1901z7CMAAIw2t5Hp7r66u98xLH82yXuTHHeAXR6TZG93f6G7r0hyeZL7z6t/AABwS23KnOmq2pXkPkneOjQ9vaouqaqXVtXRQ9txST46tduVOXD4BgCALVXdPd8TVO1I8rdJntfdr62qnUmuTdJJfi3JMd39lKr63SRv6e4/GfZ7SZI3dfdrVhzv1CSnJsnOnTvvt3fv3rn2fzXLy8u54vrVZ5+ccNyRm9ybxbC8vJwdO3ZsdTcWhnrNTs1mo16zU7PZqNds1Gt2m12zk0466aLu3r2yfZ5zplNVt0ny50le0d2vTZLuvmZq/R8lef3w9Kokx0/tfreh7Wa6++wkZyfJ7t27e8+ePXPp+4EsLS3lrAtvWHXdvpP3bG5nFsTS0lK24nu1qNRrdmo2G/WanZrNRr1mo16z2y41m+fVPCrJS5K8t7tfONV+zNRmP5jk3cPyuUkeX1W3q6q7J7lnkrfNq38AAHBLzXNk+juS/HiSS6vq4qHtOUmeUFUnZjLNY1+Sn0yS7r6sql6d5D2ZXAnkNFfyAABgO5tbmO7uC5PUKqveeIB9npfkefPqEwAAbCR3QAQAgJGEaQAAGEmYBgCAkYRpAAAYSZgGAICRhGkAABhJmAYAgJGEaQAAGEmYBgCAkYRpAAAYSZgGAICRhGkAABhJmAYAgJGEaQAAGEmYBgCAkYRpAAAYSZgGAICRhGkAABhJmAYAgJGEaQAAGEmYBgCAkYRpAAAYSZgGAICRhGkAABhJmAYAgJGEaQAAGEmYBgCAkYRpAAAYSZgGAICRhGkAABhJmAYAgJGEaQAAGEmYBgCAkYRpAAAYSZgGAICRhGkAABhJmAYAgJGEaQAAGEmYBgCAkYRpAAAYSZgGAICRhGkAABhJmAYAgJGEaQAAGEmYBgCAkYRpAAAYSZgGAICRDhqmq+qiqjqtqo7ejA4BAMCiWM/I9I8lOTbJP1fV3qp6eFXVnPsFAADb3kHDdHdf3t2/kOReSf40yUuTfLiqfqWq7jTvDgIAwHa1rjnTVfWtSc5K8ptJ/jzJjyb5TJI3H2Cf46vqgqp6T1VdVlXPHNrvVFXnVdUHhq9HD+1VVS+uqsur6pKquu8tfXEAADBP65ozneRFSf45ybd2909391u7+6wkHzrArjcmOb27753kgUlOq6p7Jzkjyfndfc8k5w/Pk+SRSe45PE5N8gcjXxMAAGyKI9axzY9296qhubt/aK2duvvqJFcPy5+tqvcmOS7JY5LsGTY7J8lSkmcN7X/c3Z3kLVV1VFUdMxwHAAC2nZpk1wNsUPXrSV7Q3Z8enh+dyYjzL677JFW7kvxdkm9J8pHuPmporyTXdfdRVfX6JGd294XDuvOTPKu7377iWKdmMnKdnTt33m/v3r3r7caGWV5ezhXX37TquhOOO3KTe7N5Lr3q+lXb1/Oal5eXs2PHjo3u0iFLvWanZrNRr9mp2WzUazbqNbvNrtlJJ510UXfvXtm+npHpR3b3c/Y/6e7rqupRSdYVpqtqRybzrH+muz8zfSGQ7u6qOnCaX6G7z05ydpLs3r279+zZM8vuG2JpaSlnXXjDquv2nbxnczuziU454w2rtq/nNS8tLWUrvleLSr1mp2azUa/Zqdls1Gs26jW77VKz9XwA8dZVdbv9T6rqK5Pc7gDbf0lV3SaTIP2K7n7t0HxNVR0zrD8mySeG9quSHD+1+92GNgAA2JbWE6ZfkeT8qnpqVT01yXmZzHU+oGEKx0uSvLe7Xzi16twkTxqWn5TkL6banzhc1eOBSa43XxoAgO3soNM8uvv5VXVJkocMTb/W3X+1jmN/R5IfT3JpVV08tD0nyZlJXj0E8w8nedyw7o1JHpXk8iSfS/Lk9b4IAADYCuuZM53uflOSN81y4OGDhGvdKfEhKxuGq3icNss5AABgK63nOtM/NNxg5fqq+kxVfbaqPrMZnQMAgO1sPSPTL0jy/d393nl3BgAAFsl6PoB4jSANAABfbj0j02+vqlcl+X+TfGF/49Sl7gAA4LC0njB9x0yurvGwqbZOIkwDAHBYW8+l8VyiDgAAVrGeq3ncq6rOr6p3D8+/tarWdStxAAA4lK3nA4h/lOTZSf49Sbr7kiSPn2enAABgEawnTH9Vd79tRduN8+gMAAAskvWE6Wur6usy+dBhqupHklw9114BAMACWM/VPE5LcnaSb6yqq5JckeQ/z7VXbJhdZ7xh1fZ9Zz56k3sCAHDoWc/VPD6U5KFVdfskt+ruz86/WwAAsP0dNExX1S+teJ4k6e5fnVOfAABgIaxnmscNU8tfkeT7kri9OAAAh731TPM4a/p5Vf1Wkr+aW48AAGBBrGdkeqWvSnK3je4Ii8uHHAGAw9V65kxfmuGyeEluneSuScyXBgDgsLeekenvm1q+Mck13e2mLQAAHPbWE6ZXXgrvjvuv6JEk3f2pDe0RAAAsiPWE6XckOT7JdUkqyVFJPjKs6yT3mEvPOGSZYw0AHCrWE6bPS/K67n5jklTVI5M8trt/cq49Y1WCKADA9nGrdWzzwP1BOkm6+01Jvn1+XQIAgMWwnpHpj1XVLyb5k+H5yUk+Nr8uAQDAYljPyPQTMrkc3uuSvHZYfsI8OwUAAItgPXdA/FSSZ1bV7bv7hoNtDwAAh4uDjkxX1bdX1XuSvHd4/m1V9ftz7xkAAGxz65kz/aIkD09ybpJ097uq6rvn2isOCdNXHjn9hBtzyhpXIgEAWFTrmTOd7v7oiqab5tAXAABYKOsZmf5oVX17kq6q2yR5ZoYpHwAAcDhbz8j005KcluS4JFclOXF4DgAAh7UDjkxX1a2T/HZ3n7xJ/QEAgIVxwJHp7r4pyddW1W03qT8AALAw1jNn+kNJ/qGqzk3ypetMd/cL59YrtswuV9wAAFi3NUemq+rlw+IPJHn9sO0dph4AAHBYO9DI9P2q6tgkH0nyO5vUH0YyogwAsPkOFKb/MMn5Se6e5O1T7ZWkk9xjjv0CAIBtb81pHt394u7+piT/u7vvMfW4e3cL0gAAHPYOep3p7v6pzegIAAAsmnXdThwAAPhy67k0HiyUtT6Mue/MR29yTwCAQ50wfZhy9Q8AgFvONA8AABhJmAYAgJGEaQAAGEmYBgCAkYRpAAAYSZgGAICRhGkAABjJdabZ9tyEBQDYruY2Ml1VL62qT1TVu6fanltVV1XVxcPjUVPrnl1Vl1fV+6vq4fPqFwAAbJR5jky/LMnvJvnjFe0v6u7fmm6oqnsneXySb05ybJK/qap7dfdNc+wf28x2uyujEXEA4GDmNjLd3X+X5FPr3PwxSfZ29xe6+4oklye5/7z6BgAAG2ErPoD49Kq6ZJgGcvTQdlySj05tc+XQBgAA21Z19/wOXrUryeu7+1uG5zuTXJukk/xakmO6+ylV9btJ3tLdfzJs95Ikb+ru16xyzFOTnJokO3fuvN/evXvn1v+1LC8v54rrV5+BcsJxR8713Jdedf1cjz8vO78yuebzG3vMtWq9Vo1m/d5s1HHGWF5ezo4dO+Z+nkOJms1GvWanZrNRr9mo1+w2u2YnnXTSRd29e2X7pl7No7uv2b9cVX+U5PXD06uSHD+16d2GttWOcXaSs5Nk9+7dvWfPnrn09UCWlpZy1oU3rLpu38l75nruU7bZvOL1Ov2EG3PWpRv7dlur1mvVaNbvzZjjbNQ866WlpWzFe3uRqdls1Gt2ajYb9ZqNes1uu9RsU6d5VNUxU09/MMn+K32cm+TxVXW7qrp7knsmedtm9g0AAGY1t5Hpqnplkj1J7lJVVyb55SR7qurETKZ57Evyk0nS3ZdV1auTvCfJjUlOO9Su5OHKEAAAh565henufsIqzS85wPbPS/K8efUHAAA2mtuJAwDASMI0AACMtKlX84DDlTnzAHBoEqZhC60Vsl/2iNtvck8AgDFM8wAAgJGEaQAAGEmYBgCAkYRpAAAYSZgGAICRXM1jm1rrKg8AAGwfRqYBAGAkYRoAAEYSpgEAYCRhGgAARhKmAQBgJGEaAABGcmm8LeYSeAAAi0uYZmFt1C8ifqEBAMYyzQMAAEYyMr3BjHICABw+jEwDAMBIwjQAAIxkmgeHjUWagnPpVdfnlFX6u+/MR29BbwCAtRiZBgCAkYRpAAAYyTQPOASsNYXFtBAAmC8j0wAAMJIwDQAAIwnTAAAwkjnTMKNFusQeADBfRqYBAGAkYRoAAEYSpgEAYCRhGgAARhKmAQBgJGEaAABGEqYBAGAkYRoAAEYSpgEAYCR3QIQF4u6LALC9GJkGAICRhGkAABhJmAYAgJHMmYZD2FpzrPed+ehN7gkAHJqMTAMAwEjCNAAAjCRMAwDASMI0AACMJEwDAMBIcwvTVfXSqvpEVb17qu1OVXVeVX1g+Hr00F5V9eKquryqLqmq+86rXwAAsFHmOTL9siSPWNF2RpLzu/ueSc4fnifJI5Pcc3icmuQP5tgvAADYEHML0939d0k+taL5MUnOGZbPSfLYqfY/7om3JDmqqo6ZV98AAGAjbPac6Z3dffWw/PEkO4fl45J8dGq7K4c2AADYtqq753fwql1JXt/d3zI8/3R3HzW1/rruPrqqXp/kzO6+cGg/P8mzuvvtqxzz1EymgmTnzp3327t379z6v5bl5eVccf1Nm37eRbbzK5NrPr/VvVgc867XCccdOb+Db5Hl5eXs2LFjq7uxMNRrdmo2G/WajXrNbrNrdtJJJ13U3btXtm/27cSvqapjuvvqYRrHJ4b2q5IcP7Xd3Ya2L9PdZyc5O0l2797de/bsmWN3V7e0tJSzLrxh08+7yE4/4cacdam716/XvOu17+Q9czv2VllaWspW/DxYVOo1OzWbjXrNRr1mt11qttnTPM5N8qRh+UlJ/mKq/YnDVT0emOT6qekgAACwLc1t6KuqXplkT5K7VNWVSX45yZlJXl1VT03y4SSPGzZ/Y5JHJbk8yeeSPHle/QIAgI0ytzDd3U9YY9VDVtm2k5w2r74AAMA8uAMiAACMJEwDAMBILq8AfMmuM96wavu+Mx+9yT0BgMVgZBoAAEYSpgEAYCRhGgAARhKmAQBgJGEaAABGcjUPYLS1rv6RuAIIAIcHYRo4qAOFZgA4nJnmAQAAIxmZBubCDWAAOBwYmQYAgJGEaQAAGEmYBgCAkYRpAAAYyQcQ4TDkUncAsDGMTAMAwEhGpoFN5ZJ5ABxKjEwDAMBIRqaBhbRyhPv0E27MKWe8wQg3AJvKyDQAAIwkTAMAwEjCNAAAjCRMAwDASMI0AACMJEwDAMBIwjQAAIzkOtPAtuDOiAAsIiPTAAAwkjANAAAjCdMAADCSMA0AACMJ0wAAMJIwDQAAIwnTAAAwkjANAAAjCdMAADCSMA0AACMJ0wAAMJIwDQAAIwnTAAAwkjANAAAjCdMAADDSEVvdAYCttOuMN6zavu/MR2/I9gAc2oRpYFtbK7wCwHYgTAOHBaEcgHkwZxoAAEYyMg2wCiPZAKyHkWkAABhpS0amq2pfks8muSnJjd29u6rulORVSXYl2Zfkcd193Vb0DwAA1mMrp3mc1N3XTj0/I8n53X1mVZ0xPH/W1nQNWFSmZwCwmbbTNI/HJDlnWD4nyWO3risAAHBw1d2bf9KqK5Jcl6ST/M/uPruqPt3dRw3rK8l1+5+v2PfUJKcmyc6dO++3d+/eTev3fsvLy7ni+ps2/byLbOdXJtd8fqt7sTjUa3ZbXbMTjjty604+wvLycnbs2LHV3VgoajYb9ZqNes1us2t20kknXdTdu1e2b9U0j+/s7quq6quTnFdV75te2d1dVaum/O4+O8nZSbJ79+7es2fP3Du70tLSUs668IZNP+8iO/2EG3PWpS4es17qNbutrtm+k/ds2bnHWFpaylb8/FxkajYb9ZqNes1uu9RsS6Z5dPdVw9dPJHldkvsnuaaqjkmS4esntqJvAACwXpsepqvq9lV1h/3LSR6W5N1Jzk3ypGGzJyX5i83uGwAAzGIr/ia6M8nrJtOic0SSP+3uv6yqf07y6qp6apIPJ3ncFvQNAADWbdPDdHd/KMm3rdL+ySQP2ez+AGyEtS7Jt+/MR29yTwDYTD7hBDBHB7rutaANsPi203WmAQBgoQjTAAAwkjANAAAjCdMAADCSMA0AACO5mgfAgnNZPoCtY2QaAABGMjINsCAOdM1qALaGkWkAABhJmAYAgJGEaQAAGMmcaYBDlKt8AMyfMA2wzfigIcDiMM0DAABGMjINsEWMQAMsPiPTAAAwkjANAAAjCdMAADCSMA0AACMJ0wAAMJIwDQAAIwnTAAAwkjANAAAjCdMAADCSMA0AACMJ0wAAMNIRW90BADbXrjPekNNPuDGnnPGGm7XvO/PRW9QjgMVlZBoAAEYyMg3Altu1YpR8P6PlwHZnZBoAAEYyMg3AKEaTAYRpADbJWuEbYJEJ0wActoyuA7eUMA3AtiXsAtudMA1AEsF1u/P9ge1JmAZgQ5kbDRxOXBoPAABGEqYBAGAk0zwAOKDtOG1jq+YPz1oL85nh0GdkGgAARjIyDcAhbzuOrm8UV/mArSVMA8AKqwXU00+4MYv036aQDZtjcX4qAMBBLMoI9KL080AO9hpOP+HGnDK1jRDPocqcaQAAGMnINAAcRrbblVCMWLPohGkAYE2LNCVFYGcrCNMAwJbZjAA873Ns1fEPZFF+gTgUfgESpgFgThZpVHeRLEpdZ+nn6SfcmD3z6wpztO3CdFU9IslvJ7l1kv/V3WducZcAAOYe4jfy+LOO+G7U9mtZpJHmWW2rMF1Vt07ye0m+N8mVSf65qs7t7vdsbc8A4NC23UZ7t1t/DhVbVddD+fu53S6Nd/8kl3f3h7r735LsTfKYLe4TAACsaluNTCc5LslHp55fmeQBW9QXAOAQdiiPlm6U7TaSvR2ni1R3b3UfvqSqfiTJI7r7J4bnP57kAd399KltTk1y6vD0G5K8f9M7mtwlybVbcN5FpmazUa/Zqdls1Gt2ajYb9ZqNes1us2v2td1915WN221k+qokx089v9vQ9iXdfXaSszezUytV1du7e/dW9mHRqNls1Gt2ajYb9Zqdms1GvWajXrPbLjXbbnOm/znJPavq7lV12ySPT3LuFvcJAABWta1Gprv7xqp6epK/yuTSeC/t7su2uFsAALCqbRWmk6S735jkjVvdj4PY0mkmC0rNZqNes1Oz2ajX7NRsNuo1G/Wa3bao2bb6ACIAACyS7TZnGgAAFoYwPaOqekRVvb+qLq+qM7a6P1ulqo6vqguq6j1VdVlVPXNof25VXVVVFw+PR03t8+yhbu+vqodPtR8WNa2qfVV16VCXtw9td6qq86rqA8PXo4f2qqoXDzW5pKruO3WcJw3bf6CqnrRVr2fequobpt5HF1fVZ6rqZ7zHbq6qXlpVn6iqd0+1bdj7qqruN7xvLx/2rc19hRtrjXr9ZlW9b6jJ66rqqKF9V1V9fuq99odT+6xal7Vqv6jWqNeG/RusyQUH3jq0v6omFx9YaGvU7FVT9dpXVRcP7d5ja+eJxfk51t0e63xk8qHIDya5R5LbJnlXkntvdb+2qBbHJLnvsHyHJP+S5N5Jnpvkv62y/b2Het0uyd2HOt76cKppkn1J7rKi7QVJzhiWz0jy/GH5UUnelKSSPDDJW4f2OyX50PD16GH56K1+bZtQu1sn+XiSr/Ue+7LX/d1J7pvk3fN4XyV527BtDfs+cqtf8xzq9bAkRwzLz5+q167p7VYcZ9W6rFX7RX2sUa8N+zeY5NVJHj8s/2GSn9rq1zyPmq1Yf1aSX/Ie+9LrXCtPLMzPMSPTs3G780F3X93d7xiWP5vkvZncwXItj0myt7u/0N1XJLk8k3oe7jV9TJJzhuVzkjx2qv2Pe+ItSY6qqmOSPDzJed39qe6+Lsl5SR6xyX3eCg9J8sHu/vABtjks32Pd/XdJPrWieUPeV8O6O3b3W3ryP9IfTx1rIa1Wr+7+6+6+cXj6lkzucbCmg9RlrdovpDXeX2uZ6d/gMDr44CSvGfZf+HolB67Z8Jofl+SVBzrGYfYeWytPLMzPMWF6Nqvd7vxAAfKwUFW7ktwnyVuHpqcPf3p56dSfn9aq3eFU007y11V1UU3u5JkkO7v76mH540l2DsvqdXOPz83/8/EeO7CNel8dNyyvbD+UPSWTkav97l5V76yqv62q7xraDlSXtWp/qNmIf4N3TvLpqV9kDof313cluaa7PzDV5j02WJEnFubnmDDNLVJVO5L8eZKf6e7PJPmDJF+X5MQkV2fy5ywmvrO775vkkUlOq6rvnl45/Mbs8jorDHMofyDJnw1N3mMz8L5av6r6hSQ3JnnF0HR1kq/p7vsk+dkkf1pVd1zv8Q7h2vs3ON4TcvOBAe+xwSp54ku2++sUpmdz0NudH06q6jaZvPFf0d2vTZLuvqa7b+ruLyb5o0z+vJesXbvDpqbdfdXw9RNJXpdJba4Z/gS1/896nxg2P+zrNeWRSd7R3dck3mPrtFHvq6ty8ykPh2ztquqUJN+X5OThP+4M0xU+OSxflMm833vlwHVZq/aHjA38N/jJTP5Ef8SK9kPS8Dp/KMmr9rd5j02slieyQD/HhOnZuN35YJj39ZIk7+3uF061HzO12Q8m2f9p5nOTPL6qbldVd09yz0w+EHBY1LSqbl9Vd9i/nMkHnt6dyWvd/4njJyX5i2H53CRPHD61/MAk1w9/7vqrJA+rqqOHP60+bGg7lN1sJMd7bF025H01rPtMVT1w+Df/xKljHTKq6hFJfj7JD3T356ba71pVtx6W75HJe+pDB6nLWrU/ZGzUv8Hhl5YLkvzIsP8hWa8pD03yvu7+0pQD77G180QW6efYLJ9W9PjSp0j/JZPfHn9hq/uzhXX4zkz+5HJJkouHx6OSvDzJpUP7uUmOmdrnF4a6vT9Tn6Q9HGqayafY3zU8Ltv/OjOZM3h+kg8k+ZskdxraK8nvDTW5NMnuqWM9JZMP9lye5Mlb/drmXLfbZzJ6deRUm/fYzWv0ykz+VPzvmcwFfOpGvq+S7M4kLH0wye9muNnXoj7WqNflmcy13P+z7A+HbX94+Pd6cZJ3JPn+g9Vlrdov6mONem3Yv8HhZ+Pbhu/BnyW53Va/5nnUbGh/WZKnrdjWe2ztPLEwP8fcAREAAEYyzQMAAEYSpgEAYCRhGgAARhKmAQBgJGEaAABGEqYB5qSqjqqq/3oL9j+xqh414z77quouY8+52arqZ6rqq7a6HwBjCdMA83NUktFhOpPbNc8Upm+JqTvRbaafSSJMAwtLmAaYnzOTfF1VXVxVv5kkVfVzVfXPVXVJVf3K0PaDVXX+cEevY6rqX6rqa5L8apIfG/b/sekDV9Wtq+q3qurdw7GeMbX6GVX1jqq6tKq+cdj+/lX1T1X1zqr6x6r6hqH9lKo6t6renMkNErLiPE8cjv+uqnr50Larqt48tJ8/9DVV9bKq+pGpfZeHr3uqaqmqXlNV76uqVwyv9aeTHJvkgqq6YINqDrCptmIUAuBwcUaSb+nuE5Okqh6Wye2C75/JXbzOrarv7u7XVdUPJzktySOS/HJ3f6SqfimTu3s9fZVjn5pkV5ITu/vGqrrT1Lpru/u+wxST/5bkJ5K8L8l3Dds+NMmvZ3L3tSS5b5Jv7e5PTZ+gqr45yS8m+fbuvnbqHL+T5JzuPqeqnpLkxUkee5Ba3CfJNyf5WJJ/SPId3f3iqvrZJCd197UH2R9gWxKmATbPw4bHO4fnOzIJ13+X5BmZ3O72Ld39ynUc66GZ3Pb6xiRZEYRfO3y9KMkPDctHJjmnqu6Zya17bzO1/Xkrg/TgwUn+bH/QndrmQVPHfXmSF6yjv2/r7iuTpKouzuQXgQvXsR/AtiZMA2yeSvIb3f0/V1l3tyRfTLKzqm7V3V+8Bef5wvD1pvz/P+d/LckF3f2DVbUrydLU9jfcgnNNuzHD9MGqulWS267Sp5X9Alho5kwDzM9nk9xh6vlfJXlKVe1Ikqo6rqq+evjg30uTPCHJe5P87Br7TzsvyU/u/9DgimkeqzkyyVXD8inr7P+bk/xoVd15xTn+Mcnjh+WTk/z9sLwvyf2G5R/IzUe/13Kg1wiw7QnTAHPS3Z9M8g/DhwR/s7v/OsmfJvmnqro0yWsyCZLPSfL33X1hJkH6J6rqm5JckOTeq30AMcn/SvKRJJdU1buS/KeDdOcFSX6jqt6ZdY4Kd/dlSZ6X5G+Hc7xwWPWMJE+uqkuS/HiSZw7tf5Tke4ZtH5T1jXifneQvfQARWFTV3VvdBwAAWEhGpgEAYCRhGgAARhKmAQBgJGEaAABGEqYBAGAkYRoAAEYSpgEAYCRhGgAARvq/lDh1uy5cF7kAAAAASUVORK5CYII=\n",
      "text/plain": [
       "<Figure size 864x576 with 1 Axes>"
      ]
     },
     "metadata": {
      "needs_background": "light"
     },
     "output_type": "display_data"
    }
   ],
   "source": [
    "bins = 100\n",
    "plt.figure(figsize=(12, 8))\n",
    "plt.hist(filtered_df.text_len, bins=bins)\n",
    "# plt.ylim(0, max_freq_text_len)\n",
    "plt.xlabel('text char count')\n",
    "plt.ylabel('frequency')\n",
    "plt.title('Text Char Count Histogram')\n",
    "plt.grid(True)\n",
    "plt.show()"
   ]
  },
  {
   "cell_type": "markdown",
<<<<<<< HEAD
=======
   "id": "minute-holmes",
>>>>>>> upstream/jun
   "metadata": {},
   "source": [
    "This give us a better view at the distribution of article char counts over the corpus of all articles\n",
    "\n",
    "Observations:\n",
    "- there is a large block of articles with relativly short char counts (the first bin)\n",
    "- if you remove those short char count articles, the distribution looks fairly normail, but right skewed distribution "
   ]
  },
  {
   "cell_type": "code",
   "execution_count": 13,
<<<<<<< HEAD
=======
   "id": "transsexual-captain",
>>>>>>> upstream/jun
   "metadata": {},
   "outputs": [
    {
     "data": {
      "image/png": "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\n",
      "text/plain": [
       "<Figure size 864x576 with 1 Axes>"
      ]
     },
     "metadata": {
      "needs_background": "light"
     },
     "output_type": "display_data"
    }
   ],
   "source": [
    "tmp_df = filtered_df[filtered_df['text_len'] > 250]\n",
    "\n",
    "bins = 100\n",
    "plt.figure(figsize=(12, 8))\n",
    "plt.hist(tmp_df.text_len, bins=bins)\n",
    "# plt.ylim(0, max_freq_text_len)\n",
    "plt.xlabel('text char count')\n",
    "plt.ylabel('frequency')\n",
    "plt.title('Text Char Count Histogram')\n",
    "plt.grid(True)\n",
    "plt.show()"
   ]
  },
  {
   "cell_type": "code",
   "execution_count": 92,
<<<<<<< HEAD
=======
   "id": "wooden-poison",
>>>>>>> upstream/jun
   "metadata": {},
   "outputs": [
    {
     "data": {
      "image/png": "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\n",
      "text/plain": [
       "<Figure size 864x576 with 1 Axes>"
      ]
     },
     "metadata": {
      "needs_background": "light"
     },
     "output_type": "display_data"
    }
   ],
   "source": [
    "tmp_df = filtered_df[filtered_df['text_len'] <= 250]\n",
    "\n",
    "bins = 100\n",
    "plt.figure(figsize=(12, 8))\n",
    "plt.hist(tmp_df.text_len, bins=bins)\n",
    "# plt.ylim(0, max_freq_text_len)\n",
    "plt.xlabel('text char count')\n",
    "plt.ylabel('frequency')\n",
    "plt.title('Text Char Count Histogram')\n",
    "plt.grid(True)\n",
    "plt.show()"
   ]
  },
  {
   "cell_type": "markdown",
<<<<<<< HEAD
=======
   "id": "assigned-catholic",
>>>>>>> upstream/jun
   "metadata": {},
   "source": [
    "## Why does this even matter?\n",
    "\n",
    "The plot where we filtered out really large articles and 1 char articles looked like there might be two different types of articles. Do we need two different solutions? One for longer in depth articles and one for short articles?\n",
    "\n",
    "we might want to try two classifiers, one for <=250 chars, and one for >"
   ]
  },
  {
   "cell_type": "code",
   "execution_count": null,
<<<<<<< HEAD
=======
   "id": "alien-speech",
>>>>>>> upstream/jun
   "metadata": {},
   "outputs": [],
   "source": []
  },
  {
   "cell_type": "markdown",
<<<<<<< HEAD
=======
   "id": "automatic-planet",
>>>>>>> upstream/jun
   "metadata": {},
   "source": [
    "# Fake Vs. Real"
   ]
  },
  {
   "cell_type": "code",
   "execution_count": 14,
<<<<<<< HEAD
=======
   "id": "operating-karen",
>>>>>>> upstream/jun
   "metadata": {
    "scrolled": true
   },
   "outputs": [
    {
     "data": {
      "text/html": [
       "<div>\n",
       "<style scoped>\n",
       "    .dataframe tbody tr th:only-of-type {\n",
       "        vertical-align: middle;\n",
       "    }\n",
       "\n",
       "    .dataframe tbody tr th {\n",
       "        vertical-align: top;\n",
       "    }\n",
       "\n",
       "    .dataframe thead th {\n",
       "        text-align: right;\n",
       "    }\n",
       "</style>\n",
       "<table border=\"1\" class=\"dataframe\">\n",
       "  <thead>\n",
       "    <tr style=\"text-align: right;\">\n",
       "      <th></th>\n",
       "      <th>Unnamed: 0</th>\n",
       "      <th>title</th>\n",
       "      <th>text</th>\n",
       "      <th>label</th>\n",
       "      <th>text_len</th>\n",
       "      <th>text_cnt</th>\n",
       "    </tr>\n",
       "  </thead>\n",
       "  <tbody>\n",
       "    <tr>\n",
       "      <th>2</th>\n",
       "      <td>3608</td>\n",
       "      <td>Kerry to go to Paris in gesture of sympathy</td>\n",
       "      <td>U.S. Secretary of State John F. Kerry said Mon...</td>\n",
       "      <td>REAL</td>\n",
       "      <td>2543</td>\n",
       "      <td>423</td>\n",
       "    </tr>\n",
       "    <tr>\n",
       "      <th>4</th>\n",
       "      <td>875</td>\n",
       "      <td>The Battle of New York: Why This Primary Matters</td>\n",
       "      <td>It's primary day in New York and front-runners...</td>\n",
       "      <td>REAL</td>\n",
       "      <td>1840</td>\n",
       "      <td>307</td>\n",
       "    </tr>\n",
       "    <tr>\n",
       "      <th>7</th>\n",
       "      <td>95</td>\n",
       "      <td>‘Britain’s Schindler’ Dies at 106</td>\n",
       "      <td>A Czech stockbroker who saved more than 650 Je...</td>\n",
       "      <td>REAL</td>\n",
       "      <td>783</td>\n",
       "      <td>123</td>\n",
       "    </tr>\n",
       "    <tr>\n",
       "      <th>8</th>\n",
       "      <td>4869</td>\n",
       "      <td>Fact check: Trump and Clinton at the 'commande...</td>\n",
       "      <td>Hillary Clinton and Donald Trump made some ina...</td>\n",
       "      <td>REAL</td>\n",
       "      <td>13863</td>\n",
       "      <td>2288</td>\n",
       "    </tr>\n",
       "    <tr>\n",
       "      <th>9</th>\n",
       "      <td>2909</td>\n",
       "      <td>Iran reportedly makes new push for uranium con...</td>\n",
       "      <td>Iranian negotiators reportedly have made a las...</td>\n",
       "      <td>REAL</td>\n",
       "      <td>4296</td>\n",
       "      <td>692</td>\n",
       "    </tr>\n",
       "    <tr>\n",
       "      <th>...</th>\n",
       "      <td>...</td>\n",
       "      <td>...</td>\n",
       "      <td>...</td>\n",
       "      <td>...</td>\n",
       "      <td>...</td>\n",
       "      <td>...</td>\n",
       "    </tr>\n",
       "    <tr>\n",
       "      <th>6324</th>\n",
       "      <td>2316</td>\n",
       "      <td>Alabama Lawmaker: Same-Sex Couples Don’t Deser...</td>\n",
       "      <td>Most conservatives who oppose marriage equalit...</td>\n",
       "      <td>REAL</td>\n",
       "      <td>1822</td>\n",
       "      <td>283</td>\n",
       "    </tr>\n",
       "    <tr>\n",
       "      <th>6327</th>\n",
       "      <td>3262</td>\n",
       "      <td>GOP Senator David Perdue Jokes About Praying f...</td>\n",
       "      <td>The freshman senator from Georgia quoted scrip...</td>\n",
       "      <td>REAL</td>\n",
       "      <td>2212</td>\n",
       "      <td>362</td>\n",
       "    </tr>\n",
       "    <tr>\n",
       "      <th>6330</th>\n",
       "      <td>4490</td>\n",
       "      <td>State Department says it can't find emails fro...</td>\n",
       "      <td>The State Department told the Republican Natio...</td>\n",
       "      <td>REAL</td>\n",
       "      <td>4076</td>\n",
       "      <td>629</td>\n",
       "    </tr>\n",
       "    <tr>\n",
       "      <th>6333</th>\n",
       "      <td>4021</td>\n",
       "      <td>In Ethiopia, Obama seeks progress on peace, se...</td>\n",
       "      <td>ADDIS ABABA, Ethiopia —President Obama convene...</td>\n",
       "      <td>REAL</td>\n",
       "      <td>6991</td>\n",
       "      <td>1093</td>\n",
       "    </tr>\n",
       "    <tr>\n",
       "      <th>6334</th>\n",
       "      <td>4330</td>\n",
       "      <td>Jeb Bush Is Suddenly Attacking Trump. Here's W...</td>\n",
       "      <td>Jeb Bush Is Suddenly Attacking Trump. Here's W...</td>\n",
       "      <td>REAL</td>\n",
       "      <td>4818</td>\n",
       "      <td>801</td>\n",
       "    </tr>\n",
       "  </tbody>\n",
       "</table>\n",
       "<p>3171 rows × 6 columns</p>\n",
       "</div>"
      ],
      "text/plain": [
       "      Unnamed: 0                                              title  \\\n",
       "2           3608        Kerry to go to Paris in gesture of sympathy   \n",
       "4            875   The Battle of New York: Why This Primary Matters   \n",
       "7             95                  ‘Britain’s Schindler’ Dies at 106   \n",
       "8           4869  Fact check: Trump and Clinton at the 'commande...   \n",
       "9           2909  Iran reportedly makes new push for uranium con...   \n",
       "...          ...                                                ...   \n",
       "6324        2316  Alabama Lawmaker: Same-Sex Couples Don’t Deser...   \n",
       "6327        3262  GOP Senator David Perdue Jokes About Praying f...   \n",
       "6330        4490  State Department says it can't find emails fro...   \n",
       "6333        4021  In Ethiopia, Obama seeks progress on peace, se...   \n",
       "6334        4330  Jeb Bush Is Suddenly Attacking Trump. Here's W...   \n",
       "\n",
       "                                                   text label  text_len  \\\n",
       "2     U.S. Secretary of State John F. Kerry said Mon...  REAL      2543   \n",
       "4     It's primary day in New York and front-runners...  REAL      1840   \n",
       "7     A Czech stockbroker who saved more than 650 Je...  REAL       783   \n",
       "8     Hillary Clinton and Donald Trump made some ina...  REAL     13863   \n",
       "9     Iranian negotiators reportedly have made a las...  REAL      4296   \n",
       "...                                                 ...   ...       ...   \n",
       "6324  Most conservatives who oppose marriage equalit...  REAL      1822   \n",
       "6327  The freshman senator from Georgia quoted scrip...  REAL      2212   \n",
       "6330  The State Department told the Republican Natio...  REAL      4076   \n",
       "6333  ADDIS ABABA, Ethiopia —President Obama convene...  REAL      6991   \n",
       "6334  Jeb Bush Is Suddenly Attacking Trump. Here's W...  REAL      4818   \n",
       "\n",
       "      text_cnt  \n",
       "2          423  \n",
       "4          307  \n",
       "7          123  \n",
       "8         2288  \n",
       "9          692  \n",
       "...        ...  \n",
       "6324       283  \n",
       "6327       362  \n",
       "6330       629  \n",
       "6333      1093  \n",
       "6334       801  \n",
       "\n",
       "[3171 rows x 6 columns]"
      ]
     },
     "execution_count": 14,
     "metadata": {},
     "output_type": "execute_result"
    }
   ],
   "source": [
    "filter = df['label'] == 'REAL'\n",
    "df_real = df[filter]\n",
    "df_real"
   ]
  },
  {
   "cell_type": "code",
   "execution_count": 15,
<<<<<<< HEAD
=======
   "id": "cosmetic-antenna",
>>>>>>> upstream/jun
   "metadata": {},
   "outputs": [
    {
     "data": {
      "text/html": [
       "<div>\n",
       "<style scoped>\n",
       "    .dataframe tbody tr th:only-of-type {\n",
       "        vertical-align: middle;\n",
       "    }\n",
       "\n",
       "    .dataframe tbody tr th {\n",
       "        vertical-align: top;\n",
       "    }\n",
       "\n",
       "    .dataframe thead th {\n",
       "        text-align: right;\n",
       "    }\n",
       "</style>\n",
       "<table border=\"1\" class=\"dataframe\">\n",
       "  <thead>\n",
       "    <tr style=\"text-align: right;\">\n",
       "      <th></th>\n",
       "      <th>Unnamed: 0</th>\n",
       "      <th>title</th>\n",
       "      <th>text</th>\n",
       "      <th>label</th>\n",
       "      <th>text_len</th>\n",
       "      <th>text_cnt</th>\n",
       "    </tr>\n",
       "  </thead>\n",
       "  <tbody>\n",
       "    <tr>\n",
       "      <th>0</th>\n",
       "      <td>8476</td>\n",
       "      <td>You Can Smell Hillary’s Fear</td>\n",
       "      <td>Daniel Greenfield, a Shillman Journalism Fello...</td>\n",
       "      <td>FAKE</td>\n",
       "      <td>7518</td>\n",
       "      <td>1298</td>\n",
       "    </tr>\n",
       "    <tr>\n",
       "      <th>1</th>\n",
       "      <td>10294</td>\n",
       "      <td>Watch The Exact Moment Paul Ryan Committed Pol...</td>\n",
       "      <td>Google Pinterest Digg Linkedin Reddit Stumbleu...</td>\n",
       "      <td>FAKE</td>\n",
       "      <td>2646</td>\n",
       "      <td>446</td>\n",
       "    </tr>\n",
       "    <tr>\n",
       "      <th>3</th>\n",
       "      <td>10142</td>\n",
       "      <td>Bernie supporters on Twitter erupt in anger ag...</td>\n",
       "      <td>— Kaydee King (@KaydeeKing) November 9, 2016 T...</td>\n",
       "      <td>FAKE</td>\n",
       "      <td>2660</td>\n",
       "      <td>404</td>\n",
       "    </tr>\n",
       "    <tr>\n",
       "      <th>5</th>\n",
       "      <td>6903</td>\n",
       "      <td>Tehran, USA</td>\n",
       "      <td>\\nI’m not an immigrant, but my grandparents ...</td>\n",
       "      <td>FAKE</td>\n",
       "      <td>13333</td>\n",
       "      <td>2348</td>\n",
       "    </tr>\n",
       "    <tr>\n",
       "      <th>6</th>\n",
       "      <td>7341</td>\n",
       "      <td>Girl Horrified At What She Watches Boyfriend D...</td>\n",
       "      <td>Share This Baylee Luciani (left), Screenshot o...</td>\n",
       "      <td>FAKE</td>\n",
       "      <td>3171</td>\n",
       "      <td>553</td>\n",
       "    </tr>\n",
       "    <tr>\n",
       "      <th>...</th>\n",
       "      <td>...</td>\n",
       "      <td>...</td>\n",
       "      <td>...</td>\n",
       "      <td>...</td>\n",
       "      <td>...</td>\n",
       "      <td>...</td>\n",
       "    </tr>\n",
       "    <tr>\n",
       "      <th>6326</th>\n",
       "      <td>6143</td>\n",
       "      <td>DOJ COMPLAINT: Comey Under Fire Over Partisan ...</td>\n",
       "      <td>DOJ COMPLAINT: Comey Under Fire Over Partisan ...</td>\n",
       "      <td>FAKE</td>\n",
       "      <td>3077</td>\n",
       "      <td>489</td>\n",
       "    </tr>\n",
       "    <tr>\n",
       "      <th>6328</th>\n",
       "      <td>9337</td>\n",
       "      <td>Radio Derb Is On The Air–Leonardo And Brazil’s...</td>\n",
       "      <td></td>\n",
       "      <td>FAKE</td>\n",
       "      <td>1</td>\n",
       "      <td>2</td>\n",
       "    </tr>\n",
       "    <tr>\n",
       "      <th>6329</th>\n",
       "      <td>8737</td>\n",
       "      <td>Assange claims ‘crazed’ Clinton campaign tried...</td>\n",
       "      <td>Julian Assange has claimed the Hillary Clinton...</td>\n",
       "      <td>FAKE</td>\n",
       "      <td>2572</td>\n",
       "      <td>412</td>\n",
       "    </tr>\n",
       "    <tr>\n",
       "      <th>6331</th>\n",
       "      <td>8062</td>\n",
       "      <td>The ‘P’ in PBS Should Stand for ‘Plutocratic’ ...</td>\n",
       "      <td>The ‘P’ in PBS Should Stand for ‘Plutocratic’ ...</td>\n",
       "      <td>FAKE</td>\n",
       "      <td>14323</td>\n",
       "      <td>2183</td>\n",
       "    </tr>\n",
       "    <tr>\n",
       "      <th>6332</th>\n",
       "      <td>8622</td>\n",
       "      <td>Anti-Trump Protesters Are Tools of the Oligarc...</td>\n",
       "      <td>Anti-Trump Protesters Are Tools of the Oligar...</td>\n",
       "      <td>FAKE</td>\n",
       "      <td>11974</td>\n",
       "      <td>1910</td>\n",
       "    </tr>\n",
       "  </tbody>\n",
       "</table>\n",
       "<p>3164 rows × 6 columns</p>\n",
       "</div>"
      ],
      "text/plain": [
       "      Unnamed: 0                                              title  \\\n",
       "0           8476                       You Can Smell Hillary’s Fear   \n",
       "1          10294  Watch The Exact Moment Paul Ryan Committed Pol...   \n",
       "3          10142  Bernie supporters on Twitter erupt in anger ag...   \n",
       "5           6903                                        Tehran, USA   \n",
       "6           7341  Girl Horrified At What She Watches Boyfriend D...   \n",
       "...          ...                                                ...   \n",
       "6326        6143  DOJ COMPLAINT: Comey Under Fire Over Partisan ...   \n",
       "6328        9337  Radio Derb Is On The Air–Leonardo And Brazil’s...   \n",
       "6329        8737  Assange claims ‘crazed’ Clinton campaign tried...   \n",
       "6331        8062  The ‘P’ in PBS Should Stand for ‘Plutocratic’ ...   \n",
       "6332        8622  Anti-Trump Protesters Are Tools of the Oligarc...   \n",
       "\n",
       "                                                   text label  text_len  \\\n",
       "0     Daniel Greenfield, a Shillman Journalism Fello...  FAKE      7518   \n",
       "1     Google Pinterest Digg Linkedin Reddit Stumbleu...  FAKE      2646   \n",
       "3     — Kaydee King (@KaydeeKing) November 9, 2016 T...  FAKE      2660   \n",
       "5       \\nI’m not an immigrant, but my grandparents ...  FAKE     13333   \n",
       "6     Share This Baylee Luciani (left), Screenshot o...  FAKE      3171   \n",
       "...                                                 ...   ...       ...   \n",
       "6326  DOJ COMPLAINT: Comey Under Fire Over Partisan ...  FAKE      3077   \n",
       "6328                                                     FAKE         1   \n",
       "6329  Julian Assange has claimed the Hillary Clinton...  FAKE      2572   \n",
       "6331  The ‘P’ in PBS Should Stand for ‘Plutocratic’ ...  FAKE     14323   \n",
       "6332   Anti-Trump Protesters Are Tools of the Oligar...  FAKE     11974   \n",
       "\n",
       "      text_cnt  \n",
       "0         1298  \n",
       "1          446  \n",
       "3          404  \n",
       "5         2348  \n",
       "6          553  \n",
       "...        ...  \n",
       "6326       489  \n",
       "6328         2  \n",
       "6329       412  \n",
       "6331      2183  \n",
       "6332      1910  \n",
       "\n",
       "[3164 rows x 6 columns]"
      ]
     },
     "execution_count": 15,
     "metadata": {},
     "output_type": "execute_result"
    }
   ],
   "source": [
    "filter = df['label'] == 'FAKE'\n",
    "df_fake = df[filter]\n",
    "df_fake"
   ]
  },
  {
   "cell_type": "markdown",
<<<<<<< HEAD
=======
   "id": "waiting-cambridge",
>>>>>>> upstream/jun
   "metadata": {},
   "source": [
    "# Character count"
   ]
  },
  {
   "cell_type": "code",
   "execution_count": 16,
<<<<<<< HEAD
=======
   "id": "experienced-bulgaria",
>>>>>>> upstream/jun
   "metadata": {},
   "outputs": [
    {
     "name": "stdout",
     "output_type": "stream",
     "text": [
      "\n",
      "    max(text_len): 44039\n",
      "    min(text_len): 43 \n",
      "    max(freq_text_len): 58\n",
      "    min(freq_text_len): 1\n",
      "    count(distinct freq_text_len): 2610\n",
      "\n"
     ]
    }
   ],
   "source": [
    "max_text_len = max(df_real.text_len)\n",
    "min_text_len = min(df_real.text_len)\n",
    "max_freq_text_len = df_real.text_len.value_counts().max()\n",
    "min_freq_text_len = df_real.text_len.value_counts().min()\n",
    "cnt_distinct_text_len = df_real.text_len.nunique()\n",
    "\n",
    "print(\"\"\"\n",
    "    max(text_len): {0}\n",
    "    min(text_len): {1} \n",
    "    max(freq_text_len): {2}\n",
    "    min(freq_text_len): {3}\n",
    "    count(distinct freq_text_len): {4}\n",
    "\"\"\".format(max_text_len, min_text_len, max_freq_text_len, min_freq_text_len, cnt_distinct_text_len))"
   ]
  },
  {
   "cell_type": "code",
   "execution_count": 17,
<<<<<<< HEAD
=======
   "id": "toxic-sheep",
>>>>>>> upstream/jun
   "metadata": {},
   "outputs": [
    {
     "data": {
      "image/png": "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\n",
      "text/plain": [
       "<Figure size 864x576 with 1 Axes>"
      ]
     },
     "metadata": {
      "needs_background": "light"
     },
     "output_type": "display_data"
    }
   ],
   "source": [
    "bins = cnt_distinct_text_len\n",
    "plt.figure(figsize=(12, 8))\n",
    "plt.hist(df_real.text_len, bins=bins)\n",
    "plt.ylim(min_freq_text_len, max_freq_text_len)\n",
    "plt.xlabel('text char count')\n",
    "plt.ylabel('frequency')\n",
    "plt.title('Text Char Count Histogram')\n",
    "plt.grid(True)\n",
    "plt.show()"
   ]
  },
  {
   "cell_type": "code",
   "execution_count": 23,
<<<<<<< HEAD
=======
   "id": "athletic-coach",
>>>>>>> upstream/jun
   "metadata": {},
   "outputs": [
    {
     "data": {
      "image/png": "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\n",
      "text/plain": [
       "<Figure size 864x576 with 1 Axes>"
      ]
     },
     "metadata": {
      "needs_background": "light"
     },
     "output_type": "display_data"
    }
   ],
   "source": [
    "tmp_df = df_real[df_real['text_len'] < 20000]\n",
    "\n",
    "bins = 200\n",
    "plt.figure(figsize=(12, 8))\n",
    "plt.hist(tmp_df.text_len, bins=bins)\n",
    "# plt.ylim(min_freq_text_len, max_freq_text_len)\n",
    "plt.ylim(0, 100)\n",
    "plt.xlabel('text char count')\n",
    "plt.ylabel('frequency')\n",
    "plt.title('Text Char Count Histogram')\n",
    "plt.grid(True)\n",
    "plt.show()"
   ]
  },
  {
   "cell_type": "code",
   "execution_count": 20,
<<<<<<< HEAD
=======
   "id": "unable-public",
>>>>>>> upstream/jun
   "metadata": {
    "collapsed": true,
    "jupyter": {
     "outputs_hidden": true
    }
   },
   "outputs": [
    {
     "name": "stdout",
     "output_type": "stream",
     "text": [
      "\n",
      "    max(text_len): 115372\n",
      "    min(text_len): 1 \n",
      "    max(freq_text_len): 36\n",
      "    min(freq_text_len): 1\n",
      "    count(distinct freq_text_len): 2525\n",
      "\n"
     ]
    }
   ],
   "source": [
    "max_text_len = max(df_fake.text_len)\n",
    "min_text_len = min(df_fake.text_len)\n",
    "max_freq_text_len = df_fake.text_len.value_counts().max()\n",
    "min_freq_text_len = df_fake.text_len.value_counts().min()\n",
    "cnt_distinct_text_len = df_fake.text_len.nunique()\n",
    "\n",
    "print(\"\"\"\n",
    "    max(text_len): {0}\n",
    "    min(text_len): {1} \n",
    "    max(freq_text_len): {2}\n",
    "    min(freq_text_len): {3}\n",
    "    count(distinct freq_text_len): {4}\n",
    "\"\"\".format(max_text_len, min_text_len, max_freq_text_len, min_freq_text_len, cnt_distinct_text_len))"
   ]
  },
  {
   "cell_type": "code",
   "execution_count": 21,
<<<<<<< HEAD
=======
   "id": "noble-receiver",
>>>>>>> upstream/jun
   "metadata": {
    "collapsed": true,
    "jupyter": {
     "outputs_hidden": true
    }
   },
   "outputs": [
    {
     "data": {
      "image/png": "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\n",
      "text/plain": [
       "<Figure size 864x576 with 1 Axes>"
      ]
     },
     "metadata": {
      "needs_background": "light"
     },
     "output_type": "display_data"
    }
   ],
   "source": [
    "bins = cnt_distinct_text_len\n",
    "plt.figure(figsize=(12, 8))\n",
    "plt.hist(df_fake.text_len, bins=bins, color=\"red\")\n",
    "plt.ylim(min_freq_text_len, max_freq_text_len)\n",
    "plt.xlabel('text char count')\n",
    "plt.ylabel('frequency')\n",
    "plt.title('Text Char Count Histogram')\n",
    "plt.grid(True)\n",
    "plt.show()"
   ]
  },
  {
   "cell_type": "code",
   "execution_count": 26,
<<<<<<< HEAD
=======
   "id": "residential-sector",
>>>>>>> upstream/jun
   "metadata": {},
   "outputs": [
    {
     "data": {
      "image/png": "iVBORw0KGgoAAAANSUhEUgAAAtkAAAHwCAYAAABzBnP9AAAAOXRFWHRTb2Z0d2FyZQBNYXRwbG90bGliIHZlcnNpb24zLjMuMywgaHR0cHM6Ly9tYXRwbG90bGliLm9yZy/Il7ecAAAACXBIWXMAAAsTAAALEwEAmpwYAAApK0lEQVR4nO3de5hld1kn+u8LARQaSAhMS0gkKIiio0h6EHTEDnC4KRIVEYaBgDgZFRGPIoOXo6jjKIo64lE5KIwRkYBcDjkeEGJIeyeY5g4hEiKXhBAMEKBR0Zh3/tir6Z1KV3fV7l/Vrqr+fJ5nP7332muv9e63dlV/61e/tVZ1dwAAgHFutuwCAABgpxGyAQBgMCEbAAAGE7IBAGAwIRsAAAYTsgEAYDAhG+AYVNXeqrpy2XVsZVX1uqo6e9l1AGwmIRvYNqrqwNzthqr6p7nHj19ge2sKyFV136p6bVVdV1WfqKo3V9WTF3sX61dVt6uq/1lVH5re6/unx3fc4P0+qar+8ijr7Kuq71mx7EZ97e6Hd/e5a9hfV9XdF68YYOsQsoFto7t3Hbwl+VCSR84te8lG7LOq7p/kjUn+LMndk5yc5PuSPHwD9nXCYZbdMsmFSb4yycOS3C7J/ZN8PMl9R9ewUx2utwAbScgGtr2qullVPWsa4f14Vb28qu4wPffbVfXKuXWfU1UXVtVtkrwuySlzo+GnHGbzv5zk3O5+Tndf2zP7u/sxK2r4kar6WFVdPT/KXVXfXFVvrapPV9WHq+rZc8+dPo3ePqWqPpRZmF/piUm+OMm3dfd7uvuG7v5Yd/9cd7922s5XTCPK11XVu6vqW+f2caOR5pWj09P+v7eq3je9/jdr5iuSPD/J/afeXLeWr8XhzNdQVXevqj+rqk9V1bVV9bJp+Z9Pq7992t93Tcv/S1VdPv0F4fz5r1FVPaSqLpu29VvTdg/u50lV9VdV9WtV9fEkz66qL62qN06fkWur6iVVdeLc9j5QVT9aVe+oqs9W1Quravc03eUzVfWnVXXSon0Aji9CNrATPC3JWUm+KckpST6Z5Den534kyb+fQtc3JnlKkrO7+7OZjUZ/ZG40/CPzG62qW2c2avyKo+z/i5LcPsldpu3/5lwY+2xmQfnEJN+c5Puq6qwVr/+mJF+R5KGH2faDk/xJdx843I6r6hZJ/r8kb0jy76ZevKSq7nmUmud9S5L/kOSrkzwmyUO7+9Ik35vkb6benLiO7R3Jz021npTk1CS/kSTd/YDp+a+Z9veyqnpgkl+Yarpzkg8mOS9Jpqkyr0jyY5n9deGyJF+/Yl9fl+SKJLuT/HySmrZ3Smb9Pi3Js1e85juS/B9JvizJIzP7RezHk9wps/8zf/AY3z9wnBCygZ3ge5P8RHdf2d2fyyw4PbqqTujuf0zyhCS/muQPkjytu9d6oOJJmf2cvPoo6/1rkp/t7n+dRpcPJLlnknT3vu5+5zQC/Y4kL80sVM97dnd/trv/6TDbPvko+79fkl1JfrG7/6W735jkj5M87mhvbs4vdvd13f2hJBclufc6Xpskz5tGwa+bRrz/+Ajr/muSuyY5pbv/ubuPNOf78Ule1N1vmb6uP5bZyPrpSR6R5N3d/aruvj7J85J8dMXrP9Ldv9Hd13f3P3X35d19QXd/rrv/IbPPxMqvxW909zXdfVWSv0hycXe/tbv/Ocmrk3ztWhoCIGQDO8Fdk7x6LuRdmuTfMhvBTHdfnNmIZiV5+Tq2+8kkN2Q2inokH5+C3kH/mFnwTVV9XVVdVFX/UFWfyuwXgpUHLH74SNs+yv5PSfLh7r5hbtkHMxtVX6v5cPr52tfhB7v7xIO3zEbGV/PMzL4Ob56mtnz3EdY9JbP3kiSZRvM/ntl7OyVzfevuTrLyl6cb9XWa+nFeVV1VVZ/O7JeulV+La+bu/9NhHq+3N8BxSsgGdoIPJ3n4fNDr7i+YRiNTVU9NcqskH8ks5B3UR9roNAr+N5lNIVjUHyY5P8lp3X37zOY518pdHeH1f5rkodMc8sP5SJLTqmr+5/kXJ7lquv/ZJLeee+6L1lr4UepaSHd/tLv/S3efkuS/JvmtI5xR5COZ/QKVJJl6cHJm7+3qzKabHHyu5h8f3N2Kx/9jWvbvu/t2Sf5zbvq1ABhCyAZ2gucn+fmqumuSVNWdqupR0/0vS/LfMwtUT0jyzKq69/S6a5KcXFW3P8K2n5nkSdMBcSdP2/yaqjpvjbXdNsknuvufq+q+Sf7TOt/bizP7JeKVVfXlNTvI8+Sq+vGqekSSizMbfX5mVd2iqvZmNpf4YH1vS/LtVXXrKcw+ZR37vibJqTU7w8kQVfWdVXUwDH8ys9B7cBT+miRfMrf6S5M8uaruXVW3yiwkX9zdH0jy/2c21/6smp055Kk5+i8Qt81sKs+nquouSX50xHsCOBwhG9gJfj2z0eI3VNVnkrwpyddN4esPkjynu9/e3e/L7CC2F1fVrbr7vZkFuSumqSY3ObtId/91kgdOtyuq6hNJXpDktWus7fuT/OxU109lfdNVMs1FfnCS9ya5IMmnk7w5s2kOF3f3v2QWqh+e5Nokv5XkidN7S5JfS/IvmQXYc5Os51SHb0zy7iQfrapr11P3EfyHJBdX1YHMvmZP7+4rpueeneTc6WvxmO7+0yT/V5JXZjZy/aVJHpsk3X1tku9M8kuZTSG5V5JLknzuCPv+mST3SfKpzEL6qwa9J4CbqNk0NgDYvqbpMlcmeXx3X7TsegCMZAOwLVXVQ6vqxGkqyY9nNr/6TUsuCyDJBobsqnpRzS7M8K65ZXeoqgtqdtGDCw6eR7ZmnjddcOAdVXWfjaoLgB3j/knen9k0mUcmOWuV0yACbLqNHMn+vcwuATzvWUku7O57ZHaZ4GdNyx+e5B7T7Zwkv72BdQGwA3T3s7v75O6+bXd/3XSqRoAtYcNCdnf/eZJPrFj8qMwOvMn071lzy39/ulzxm5KcWFVHOy8tAABsSZs9J3t3dx+8ctlHM10oIrMLC8xfNODKrO9CCgAAsGWcsKwdd3dX1bpPbVJV52Q2pSRf+IVfeMZpp502vLajueGGG3KzmzlmdBF6tzi9W4y+LU7vFqd3i9G3xendYtbTt7/7u7+7trvvtNZtb3bIvqaq7tzdV0/TQT42Lb8qyXxaPjWHrlZ2I939gszOUZs9e/b0JZdcspH1Hta+ffuyd+/eTd/vTqB3i9O7xejb4vRucXq3GH1bnN4tZj19q6oPrmfbm/0rz/lJzp7un53kNXPLnzidZeR+ST41N60EAAC2lQ0bya6qlybZm+SOVXVlkp9O8otJXl5VT0nywSSPmVZ/bZJHJLk8s8sDP3mj6gIAgI22YSG7ux+3ylMPOsy6neSpG1ULAABsJjPkAQBgMCEbAAAGE7IBAGAwIRsAAAYTsgEAYDAhGwAABhOyAQBgMCEbAAAGE7IBAGAwIRsAAAYTsgEAYDAhGwAABhOyAQBgMCEbAAAGE7IBAGAwIRsAAAYTsgEAYDAhGwAABhOyAQBgMCEbAAAGE7IBAGAwIRsAAAYTsgEAYDAhGwAABhOyAQBgMCEbAAAGE7IBAGAwIRsAAAYTsgEAYDAhGwAABhOyAQBgMCEbAAAGE7IBAGAwIRsAAAYTsgEAYDAhGwAABhOyAQBgMCEbAAAGE7IBAGAwIRsAAAYTsgEAYDAhGwAABhOyAQBgMCEbAAAGE7IBAGAwIRsAAAYTsgEAYDAhGwAABhOyAQBgMCEbAAAGE7IBAGAwIRsAAAYTsgEAYDAhGwAABhOyAQBgMCEbAAAGE7IBAGAwIRsAAAYTsgEAYDAhGwAABhOyAQBgMCEbAAAGE7IBAGAwIRsAAAYTsgEAYDAhGwAABhOyAQBgMCEbAAAGE7IBAGAwIRsAAAYTsgEAYDAhGwAABhOyAQBgsBOWXcCOU3Xofvfy6gAAYGmMZAMAwGBCNgAADCZkAwDAYEI2AAAMtpSQXVX/Z1W9u6reVVUvraovqKq7VdXFVXV5Vb2sqm65jNoAAOBYbXrIrqq7JPnBJHu6+6uS3DzJY5M8J8mvdffdk3wyyVM2uzYAABhhWdNFTkjyhVV1QpJbJ7k6yQOTvGJ6/twkZy2nNAAAODabHrK7+6okz03yoczC9aeS7E9yXXdfP612ZZK7bHZtAAAwQvUmXzClqk5K8sok35XkuiR/lNkI9rOnqSKpqtOSvG6aTrLy9eckOSdJdu/efcZ55523SZUfcuDAgezatevwT+7ff+j+GWdsTkHbyBF7xxHp3WL0bXF6tzi9W4y+LU7vFrOevp155pn7u3vPWre9jCs+PjjJ33f3PyRJVb0qyTckObGqTphGs09NctXhXtzdL0jygiTZs2dP7927d1OKnrdv376sut8zzzx03xUfb+KIveOI9G4x+rY4vVuc3i1G3xand4vZyL4tY072h5Lcr6puXVWV5EFJ3pPkoiSPntY5O8lrllAbAAAcs2XMyb44s+khb0nyzqmGFyT5b0l+uKouT3Jykhdudm0AADDCMqaLpLt/OslPr1h8RZL7LqEcAAAYyhUfAQBgMCEbAAAGE7IBAGAwIRsAAAYTsgEAYDAhGwAABhOyAQBgMCEbAAAGE7IBAGAwIRsAAAYTsgEAYDAhGwAABhOyAQBgMCEbAAAGE7IBAGAwIRsAAAYTsgEAYDAhGwAABhOyAQBgMCEbAAAGE7IBAGCwE5ZdAJuo6tD97uVvBwBghzKSDQAAgwnZAAAwmJANAACDCdkAADCYkA0AAIMJ2QAAMJiQDQAAgwnZAAAwmIvRbDerXQjGBWIAALYMI9kAADCYkA0AAIMJ2QAAMJiQDQAAgwnZAAAwmJANAACDCdkAADCY82RvFuexBgA4bhjJBgCAwYRsAAAYTMgGAIDBhGwAABhMyAYAgMGEbAAAGEzIBgCAwYRsAAAYzMVotrP5C9wcy2tdHAcAYCgj2QAAMJiQDQAAgwnZAAAwmDnZO92xzNsGAGAhRrIBAGAwIRsAAAYTsgEAYDAhGwAABhOyAQBgMCEbAAAGE7IBAGAwIRsAAAYTsgEAYDAhGwAABhOyAQBgMCEbAAAGO2HZBWxbVYfudy+vDgAAthwj2QAAMJiQDQAAgwnZAAAwmJANAACDOfBxJ5o/KBMAgE1nJBsAAAYTsgEAYDAhGwAABjMnm7FcpAcAwEg2AACMJmQDAMBgQjYAAAwmZAMAwGBLCdlVdWJVvaKq3ltVl1bV/avqDlV1QVW9b/r3pGXUtpCqQzcAAI57yxrJ/vUkf9LdX57ka5JcmuRZSS7s7nskuXB6DAAA286mh+yqun2SByR5YZJ0979093VJHpXk3Gm1c5Octdm1AQDACMsYyb5bkn9I8r+q6q1V9btVdZsku7v76mmdjybZvYTaAADgmFVv8gVDqmpPkjcl+Ybuvriqfj3Jp5M8rbtPnFvvk919k3nZVXVOknOSZPfu3Wecd955m1P4nAMHDmTXZZcdfcUzzjh0f//+wy9fr/ntjLLeetZaw2G2e+DAgezatWt9+yOJ3i1K3xand4vTu8Xo2+L0bjHr6duZZ565v7v3rHXbywjZX5TkTd19+vT4GzObf333JHu7++qqunOSfd19zyNta8+ePX3JJZdsdMk3sW/fvuw988yjrzjf21FXQtyIgyvXW89aazjMdvft25e9e/eub38k0btF6dvi9G5xercYfVuc3i1mPX2rqnWF7E2fLtLdH03y4ao6GKAflOQ9Sc5Pcva07Owkr9ns2gAAYIQTlrTfpyV5SVXdMskVSZ6cWeB/eVU9JckHkzxmSbUBAMAxWUrI7u63JTnccPuDNrkU1so5wAEA1swVHwEAYDAhGwAABhOyAQBgMCEbAAAGE7IBAGAwIRsAAAYTsgEAYDAhGwAABlvWFR/ZSuYvNNO9vDoAAHYII9kAADCYkA0AAIMJ2QAAMJg52Wwd5oYDADuEkWwAABhMyAYAgMGEbAAAGOyoIbuq9lfVU6vqpM0oCAAAtru1jGR/V5JTkvxtVZ1XVQ+tmj9CjWNSdei2luUAAGx5Rw3Z3X15d/9Eki9L8odJXpTkg1X1M1V1h40uEAAAtps1zcmuqq9O8itJfjnJK5N8Z5JPJ3njxpUGAADb01HPk11V+5Ncl+SFSZ7V3Z+bnrq4qr5hA2sDAIBtaS0Xo/nO7r7icE9097cProetxHxwAICFrGW6yPdU1YkHH1TVSVX13zeuJAAA2N7WErIf3t3XHXzQ3Z9M8ogNqwgAALa5tYTsm1fVrQ4+qKovTHKrI6wPAADHtbXMyX5Jkgur6n9Nj5+c5NyNK4kdb36ud/fy6gAA2CBHDdnd/ZyqekeSB02Lfq67X7+xZQEAwPa1lpHsdPfrkrxug2sBAIAd4ahzsqvq26vqfVX1qar6dFV9pqo+vRnFAQDAdrSWkexfSvLI7r50o4sBAICdYC1nF7lGwAYAgLVby0j2JVX1siT/b5KDl1RPd79qo4oCAIDtbC0h+3ZJ/jHJQ+aWdRIhGwAADmMtp/B78mYUAgAAO8Vazi7yZVV1YVW9a3r81VX1kxtfGp9Xdei2k/YFALBDreXAx99J8mNJ/jVJuvsdSR67kUUBAMB2tpaQfevufvOKZddvRDEAALATrCVkX1tVX5rZwY6pqkcnuXpDqwIAgG1sLWcXeWqSFyT58qq6KsnfJ/nPG1oVAABsY2s5u8gVSR5cVbdJcrPu/szGlwUAANvXUUN2Vf3UisdJku7+2Q2qCQAAtrW1TBf57Nz9L0jyLUlcZh0AAFaxlukivzL/uKqem+T1G1YRAABsc2s5u8hKt05y6uhCAABgp1jLnOx3Zjp9X5KbJ7lTEvOxAQBgFWuZk/0tc/evT3JNd7sYDQAArGItIXvlKftud/AMI0nS3Z8YWhEAAGxzawnZb0lyWpJPJqkkJyb50PRcJ/mSDamMneXgL2bPfe5y6wAA2ARrOfDxgiSP7O47dvfJmU0feUN33627BWwAAFhhLSH7ft392oMPuvt1Sb5+40oCAIDtbS3TRT5SVT+Z5A+mx49P8pGNKwkAALa3tYxkPy6z0/a9OsmrpvuP28iiOI5UHboBAOwQa7ni4yeSPL2qbtPdnz3a+gAAcLw76kh2VX19Vb0nyaXT46+pqt/a8MoAAGCbWst0kV9L8tAkH0+S7n57kgdsZFEAALCdrSVkp7s/vGLRv21ALQAAsCOs5ewiH66qr0/SVXWLJE/PNHUEjmgjDmac32b3+O0DAAywlpHs703y1CR3SXJVkntPjwEAgMM44kh2Vd08ya939+M3qR4AANj2jjiS3d3/luSuVXXLTaoHAAC2vbXMyb4iyV9V1flJPn+e7O7+1Q2r6njlgiwAADvCqiPZVfXi6e63Jvnjad3bzt0AAIDDONJI9hlVdUqSDyX5jU2qBwAAtr0jheznJ7kwyd2SXDK3vJJ0ki/ZwLoAAGDbWjVkd/fzkjyvqn67u79vE2sC58MGALa1o54nW8AGAID1WdNl1QEAgLUTsgEAYDAhGwAABhOyAQBgMCEbAAAGE7IBAGAwIRsAAAYTsgEAYDAhGwAABhOyAQBgMCEbAAAGO2HZBRyXqpZdAQAAG2hpI9lVdfOqemtV/fH0+G5VdXFVXV5VL6uqWy6rNgAAOBbLnC7y9CSXzj1+TpJf6+67J/lkkqcspSoAADhGSwnZVXVqkm9O8rvT40rywCSvmFY5N8lZy6gNAACO1bJGsv9nkmcmuWF6fHKS67r7+unxlUnusoS6AADgmFV3b+4Oq74lySO6+/uram+SZyR5UpI3TVNFUlWnJXldd3/VYV5/TpJzkmT37t1nnHfeeZtU+SEHDhzIrssuO/qKZ5xx6P7+/RtX0DZy4NRTs+vKK9f3otX6OL/8OHDgwIHs2rVr2WVsO/q2OL1bnN4tRt8Wp3eLWU/fzjzzzP3dvWet215GyP6FJE9Icn2SL0hyuySvTvLQJF/U3ddX1f2TPLu7H3qkbe3Zs6cvueSSjS75Jvbt25e9Z5559BXne+uMIkmSfc99bvY+4xnre9Fqfdzkz+6y7du3L3v37l12GduOvi1O7xand4vRt8Xp3WLW07eqWlfI3vTpIt39Y919anefnuSxSd7Y3Y9PclGSR0+rnZ3kNZtdGwAAjLCVLkbz35L8cFVdntkc7RcuuR4AAFjIUi9G0937kuyb7l+R5L7LrAcAAEbYSiPZAACwIwjZAAAwmJANAACDCdkAADDYUg983PGcGxsA4LhkJBsAAAYTsgEAYDAhGwAABjMnm61vvXPb59fvHlsLAMAaGMkGAIDBhGwAABhMyAYAgMGEbAAAGEzIBgCAwYRsAAAYTMgGAIDBhGwAABhMyAYAgMGEbAAAGEzIBgCAwYRsAAAY7IRlFwALqzp0v3v8+gAACzKSDQAAgwnZAAAwmJANAACDCdkAADCYkA0AAIMJ2QAAMJiQDQAAgwnZAAAwmIvRsLPNX4AGAGCTGMkGAIDBhGwAABhMyAYAgMHMyeb4ND9Xu3t5dczbijUBAAsxkg0AAIMJ2QAAMJiQDQAAg5mTDaudS9u8aABgQUayAQBgMCEbAAAGE7IBAGAwIRsAAAYTsgEAYDAhGwAABhOyAQBgMCEbAAAGE7IBAGAwIRsAAAYTsgEAYDAhGwAABjth2QXAtlZ16H738uoAALYUI9kAADCYkA0AAIMJ2QAAMJiQDQAAgznwEVazGQc1zu8DANgxjGQDAMBgQjYAAAwmZAMAwGBCNmx1VbPb/v3LrgQAWCMhGwAABhOyAQBgMCEbAAAGc55sdoaNPt/0yHNmOzc2AOx4RrIBAGAwIRsAAAYTsgEAYDAhGwAABnPgI6yXAxcBgKMwkg0AAIMJ2QAAMJiQDQAAgwnZAAAwmJANAACDCdkAADCYkA0AAIM5TzaMcqTzZ3dv7P6OZfujtrPR2wSAbWTTR7Kr6rSquqiq3lNV766qp0/L71BVF1TV+6Z/T9rs2gAAYIRlTBe5PsmPdPe9ktwvyVOr6l5JnpXkwu6+R5ILp8cAALDtbHrI7u6ru/st0/3PJLk0yV2SPCrJudNq5yY5a7NrAwCAEZZ64GNVnZ7ka5NcnGR3d189PfXRJLuXVRcAAByL6iUdlFRVu5L8WZKf7+5XVdV13X3i3POf7O6bzMuuqnOSnJMku3fvPuO8887brJI/78CBA9l12WWbvt+d4MCpp2bXlVcuu4zNd8YZh+7v37/Q+gdOPTW7du++yfKbrD9v1DrrtRHbXNCBAweya9eupdawXend4vRuMfq2OL1bzHr6duaZZ+7v7j1r3fZSQnZV3SLJHyd5fXf/6rTssiR7u/vqqrpzkn3dfc8jbWfPnj19ySWXbHzBK+zbty97zzxz0/e7E+x77nOz9xnPWHYZm2/+++xIZyE5wvr7nvvc7P2RHzn8dlb7Ph61znptobOL7Nu3L3v37l1qDduV3i1O7xajb4vTu8Wsp29Vta6QvYyzi1SSFya59GDAnpyf5Ozp/tlJXrPZtQEAwAjLOE/2NyR5QpJ3VtXbpmU/nuQXk7y8qp6S5INJHrOE2gAA4Jhtesju7r9Mstrfyx+0mbXAtrOWqSYAwNK5rDoAAAwmZAMAwGBCNgAADCZkAwDAYMs4uwhwNFv5AMctdA5sANiqjGQDAMBgQjYAAAwmZAMAwGDmZMNm2GpzrFerZ73zrc3PBoDDMpINAACDCdkAADCYkA0AAIMJ2QAAMJiQDQAAgwnZAAAwmJANAACDCdkAADCYkA0AAIMJ2QAAMJiQDQAAgwnZAAAw2AnLLgDY4apWf657Y/e3EdsHgDUwkg0AAIMJ2QAAMJiQDQAAg5mTDSyP+dMA7FBGsgEAYDAhGwAABhOyAQBgMCEbAAAGE7KBraHq0G3kNvfvH7tNAFgDIRsAAAYTsgEAYDAhGwAABnMxGtgJ1nJRl/XOS17vhWJGz6U+nM28YM2xXCjHRXYAjntGsgEAYDAhGwAABhOyAQBgMHOyge1j1FztUXOmN2PutfndANuSkWwAABhMyAYAgMGEbAAAGEzIBgCAwRz4CBzfRl1E51i2s/K1DnAE2PaMZAMAwGBCNgAADCZkAwDAYOZkA0c3at7yMm2197BIPcdyMZ61XNTGhW8AhjGSDQAAgwnZAAAwmJANAACDmZMNO81Wm3vM1mPu9eL0DlgjI9kAADCYkA0AAIMJ2QAAMJiQDQAAgznwEdj+tsvBnmutc7u8n/U61oMGHXQIbCNGsgEAYDAhGwAABhOyAQBgMHOyAdZjvfOlN3t+9VaYt3wsNezU+ejLsBU+C3AcM5INAACDCdkAADCYkA0AAIMJ2QBHU3XothWtVt+x1F2V7N9/420caTvr3dex9nSj3vOI97De3o20EX3ZCrZ7/RyXhGwAABhMyAYAgMGEbAAAGEzIBgCAwYRsAJZrow5qW3ng4WYemLkeW+XgyGXZKvVsta/5Tj2I9TgiZAMAwGBCNgAADCZkAwDAYCcsuwAAlmi98zo3ev1FHEtN3eO3fyzbWUttK7ezlvew3prWsu+N2O96X3ssNay1jpH7W8b217rvecfy9d+I97PMHh0DI9kAADCYkA0AAIMJ2QAAMJiQDcDxayufc3it5/ne6PewlvM1H8s68/bvH/deNvM801vhczTfuyPd1mJZPdoKfRxoS4XsqnpYVV1WVZdX1bOWXQ8AACxiy4Tsqrp5kt9M8vAk90ryuKq613KrAgCA9dsyITvJfZNc3t1XdPe/JDkvyaOWXBMAAKzbVgrZd0ny4bnHV07LAABgW6neIif1rqpHJ3lYd3/P9PgJSb6uu39gxXrnJDlnenjPJJdtaqEzd0xy7RL2uxPo3eL0bjH6tji9W5zeLUbfFqd3i1lP3+7a3Xda64a30hUfr0py2tzjU6dlN9LdL0jygs0q6nCq6pLu3rPMGrYrvVuc3i1G3xand4vTu8Xo2+L0bjEb2betNF3kb5Pco6ruVlW3TPLYJOcvuSYAAFi3LTOS3d3XV9UPJHl9kpsneVF3v3vJZQEAwLptmZCdJN392iSvXXYda7DU6SrbnN4tTu8Wo2+L07vF6d1i9G1xereYDevbljnwEQAAdoqtNCcbAAB2BCF7nVz6/caq6rSquqiq3lNV766qp0/Ln11VV1XV26bbI+Ze82NT/y6rqofOLT/ueltVH6iqd049umRadoequqCq3jf9e9K0vKrqeVN/3lFV95nbztnT+u+rqrOX9X42Q1Xdc+5z9baq+nRV/ZDP3OFV1Yuq6mNV9a65ZcM+Y1V1xvQZvnx6bW3uO9w4q/Tul6vqvVN/Xl1VJ07LT6+qf5r7/D1/7jWH7dFqX4ftbpW+Dfv+rNkJEi6elr+sZidL2BFW6d3L5vr2gap627TcZ25Sq2eR5f6s6263Nd4yOyDz/Um+JMktk7w9yb2WXdeSe3LnJPeZ7t82yd8luVeSZyd5xmHWv9fUt1sludvUz5sfr71N8oEkd1yx7JeSPGu6/6wkz5nuPyLJ65JUkvsluXhafockV0z/njTdP2nZ722T+nfzJB9NclefuVV79IAk90nyro34jCV587RuTa99+LLf8wb37iFJTpjuP2eud6fPr7diO4ft0Wpfh+1+W6Vvw74/k7w8yWOn+89P8n3Lfs8b2bsVz/9Kkp/ymbvJ+10tiyz1Z52R7PVx6fcVuvvq7n7LdP8zSS7Nka/U+agk53X357r775Ncnllf9faQRyU5d7p/bpKz5pb/fs+8KcmJVXXnJA9NckF3f6K7P5nkgiQP2+Sal+VBSd7f3R88wjrH9Weuu/88ySdWLB7yGZueu113v6ln/wv9/ty2tr3D9a6739Dd108P35TZNR1WdZQerfZ12NZW+cytZl3fn9Po4QOTvGJ6/Y7pW3Lk3k3v/TFJXnqkbRynn7nVsshSf9YJ2evj0u9HUFWnJ/naJBdPi35g+jPMi+b+JLVaD4/X3naSN1TV/ppdzTRJdnf31dP9jybZPd3Xu5t6bG78H47P3NqM+ozdZbq/cvnx4rszG9E66G5V9daq+rOq+sZp2ZF6tNrXYaca8f15cpLr5n7ROZ4+c9+Y5Jruft/cMp+5FVZkkaX+rBOyGaKqdiV5ZZIf6u5PJ/ntJF+a5N5Jrs7sT1zc1H/s7vskeXiSp1bVA+afnH5jdgqgw5jmYX5rkj+aFvnMLcBnbDFV9RNJrk/ykmnR1Um+uLu/NskPJ/nDqrrdWrd3HHwdfH8eu8flxoMKPnMrHCaLfN4y3q+QvT5ruvT78aaqbpHZh/ol3f2qJOnua7r737r7hiS/k9mf/pLVe3hc9ra7r5r+/ViSV2fWp2umP00d/LPfx6bV9e7GHp7kLd19TeIzt06jPmNX5cbTJY6LHlbVk5J8S5LHT/9xZ5ru8PHp/v7M5hN/WY7co9W+DjvOwO/Pj2f2p/0TVizf0ab3++1JXnZwmc/cjR0ui2TJP+uE7PVx6fcVpjliL0xyaXf/6tzyO8+t9m1JDh4pfX6Sx1bVrarqbknukdnBBMddb6vqNlV124P3Mzug6l2Zve+DRzSfneQ10/3zkzxxOir6fkk+Nf0Z7PVJHlJVJ01/gn3ItGynu9Gojs/cugz5jE3Pfbqq7jf9LHji3LZ2pKp6WJJnJvnW7v7HueV3qqqbT/e/JLPP2RVH6dFqX4cdZ9T35/RLzUVJHj29fkf3bc6Dk7y3uz8/ZcFn7pDVskiW/bPuaEdGut3kCNZHZHbU6vuT/MSy61n2Lcl/zOzPL+9I8rbp9ogkL07yzmn5+UnuPPean5j6d1nmjs493nqb2VHzb59u7z74njObc3hhkvcl+dMkd5iWV5LfnPrzziR75rb13ZkdMHR5kicv+71tQu9uk9mI1u3nlvnMHb5XL83sz8r/mtk8wqeM/Iwl2ZNZYHp/kv8700XOdsJtld5dntmczYM/754/rfsd0/fx25K8Jckjj9aj1b4O2/22St+GfX9OPzvfPH0t/ijJrZb9njeyd9Py30vyvSvW9Zk79H5XyyJL/Vnnio8AADCY6SIAADCYkA0AAIMJ2QAAMJiQDQAAgwnZAAAwmJANsEGq6sSq+v5jeP29q+oR63zNB6rqjovuc7NV1Q9V1a2XXQfAaEI2wMY5McnCITuzS1CvK2Qfi7mr6G2mH0oiZAM7jpANsHF+McmXVtXbquqXk6SqfrSq/raq3lFVPzMt+7aqunC6+tidq+rvquqLk/xsku+aXv9d8xuuqptX1XOr6l3Ttp429/TTquotVfXOqvryaf37VtXfVNVbq+qvq+qe0/InVdX5VfXGzC7akBX7eeK0/bdX1YunZadX1Run5RdOtaaqfq+qHj332gPTv3ural9VvaKq3ltVL5ne6w8mOSXJRVV10aCeA2wJyxi1ADhePCvJV3X3vZOkqh6S2aWP75vZFcfOr6oHdPerq+o7kjw1ycOS/HR3f6iqfiqzK5H9wGG2fU6S05Pcu7uvr6o7zD13bXffZ5qq8owk35PkvUm+cVr3wUn+R2ZXjEuS+yT56u7+xPwOquork/xkkq/v7mvn9vEbSc7t7nOr6ruTPC/JWUfpxdcm+cokH0nyV0m+obufV1U/nOTM7r72KK8H2FaEbIDN85Dp9tbp8a7MQvefJ3laZpfsfVN3v3QN23pwZpf0vj5JVgTkV03/7k/y7dP92yc5t6rukdnlh28xt/4FKwP25IFJ/uhgAJ5b5/5z231xkl9aQ71v7u4rk6Sq3pbZLwh/uYbXAWxLQjbA5qkkv9Dd/89hnjs1yQ1JdlfVzbr7hmPYz+emf/8th37O/1ySi7r726rq9CT75tb/7DHsa971maYhVtXNktzyMDWtrAtgRzInG2DjfCbJbecevz7Jd1fVriSpqrtU1b+bDjh8UZLHJbk0yQ+v8vp5FyT5rwcPVlwxXeRwbp/kqun+k9ZY/xuTfGdVnbxiH3+d5LHT/ccn+Yvp/geSnDHd/9bceLR8NUd6jwDblpANsEG6++NJ/mo6OPGXu/sNSf4wyd9U1TuTvCKzgPnjSf6iu/8ys4D9PVX1FUkuSnKvwx34mOR3k3woyTuq6u1J/tNRyvmlJL9QVW/NGkeRu/vdSX4+yZ9N+/jV6amnJXlyVb0jyROSPH1a/jtJvmla9/5Z2wj5C5L8iQMfgZ2munvZNQAAwI5iJBsAAAYTsgEAYDAhGwAABhOyAQBgMCEbAAAGE7IBAGAwIRsAAAYTsgEAYLD/Dd/xCw4AHaiSAAAAAElFTkSuQmCC\n",
      "text/plain": [
       "<Figure size 864x576 with 1 Axes>"
      ]
     },
     "metadata": {
      "needs_background": "light"
     },
     "output_type": "display_data"
    }
   ],
   "source": [
    "tmp_df = df_fake[df_fake['text_len'] < 20000]\n",
    "\n",
    "bins = 200\n",
    "plt.figure(figsize=(12, 8))\n",
    "plt.hist(tmp_df.text_len, bins=bins, color=\"red\")\n",
    "plt.ylim(0, 100)\n",
    "# plt.ylim(min_freq_text_len, max_freq_text_len)\n",
    "plt.xlabel('text char count')\n",
    "plt.ylabel('frequency')\n",
    "plt.title('Text Char Count Histogram')\n",
    "plt.grid(True)\n",
    "plt.show()"
   ]
  },
  {
   "cell_type": "markdown",
<<<<<<< HEAD
=======
   "id": "auburn-being",
>>>>>>> upstream/jun
   "metadata": {},
   "source": [
    "# Word count"
   ]
  },
  {
   "cell_type": "markdown",
<<<<<<< HEAD
=======
   "id": "earned-execution",
>>>>>>> upstream/jun
   "metadata": {},
   "source": [
    "# Real Word Counts"
   ]
  },
  {
   "cell_type": "code",
   "execution_count": 28,
<<<<<<< HEAD
=======
   "id": "packed-movie",
>>>>>>> upstream/jun
   "metadata": {},
   "outputs": [
    {
     "name": "stdout",
     "output_type": "stream",
     "text": [
      "\n",
      "    max(text_cnt): 7546\n",
      "    min(text_cnt): 7 \n",
      "    max(freq_text_cnt): 73\n",
      "    min(freq_text_cnt): 1\n",
      "    count(distinct freq_text_cnt): 1470\n",
      "\n"
     ]
    }
   ],
   "source": [
    "# label = REAL \n",
    "max_text_cnt = max(df_real.text_cnt)\n",
    "min_text_cnt = min(df_real.text_cnt)\n",
    "max_freq_text_cnt = df_real.text_cnt.value_counts().max()\n",
    "min_freq_text_cnt = df_real.text_cnt.value_counts().min()\n",
    "cnt_distinct_text_cnt = df_real.text_cnt.nunique()\n",
    "\n",
    "print(\"\"\"\n",
    "    max(text_cnt): {0}\n",
    "    min(text_cnt): {1} \n",
    "    max(freq_text_cnt): {2}\n",
    "    min(freq_text_cnt): {3}\n",
    "    count(distinct freq_text_cnt): {4}\n",
    "\"\"\".format(max_text_cnt, min_text_cnt, max_freq_text_cnt, min_freq_text_cnt, cnt_distinct_text_cnt))"
   ]
  },
  {
   "cell_type": "code",
   "execution_count": 160,
<<<<<<< HEAD
=======
   "id": "italic-groove",
>>>>>>> upstream/jun
   "metadata": {},
   "outputs": [
    {
     "data": {
      "image/png": "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\n",
      "text/plain": [
       "<Figure size 864x576 with 1 Axes>"
      ]
     },
     "metadata": {
      "needs_background": "light"
     },
     "output_type": "display_data"
    }
   ],
   "source": [
    "bins = cnt_distinct_text_cnt\n",
    "plt.figure(figsize=(12, 8))\n",
    "plt.hist(df_real.text_cnt, bins=bins)\n",
    "plt.ylim(min_freq_text_cnt, max_freq_text_cnt)\n",
    "plt.xlabel('text word count')\n",
    "plt.ylabel('frequency')\n",
    "plt.title('Text word Count Histogram')\n",
    "plt.grid(True)\n",
    "plt.show()"
   ]
  },
  {
   "cell_type": "code",
   "execution_count": 31,
<<<<<<< HEAD
=======
   "id": "breeding-radar",
>>>>>>> upstream/jun
   "metadata": {},
   "outputs": [
    {
     "data": {
      "image/png": "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\n",
      "text/plain": [
       "<Figure size 864x576 with 1 Axes>"
      ]
     },
     "metadata": {
      "needs_background": "light"
     },
     "output_type": "display_data"
    }
   ],
   "source": [
    "tmp_df = df_real[df_real['text_cnt'] < 2000]\n",
    "\n",
    "bins = 200\n",
    "plt.figure(figsize=(12, 8))\n",
    "plt.hist(tmp_df.text_cnt, bins=bins)\n",
    "plt.ylim(min_freq_text_cnt, max_freq_text_cnt)\n",
    "plt.xlabel('text word count')\n",
    "plt.ylabel('frequency')\n",
    "plt.title('Text word Count Histogram')\n",
    "plt.grid(True)\n",
    "plt.show()"
   ]
  },
  {
   "cell_type": "code",
   "execution_count": 177,
<<<<<<< HEAD
=======
   "id": "promising-asbestos",
>>>>>>> upstream/jun
   "metadata": {},
   "outputs": [
    {
     "data": {
      "text/plain": [
       "count    3171.000000\n",
       "mean      852.018606\n",
       "std       706.371750\n",
       "min         7.000000\n",
       "25%       438.000000\n",
       "50%       752.000000\n",
       "75%      1095.000000\n",
       "max      7546.000000\n",
       "Name: text_cnt, dtype: float64"
      ]
     },
     "execution_count": 177,
     "metadata": {},
     "output_type": "execute_result"
    }
   ],
   "source": [
    "df_real['text_cnt'].describe()"
   ]
  },
  {
   "cell_type": "code",
   "execution_count": 176,
<<<<<<< HEAD
=======
   "id": "rational-agent",
>>>>>>> upstream/jun
   "metadata": {},
   "outputs": [
    {
     "data": {
      "text/plain": [
       "count    3022.000000\n",
       "mean      741.787889\n",
       "std       443.695182\n",
       "min         7.000000\n",
       "25%       421.000000\n",
       "50%       727.500000\n",
       "75%      1036.750000\n",
       "max      1987.000000\n",
       "Name: text_cnt, dtype: float64"
      ]
     },
     "execution_count": 176,
     "metadata": {},
     "output_type": "execute_result"
    }
   ],
   "source": [
    "df_real[df_real['text_cnt'] < 2000]['text_cnt'].describe()"
   ]
  },
  {
   "cell_type": "markdown",
<<<<<<< HEAD
=======
   "id": "universal-retrieval",
>>>>>>> upstream/jun
   "metadata": {},
   "source": [
    "# Fake Word Counts"
   ]
  },
  {
   "cell_type": "code",
   "execution_count": 168,
<<<<<<< HEAD
=======
   "id": "collaborative-tablet",
>>>>>>> upstream/jun
   "metadata": {},
   "outputs": [
    {
     "name": "stdout",
     "output_type": "stream",
     "text": [
      "\n",
      "    max(text_cnt): 20897\n",
      "    min(text_cnt): 2 \n",
      "    max(freq_text_cnt): 36\n",
      "    min(freq_text_cnt): 1\n",
      "    count(distinct freq_text_cnt): 1359\n",
      "\n"
     ]
    }
   ],
   "source": [
    "# label = FAKE \n",
    "max_text_cnt = max(df_fake.text_cnt)\n",
    "min_text_cnt = min(df_fake.text_cnt)\n",
    "max_freq_text_cnt = df_fake.text_cnt.value_counts().max()\n",
    "min_freq_text_cnt = df_fake.text_cnt.value_counts().min()\n",
    "cnt_distinct_text_cnt = df_fake.text_cnt.nunique()\n",
    "\n",
    "print(\"\"\"\n",
    "    max(text_cnt): {0}\n",
    "    min(text_cnt): {1} \n",
    "    max(freq_text_cnt): {2}\n",
    "    min(freq_text_cnt): {3}\n",
    "    count(distinct freq_text_cnt): {4}\n",
    "\"\"\".format(max_text_cnt, min_text_cnt, max_freq_text_cnt, min_freq_text_cnt, cnt_distinct_text_cnt))"
   ]
  },
  {
   "cell_type": "code",
   "execution_count": 170,
<<<<<<< HEAD
=======
   "id": "incomplete-multiple",
>>>>>>> upstream/jun
   "metadata": {},
   "outputs": [
    {
     "data": {
      "image/png": "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\n",
      "text/plain": [
       "<Figure size 864x576 with 1 Axes>"
      ]
     },
     "metadata": {
      "needs_background": "light"
     },
     "output_type": "display_data"
    }
   ],
   "source": [
    "bins = cnt_distinct_text_cnt\n",
    "plt.figure(figsize=(12, 8))\n",
    "plt.hist(df_fake.text_cnt, bins=bins, color=\"red\")\n",
    "plt.ylim(min_freq_text_cnt, max_freq_text_cnt)\n",
    "plt.xlabel('text word count')\n",
    "plt.ylabel('frequency')\n",
    "plt.title('Text word Count Histogram')\n",
    "plt.grid(True)\n",
    "plt.show()"
   ]
  },
  {
   "cell_type": "code",
   "execution_count": 174,
<<<<<<< HEAD
=======
   "id": "living-handle",
>>>>>>> upstream/jun
   "metadata": {},
   "outputs": [
    {
     "data": {
      "image/png": "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\n",
      "text/plain": [
       "<Figure size 864x576 with 1 Axes>"
      ]
     },
     "metadata": {
      "needs_background": "light"
     },
     "output_type": "display_data"
    }
   ],
   "source": [
    "# also show 2000 articles \n",
    "tmp_df = df_fake[df_fake['text_cnt'] < 5000]\n",
    "\n",
    "bins = 100\n",
    "plt.figure(figsize=(12, 8))\n",
    "plt.hist(tmp_df.text_cnt, bins=bins, color=\"red\")\n",
    "# plt.ylim(min_freq_text_cnt, max_freq_text_cnt)\n",
    "plt.xlabel('text word count')\n",
    "plt.ylabel('frequency')\n",
    "plt.title('Text word Count Histogram')\n",
    "plt.grid(True)\n",
    "plt.show()"
   ]
  },
  {
   "cell_type": "code",
   "execution_count": 178,
<<<<<<< HEAD
=======
   "id": "compliant-bruce",
>>>>>>> upstream/jun
   "metadata": {},
   "outputs": [
    {
     "data": {
      "text/plain": [
       "count     3164.000000\n",
       "mean       678.947535\n",
       "std        957.274981\n",
       "min          2.000000\n",
       "25%        212.000000\n",
       "50%        421.000000\n",
       "75%        828.250000\n",
       "max      20897.000000\n",
       "Name: text_cnt, dtype: float64"
      ]
     },
     "execution_count": 178,
     "metadata": {},
     "output_type": "execute_result"
    }
   ],
   "source": [
    "df_fake['text_cnt'].describe()"
   ]
  },
  {
   "cell_type": "code",
   "execution_count": 179,
<<<<<<< HEAD
=======
   "id": "paperback-technique",
>>>>>>> upstream/jun
   "metadata": {},
   "outputs": [
    {
     "data": {
      "text/plain": [
       "count    2995.000000\n",
       "mean      524.389983\n",
       "std       436.097343\n",
       "min         2.000000\n",
       "25%       205.000000\n",
       "50%       394.000000\n",
       "75%       733.000000\n",
       "max      1999.000000\n",
       "Name: text_cnt, dtype: float64"
      ]
     },
     "execution_count": 179,
     "metadata": {},
     "output_type": "execute_result"
    }
   ],
   "source": [
    "df_fake[df_fake['text_cnt'] < 2000]['text_cnt'].describe()"
   ]
  },
  {
   "cell_type": "markdown",
<<<<<<< HEAD
=======
   "id": "relevant-dealer",
>>>>>>> upstream/jun
   "metadata": {},
   "source": [
    "## Discussion: difference between word counts in fake and real articles"
   ]
  },
  {
   "cell_type": "markdown",
<<<<<<< HEAD
=======
   "id": "binding-wheel",
>>>>>>> upstream/jun
   "metadata": {},
   "source": [
    "# Calculate the min and max character and word counts for title and text columns."
   ]
  },
  {
   "cell_type": "code",
   "execution_count": 94,
<<<<<<< HEAD
=======
   "id": "thirty-velvet",
>>>>>>> upstream/jun
   "metadata": {},
   "outputs": [
    {
     "name": "stdout",
     "output_type": "stream",
     "text": [
      "\n",
      "    title_char_max: 289\n",
      "    title_char_min: 1\n",
      "    title_word_max: 53\n",
      "    title_word_min: 1\n",
      "\n"
     ]
    }
   ],
   "source": [
    "title_char_max  = df.title.str.len().max()\n",
    "title_char_min  = df.title.str.len().min()\n",
    "title_word_max  = (df.title.str.count(' ') + 1).max()\n",
    "title_word_min  = (df.title.str.count(' ') + 1).min()\n",
    "\n",
    "print(\"\"\"\n",
    "    title_char_max: {0}\n",
    "    title_char_min: {1}\n",
    "    title_word_max: {2}\n",
    "    title_word_min: {3}\n",
    "\"\"\".format(title_char_max, title_char_min, title_word_max, title_word_min))"
   ]
  },
  {
   "cell_type": "code",
   "execution_count": 95,
<<<<<<< HEAD
=======
   "id": "integrated-rebel",
>>>>>>> upstream/jun
   "metadata": {},
   "outputs": [
    {
     "name": "stdout",
     "output_type": "stream",
     "text": [
      "\n",
      "    text_char_max: 115848\n",
      "    text_char_min: 1\n",
      "    text_word_max: 20897\n",
      "    text_word_min: 2\n",
      "\n"
     ]
    }
   ],
   "source": [
    "text_char_max  = df.text.str.len().max()\n",
    "text_char_min  = df.text.str.len().min()\n",
    "text_word_max  = (df.text.str.count(' ') + 1).max()\n",
    "text_word_min  = (df.text.str.count(' ') + 1).min()\n",
    "\n",
    "print(\"\"\"\n",
    "    text_char_max: {0}\n",
    "    text_char_min: {1}\n",
    "    text_word_max: {2}\n",
    "    text_word_min: {3}\n",
    "\"\"\".format(text_char_max, text_char_min, text_word_max, text_word_min))"
   ]
  },
  {
   "cell_type": "markdown",
<<<<<<< HEAD
=======
   "id": "understanding-growth",
>>>>>>> upstream/jun
   "metadata": {},
   "source": [
    "# Calculate the total number of distinct words across all articles. \n",
    "# Note the difference between the max words in the text and the total number of unique words in the dataset."
   ]
  },
  {
   "cell_type": "code",
   "execution_count": 182,
<<<<<<< HEAD
=======
   "id": "pursuant-indonesia",
>>>>>>> upstream/jun
   "metadata": {},
   "outputs": [
    {
     "data": {
      "text/html": [
       "<div>\n",
       "<style scoped>\n",
       "    .dataframe tbody tr th:only-of-type {\n",
       "        vertical-align: middle;\n",
       "    }\n",
       "\n",
       "    .dataframe tbody tr th {\n",
       "        vertical-align: top;\n",
       "    }\n",
       "\n",
       "    .dataframe thead th {\n",
       "        text-align: right;\n",
       "    }\n",
       "</style>\n",
       "<table border=\"1\" class=\"dataframe\">\n",
       "  <thead>\n",
       "    <tr style=\"text-align: right;\">\n",
       "      <th></th>\n",
       "      <th>Unnamed: 0</th>\n",
       "      <th>title</th>\n",
       "      <th>text</th>\n",
       "      <th>label</th>\n",
       "      <th>text_len</th>\n",
       "      <th>text_cnt</th>\n",
       "      <th>char_to_word</th>\n",
       "      <th>cnt_distinct_word</th>\n",
       "      <th>diff</th>\n",
       "    </tr>\n",
       "  </thead>\n",
       "  <tbody>\n",
       "    <tr>\n",
       "      <th>0</th>\n",
       "      <td>8476</td>\n",
       "      <td>You Can Smell Hillary’s Fear</td>\n",
       "      <td>Daniel Greenfield, a Shillman Journalism Fello...</td>\n",
       "      <td>FAKE</td>\n",
       "      <td>7518</td>\n",
       "      <td>1298</td>\n",
       "      <td>5.791988</td>\n",
       "      <td>554</td>\n",
       "      <td>744</td>\n",
       "    </tr>\n",
       "    <tr>\n",
       "      <th>1</th>\n",
       "      <td>10294</td>\n",
       "      <td>Watch The Exact Moment Paul Ryan Committed Pol...</td>\n",
       "      <td>Google Pinterest Digg Linkedin Reddit Stumbleu...</td>\n",
       "      <td>FAKE</td>\n",
       "      <td>2646</td>\n",
       "      <td>446</td>\n",
       "      <td>5.932735</td>\n",
       "      <td>277</td>\n",
       "      <td>169</td>\n",
       "    </tr>\n",
       "    <tr>\n",
       "      <th>2</th>\n",
       "      <td>3608</td>\n",
       "      <td>Kerry to go to Paris in gesture of sympathy</td>\n",
       "      <td>U.S. Secretary of State John F. Kerry said Mon...</td>\n",
       "      <td>REAL</td>\n",
       "      <td>2543</td>\n",
       "      <td>423</td>\n",
       "      <td>6.011820</td>\n",
       "      <td>237</td>\n",
       "      <td>186</td>\n",
       "    </tr>\n",
       "    <tr>\n",
       "      <th>3</th>\n",
       "      <td>10142</td>\n",
       "      <td>Bernie supporters on Twitter erupt in anger ag...</td>\n",
       "      <td>— Kaydee King (@KaydeeKing) November 9, 2016 T...</td>\n",
       "      <td>FAKE</td>\n",
       "      <td>2660</td>\n",
       "      <td>404</td>\n",
       "      <td>6.584158</td>\n",
       "      <td>249</td>\n",
       "      <td>155</td>\n",
       "    </tr>\n",
       "    <tr>\n",
       "      <th>4</th>\n",
       "      <td>875</td>\n",
       "      <td>The Battle of New York: Why This Primary Matters</td>\n",
       "      <td>It's primary day in New York and front-runners...</td>\n",
       "      <td>REAL</td>\n",
       "      <td>1840</td>\n",
       "      <td>307</td>\n",
       "      <td>5.993485</td>\n",
       "      <td>176</td>\n",
       "      <td>131</td>\n",
       "    </tr>\n",
       "    <tr>\n",
       "      <th>...</th>\n",
       "      <td>...</td>\n",
       "      <td>...</td>\n",
       "      <td>...</td>\n",
       "      <td>...</td>\n",
       "      <td>...</td>\n",
       "      <td>...</td>\n",
       "      <td>...</td>\n",
       "      <td>...</td>\n",
       "      <td>...</td>\n",
       "    </tr>\n",
       "    <tr>\n",
       "      <th>6330</th>\n",
       "      <td>4490</td>\n",
       "      <td>State Department says it can't find emails fro...</td>\n",
       "      <td>The State Department told the Republican Natio...</td>\n",
       "      <td>REAL</td>\n",
       "      <td>4076</td>\n",
       "      <td>629</td>\n",
       "      <td>6.480127</td>\n",
       "      <td>276</td>\n",
       "      <td>353</td>\n",
       "    </tr>\n",
       "    <tr>\n",
       "      <th>6331</th>\n",
       "      <td>8062</td>\n",
       "      <td>The ‘P’ in PBS Should Stand for ‘Plutocratic’ ...</td>\n",
       "      <td>The ‘P’ in PBS Should Stand for ‘Plutocratic’ ...</td>\n",
       "      <td>FAKE</td>\n",
       "      <td>14323</td>\n",
       "      <td>2183</td>\n",
       "      <td>6.561154</td>\n",
       "      <td>1028</td>\n",
       "      <td>1155</td>\n",
       "    </tr>\n",
       "    <tr>\n",
       "      <th>6332</th>\n",
       "      <td>8622</td>\n",
       "      <td>Anti-Trump Protesters Are Tools of the Oligarc...</td>\n",
       "      <td>Anti-Trump Protesters Are Tools of the Oligar...</td>\n",
       "      <td>FAKE</td>\n",
       "      <td>11974</td>\n",
       "      <td>1910</td>\n",
       "      <td>6.269110</td>\n",
       "      <td>768</td>\n",
       "      <td>1142</td>\n",
       "    </tr>\n",
       "    <tr>\n",
       "      <th>6333</th>\n",
       "      <td>4021</td>\n",
       "      <td>In Ethiopia, Obama seeks progress on peace, se...</td>\n",
       "      <td>ADDIS ABABA, Ethiopia —President Obama convene...</td>\n",
       "      <td>REAL</td>\n",
       "      <td>6991</td>\n",
       "      <td>1093</td>\n",
       "      <td>6.396157</td>\n",
       "      <td>544</td>\n",
       "      <td>549</td>\n",
       "    </tr>\n",
       "    <tr>\n",
       "      <th>6334</th>\n",
       "      <td>4330</td>\n",
       "      <td>Jeb Bush Is Suddenly Attacking Trump. Here's W...</td>\n",
       "      <td>Jeb Bush Is Suddenly Attacking Trump. Here's W...</td>\n",
       "      <td>REAL</td>\n",
       "      <td>4818</td>\n",
       "      <td>801</td>\n",
       "      <td>6.014981</td>\n",
       "      <td>409</td>\n",
       "      <td>392</td>\n",
       "    </tr>\n",
       "  </tbody>\n",
       "</table>\n",
       "<p>6335 rows × 9 columns</p>\n",
       "</div>"
      ],
      "text/plain": [
       "      Unnamed: 0                                              title  \\\n",
       "0           8476                       You Can Smell Hillary’s Fear   \n",
       "1          10294  Watch The Exact Moment Paul Ryan Committed Pol...   \n",
       "2           3608        Kerry to go to Paris in gesture of sympathy   \n",
       "3          10142  Bernie supporters on Twitter erupt in anger ag...   \n",
       "4            875   The Battle of New York: Why This Primary Matters   \n",
       "...          ...                                                ...   \n",
       "6330        4490  State Department says it can't find emails fro...   \n",
       "6331        8062  The ‘P’ in PBS Should Stand for ‘Plutocratic’ ...   \n",
       "6332        8622  Anti-Trump Protesters Are Tools of the Oligarc...   \n",
       "6333        4021  In Ethiopia, Obama seeks progress on peace, se...   \n",
       "6334        4330  Jeb Bush Is Suddenly Attacking Trump. Here's W...   \n",
       "\n",
       "                                                   text label  text_len  \\\n",
       "0     Daniel Greenfield, a Shillman Journalism Fello...  FAKE      7518   \n",
       "1     Google Pinterest Digg Linkedin Reddit Stumbleu...  FAKE      2646   \n",
       "2     U.S. Secretary of State John F. Kerry said Mon...  REAL      2543   \n",
       "3     — Kaydee King (@KaydeeKing) November 9, 2016 T...  FAKE      2660   \n",
       "4     It's primary day in New York and front-runners...  REAL      1840   \n",
       "...                                                 ...   ...       ...   \n",
       "6330  The State Department told the Republican Natio...  REAL      4076   \n",
       "6331  The ‘P’ in PBS Should Stand for ‘Plutocratic’ ...  FAKE     14323   \n",
       "6332   Anti-Trump Protesters Are Tools of the Oligar...  FAKE     11974   \n",
       "6333  ADDIS ABABA, Ethiopia —President Obama convene...  REAL      6991   \n",
       "6334  Jeb Bush Is Suddenly Attacking Trump. Here's W...  REAL      4818   \n",
       "\n",
       "      text_cnt  char_to_word  cnt_distinct_word  diff  \n",
       "0         1298      5.791988                554   744  \n",
       "1          446      5.932735                277   169  \n",
       "2          423      6.011820                237   186  \n",
       "3          404      6.584158                249   155  \n",
       "4          307      5.993485                176   131  \n",
       "...        ...           ...                ...   ...  \n",
       "6330       629      6.480127                276   353  \n",
       "6331      2183      6.561154               1028  1155  \n",
       "6332      1910      6.269110                768  1142  \n",
       "6333      1093      6.396157                544   549  \n",
       "6334       801      6.014981                409   392  \n",
       "\n",
       "[6335 rows x 9 columns]"
      ]
     },
     "execution_count": 182,
     "metadata": {},
     "output_type": "execute_result"
    }
   ],
   "source": [
    "# Total # of words\n",
    "df['text_cnt'] = df.text.str.count(' ') + 1\n",
    "\n",
    "# Total # of unique words (Is there better way remove special characters from text?)\n",
    "df['cnt_distinct_word'] = df.text.str.replace('[(,“,),%,$,+,.,\\,,@,—,‘,’,!]', '').str.lower().str.strip().str.split(' ')\n",
    "df['cnt_distinct_word'] = [len(set(word)) for word in df.cnt_distinct_word]\n",
    "\n",
    "# Difference\n",
    "df['diff'] = df['text_cnt']-df['cnt_distinct_word']\n",
    "df"
   ]
  },
  {
   "cell_type": "code",
   "execution_count": 183,
<<<<<<< HEAD
=======
   "id": "aboriginal-liquid",
>>>>>>> upstream/jun
   "metadata": {},
   "outputs": [
    {
     "data": {
      "text/html": [
       "<div>\n",
       "<style scoped>\n",
       "    .dataframe tbody tr th:only-of-type {\n",
       "        vertical-align: middle;\n",
       "    }\n",
       "\n",
       "    .dataframe tbody tr th {\n",
       "        vertical-align: top;\n",
       "    }\n",
       "\n",
       "    .dataframe thead th {\n",
       "        text-align: right;\n",
       "    }\n",
       "</style>\n",
       "<table border=\"1\" class=\"dataframe\">\n",
       "  <thead>\n",
       "    <tr style=\"text-align: right;\">\n",
       "      <th></th>\n",
       "      <th>Unnamed: 0</th>\n",
       "      <th>title</th>\n",
       "      <th>text</th>\n",
       "      <th>label</th>\n",
       "      <th>text_len</th>\n",
       "      <th>text_cnt</th>\n",
       "      <th>char_to_word</th>\n",
       "      <th>cnt_distinct_word</th>\n",
       "      <th>diff</th>\n",
       "      <th>distinct_ratio</th>\n",
       "    </tr>\n",
       "  </thead>\n",
       "  <tbody>\n",
       "    <tr>\n",
       "      <th>0</th>\n",
       "      <td>8476</td>\n",
       "      <td>You Can Smell Hillary’s Fear</td>\n",
       "      <td>Daniel Greenfield, a Shillman Journalism Fello...</td>\n",
       "      <td>FAKE</td>\n",
       "      <td>7518</td>\n",
       "      <td>1298</td>\n",
       "      <td>5.791988</td>\n",
       "      <td>554</td>\n",
       "      <td>744</td>\n",
       "      <td>0.426810</td>\n",
       "    </tr>\n",
       "    <tr>\n",
       "      <th>1</th>\n",
       "      <td>10294</td>\n",
       "      <td>Watch The Exact Moment Paul Ryan Committed Pol...</td>\n",
       "      <td>Google Pinterest Digg Linkedin Reddit Stumbleu...</td>\n",
       "      <td>FAKE</td>\n",
       "      <td>2646</td>\n",
       "      <td>446</td>\n",
       "      <td>5.932735</td>\n",
       "      <td>277</td>\n",
       "      <td>169</td>\n",
       "      <td>0.621076</td>\n",
       "    </tr>\n",
       "    <tr>\n",
       "      <th>2</th>\n",
       "      <td>3608</td>\n",
       "      <td>Kerry to go to Paris in gesture of sympathy</td>\n",
       "      <td>U.S. Secretary of State John F. Kerry said Mon...</td>\n",
       "      <td>REAL</td>\n",
       "      <td>2543</td>\n",
       "      <td>423</td>\n",
       "      <td>6.011820</td>\n",
       "      <td>237</td>\n",
       "      <td>186</td>\n",
       "      <td>0.560284</td>\n",
       "    </tr>\n",
       "    <tr>\n",
       "      <th>3</th>\n",
       "      <td>10142</td>\n",
       "      <td>Bernie supporters on Twitter erupt in anger ag...</td>\n",
       "      <td>— Kaydee King (@KaydeeKing) November 9, 2016 T...</td>\n",
       "      <td>FAKE</td>\n",
       "      <td>2660</td>\n",
       "      <td>404</td>\n",
       "      <td>6.584158</td>\n",
       "      <td>249</td>\n",
       "      <td>155</td>\n",
       "      <td>0.616337</td>\n",
       "    </tr>\n",
       "    <tr>\n",
       "      <th>4</th>\n",
       "      <td>875</td>\n",
       "      <td>The Battle of New York: Why This Primary Matters</td>\n",
       "      <td>It's primary day in New York and front-runners...</td>\n",
       "      <td>REAL</td>\n",
       "      <td>1840</td>\n",
       "      <td>307</td>\n",
       "      <td>5.993485</td>\n",
       "      <td>176</td>\n",
       "      <td>131</td>\n",
       "      <td>0.573290</td>\n",
       "    </tr>\n",
       "    <tr>\n",
       "      <th>...</th>\n",
       "      <td>...</td>\n",
       "      <td>...</td>\n",
       "      <td>...</td>\n",
       "      <td>...</td>\n",
       "      <td>...</td>\n",
       "      <td>...</td>\n",
       "      <td>...</td>\n",
       "      <td>...</td>\n",
       "      <td>...</td>\n",
       "      <td>...</td>\n",
       "    </tr>\n",
       "    <tr>\n",
       "      <th>6330</th>\n",
       "      <td>4490</td>\n",
       "      <td>State Department says it can't find emails fro...</td>\n",
       "      <td>The State Department told the Republican Natio...</td>\n",
       "      <td>REAL</td>\n",
       "      <td>4076</td>\n",
       "      <td>629</td>\n",
       "      <td>6.480127</td>\n",
       "      <td>276</td>\n",
       "      <td>353</td>\n",
       "      <td>0.438792</td>\n",
       "    </tr>\n",
       "    <tr>\n",
       "      <th>6331</th>\n",
       "      <td>8062</td>\n",
       "      <td>The ‘P’ in PBS Should Stand for ‘Plutocratic’ ...</td>\n",
       "      <td>The ‘P’ in PBS Should Stand for ‘Plutocratic’ ...</td>\n",
       "      <td>FAKE</td>\n",
       "      <td>14323</td>\n",
       "      <td>2183</td>\n",
       "      <td>6.561154</td>\n",
       "      <td>1028</td>\n",
       "      <td>1155</td>\n",
       "      <td>0.470912</td>\n",
       "    </tr>\n",
       "    <tr>\n",
       "      <th>6332</th>\n",
       "      <td>8622</td>\n",
       "      <td>Anti-Trump Protesters Are Tools of the Oligarc...</td>\n",
       "      <td>Anti-Trump Protesters Are Tools of the Oligar...</td>\n",
       "      <td>FAKE</td>\n",
       "      <td>11974</td>\n",
       "      <td>1910</td>\n",
       "      <td>6.269110</td>\n",
       "      <td>768</td>\n",
       "      <td>1142</td>\n",
       "      <td>0.402094</td>\n",
       "    </tr>\n",
       "    <tr>\n",
       "      <th>6333</th>\n",
       "      <td>4021</td>\n",
       "      <td>In Ethiopia, Obama seeks progress on peace, se...</td>\n",
       "      <td>ADDIS ABABA, Ethiopia —President Obama convene...</td>\n",
       "      <td>REAL</td>\n",
       "      <td>6991</td>\n",
       "      <td>1093</td>\n",
       "      <td>6.396157</td>\n",
       "      <td>544</td>\n",
       "      <td>549</td>\n",
       "      <td>0.497713</td>\n",
       "    </tr>\n",
       "    <tr>\n",
       "      <th>6334</th>\n",
       "      <td>4330</td>\n",
       "      <td>Jeb Bush Is Suddenly Attacking Trump. Here's W...</td>\n",
       "      <td>Jeb Bush Is Suddenly Attacking Trump. Here's W...</td>\n",
       "      <td>REAL</td>\n",
       "      <td>4818</td>\n",
       "      <td>801</td>\n",
       "      <td>6.014981</td>\n",
       "      <td>409</td>\n",
       "      <td>392</td>\n",
       "      <td>0.510612</td>\n",
       "    </tr>\n",
       "  </tbody>\n",
       "</table>\n",
       "<p>6335 rows × 10 columns</p>\n",
       "</div>"
      ],
      "text/plain": [
       "      Unnamed: 0                                              title  \\\n",
       "0           8476                       You Can Smell Hillary’s Fear   \n",
       "1          10294  Watch The Exact Moment Paul Ryan Committed Pol...   \n",
       "2           3608        Kerry to go to Paris in gesture of sympathy   \n",
       "3          10142  Bernie supporters on Twitter erupt in anger ag...   \n",
       "4            875   The Battle of New York: Why This Primary Matters   \n",
       "...          ...                                                ...   \n",
       "6330        4490  State Department says it can't find emails fro...   \n",
       "6331        8062  The ‘P’ in PBS Should Stand for ‘Plutocratic’ ...   \n",
       "6332        8622  Anti-Trump Protesters Are Tools of the Oligarc...   \n",
       "6333        4021  In Ethiopia, Obama seeks progress on peace, se...   \n",
       "6334        4330  Jeb Bush Is Suddenly Attacking Trump. Here's W...   \n",
       "\n",
       "                                                   text label  text_len  \\\n",
       "0     Daniel Greenfield, a Shillman Journalism Fello...  FAKE      7518   \n",
       "1     Google Pinterest Digg Linkedin Reddit Stumbleu...  FAKE      2646   \n",
       "2     U.S. Secretary of State John F. Kerry said Mon...  REAL      2543   \n",
       "3     — Kaydee King (@KaydeeKing) November 9, 2016 T...  FAKE      2660   \n",
       "4     It's primary day in New York and front-runners...  REAL      1840   \n",
       "...                                                 ...   ...       ...   \n",
       "6330  The State Department told the Republican Natio...  REAL      4076   \n",
       "6331  The ‘P’ in PBS Should Stand for ‘Plutocratic’ ...  FAKE     14323   \n",
       "6332   Anti-Trump Protesters Are Tools of the Oligar...  FAKE     11974   \n",
       "6333  ADDIS ABABA, Ethiopia —President Obama convene...  REAL      6991   \n",
       "6334  Jeb Bush Is Suddenly Attacking Trump. Here's W...  REAL      4818   \n",
       "\n",
       "      text_cnt  char_to_word  cnt_distinct_word  diff  distinct_ratio  \n",
       "0         1298      5.791988                554   744        0.426810  \n",
       "1          446      5.932735                277   169        0.621076  \n",
       "2          423      6.011820                237   186        0.560284  \n",
       "3          404      6.584158                249   155        0.616337  \n",
       "4          307      5.993485                176   131        0.573290  \n",
       "...        ...           ...                ...   ...             ...  \n",
       "6330       629      6.480127                276   353        0.438792  \n",
       "6331      2183      6.561154               1028  1155        0.470912  \n",
       "6332      1910      6.269110                768  1142        0.402094  \n",
       "6333      1093      6.396157                544   549        0.497713  \n",
       "6334       801      6.014981                409   392        0.510612  \n",
       "\n",
       "[6335 rows x 10 columns]"
      ]
     },
     "execution_count": 183,
     "metadata": {},
     "output_type": "execute_result"
    }
   ],
   "source": [
    "distinct_ratio_df = df\n",
    "distinct_ratio_df['distinct_ratio'] = distinct_ratio_df['cnt_distinct_word'] / distinct_ratio_df['text_cnt']\n",
    "distinct_ratio_df"
   ]
  },
  {
   "cell_type": "markdown",
<<<<<<< HEAD
=======
   "id": "yellow-morrison",
>>>>>>> upstream/jun
   "metadata": {},
   "source": [
    "What does this ratio mean?"
   ]
  },
  {
   "cell_type": "code",
   "execution_count": 184,
<<<<<<< HEAD
=======
   "id": "ready-stage",
>>>>>>> upstream/jun
   "metadata": {},
   "outputs": [
    {
     "data": {
      "text/plain": [
       "count    6335.000000\n",
       "mean        0.564793\n",
       "std         0.138189\n",
       "min         0.190984\n",
       "25%         0.478149\n",
       "50%         0.534247\n",
       "75%         0.617247\n",
       "max         1.000000\n",
       "Name: distinct_ratio, dtype: float64"
      ]
     },
     "execution_count": 184,
     "metadata": {},
     "output_type": "execute_result"
    }
   ],
   "source": [
    "distinct_ratio_df['distinct_ratio'].describe()"
   ]
  },
  {
   "cell_type": "code",
   "execution_count": 185,
<<<<<<< HEAD
=======
   "id": "danish-insulation",
>>>>>>> upstream/jun
   "metadata": {},
   "outputs": [
    {
     "data": {
      "text/plain": [
       "count    3171.000000\n",
       "mean        0.552604\n",
       "std         0.141911\n",
       "min         0.251391\n",
       "25%         0.470097\n",
       "50%         0.519144\n",
       "75%         0.579376\n",
       "max         1.000000\n",
       "Name: distinct_ratio, dtype: float64"
      ]
     },
     "execution_count": 185,
     "metadata": {},
     "output_type": "execute_result"
    }
   ],
   "source": [
    "distinct_ratio_df[distinct_ratio_df['label'] == \"REAL\"]['distinct_ratio'].describe()"
   ]
  },
  {
   "cell_type": "code",
   "execution_count": 186,
<<<<<<< HEAD
=======
   "id": "urban-secret",
>>>>>>> upstream/jun
   "metadata": {},
   "outputs": [
    {
     "data": {
      "text/plain": [
       "count    3164.000000\n",
       "mean        0.577009\n",
       "std         0.133264\n",
       "min         0.190984\n",
       "25%         0.488807\n",
       "50%         0.559197\n",
       "75%         0.649799\n",
       "max         1.000000\n",
       "Name: distinct_ratio, dtype: float64"
      ]
     },
     "execution_count": 186,
     "metadata": {},
     "output_type": "execute_result"
    }
   ],
   "source": [
    "distinct_ratio_df[distinct_ratio_df['label'] == \"FAKE\"]['distinct_ratio'].describe()"
   ]
  },
  {
   "cell_type": "code",
   "execution_count": 188,
<<<<<<< HEAD
=======
   "id": "threaded-short",
>>>>>>> upstream/jun
   "metadata": {},
   "outputs": [
    {
     "data": {
      "image/png": "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\n",
      "text/plain": [
       "<Figure size 864x576 with 1 Axes>"
      ]
     },
     "metadata": {
      "needs_background": "light"
     },
     "output_type": "display_data"
    }
   ],
   "source": [
    "bins = 100\n",
    "plt.figure(figsize=(12, 8))\n",
    "plt.hist(distinct_ratio_df[distinct_ratio_df['label'] == \"REAL\"]['distinct_ratio'], bins=bins, color=\"blue\")\n",
    "plt.xlabel('text word count')\n",
    "plt.ylabel('frequency')\n",
    "# plt.xlim(0, 10)\n",
    "plt.title('Text word Count Histogram')\n",
    "plt.grid(True)\n",
    "plt.show()"
   ]
  },
  {
   "cell_type": "markdown",
<<<<<<< HEAD
=======
   "id": "front-strip",
>>>>>>> upstream/jun
   "metadata": {},
   "source": [
    "What does a ratio of 1 mean? There are 120 articles like this."
   ]
  },
  {
   "cell_type": "code",
   "execution_count": 190,
<<<<<<< HEAD
=======
   "id": "private-schema",
>>>>>>> upstream/jun
   "metadata": {},
   "outputs": [
    {
     "data": {
      "image/png": "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\n",
      "text/plain": [
       "<Figure size 864x576 with 1 Axes>"
      ]
     },
     "metadata": {
      "needs_background": "light"
     },
     "output_type": "display_data"
    }
   ],
   "source": [
    "bins = 100\n",
    "plt.figure(figsize=(12, 8))\n",
    "plt.hist(distinct_ratio_df[distinct_ratio_df['label'] == \"FAKE\"]['distinct_ratio'], bins=bins, color=\"red\")\n",
    "plt.xlabel('text word count')\n",
    "plt.ylabel('frequency')\n",
    "# plt.xlim(0, 10)\n",
    "plt.title('Text word Count Histogram')\n",
    "plt.grid(True)\n",
    "plt.show()"
   ]
  },
  {
   "cell_type": "markdown",
<<<<<<< HEAD
=======
   "id": "undefined-anthony",
>>>>>>> upstream/jun
   "metadata": {},
   "source": [
    "## What about the character to word ratio between fake and real articles?"
   ]
  },
  {
   "cell_type": "code",
   "execution_count": 158,
<<<<<<< HEAD
=======
   "id": "abstract-proportion",
>>>>>>> upstream/jun
   "metadata": {},
   "outputs": [
    {
     "data": {
      "text/html": [
       "<div>\n",
       "<style scoped>\n",
       "    .dataframe tbody tr th:only-of-type {\n",
       "        vertical-align: middle;\n",
       "    }\n",
       "\n",
       "    .dataframe tbody tr th {\n",
       "        vertical-align: top;\n",
       "    }\n",
       "\n",
       "    .dataframe thead th {\n",
       "        text-align: right;\n",
       "    }\n",
       "</style>\n",
       "<table border=\"1\" class=\"dataframe\">\n",
       "  <thead>\n",
       "    <tr style=\"text-align: right;\">\n",
       "      <th></th>\n",
       "      <th>Unnamed: 0</th>\n",
       "      <th>title</th>\n",
       "      <th>text</th>\n",
       "      <th>label</th>\n",
       "      <th>text_len</th>\n",
       "      <th>text_cnt</th>\n",
       "      <th>char_to_word</th>\n",
       "    </tr>\n",
       "  </thead>\n",
       "  <tbody>\n",
       "    <tr>\n",
       "      <th>0</th>\n",
       "      <td>8476</td>\n",
       "      <td>You Can Smell Hillary’s Fear</td>\n",
       "      <td>Daniel Greenfield, a Shillman Journalism Fello...</td>\n",
       "      <td>FAKE</td>\n",
       "      <td>7518</td>\n",
       "      <td>1298</td>\n",
       "      <td>5.791988</td>\n",
       "    </tr>\n",
       "    <tr>\n",
       "      <th>1</th>\n",
       "      <td>10294</td>\n",
       "      <td>Watch The Exact Moment Paul Ryan Committed Pol...</td>\n",
       "      <td>Google Pinterest Digg Linkedin Reddit Stumbleu...</td>\n",
       "      <td>FAKE</td>\n",
       "      <td>2646</td>\n",
       "      <td>446</td>\n",
       "      <td>5.932735</td>\n",
       "    </tr>\n",
       "    <tr>\n",
       "      <th>2</th>\n",
       "      <td>3608</td>\n",
       "      <td>Kerry to go to Paris in gesture of sympathy</td>\n",
       "      <td>U.S. Secretary of State John F. Kerry said Mon...</td>\n",
       "      <td>REAL</td>\n",
       "      <td>2543</td>\n",
       "      <td>423</td>\n",
       "      <td>6.011820</td>\n",
       "    </tr>\n",
       "    <tr>\n",
       "      <th>3</th>\n",
       "      <td>10142</td>\n",
       "      <td>Bernie supporters on Twitter erupt in anger ag...</td>\n",
       "      <td>— Kaydee King (@KaydeeKing) November 9, 2016 T...</td>\n",
       "      <td>FAKE</td>\n",
       "      <td>2660</td>\n",
       "      <td>404</td>\n",
       "      <td>6.584158</td>\n",
       "    </tr>\n",
       "    <tr>\n",
       "      <th>4</th>\n",
       "      <td>875</td>\n",
       "      <td>The Battle of New York: Why This Primary Matters</td>\n",
       "      <td>It's primary day in New York and front-runners...</td>\n",
       "      <td>REAL</td>\n",
       "      <td>1840</td>\n",
       "      <td>307</td>\n",
       "      <td>5.993485</td>\n",
       "    </tr>\n",
       "    <tr>\n",
       "      <th>...</th>\n",
       "      <td>...</td>\n",
       "      <td>...</td>\n",
       "      <td>...</td>\n",
       "      <td>...</td>\n",
       "      <td>...</td>\n",
       "      <td>...</td>\n",
       "      <td>...</td>\n",
       "    </tr>\n",
       "    <tr>\n",
       "      <th>6330</th>\n",
       "      <td>4490</td>\n",
       "      <td>State Department says it can't find emails fro...</td>\n",
       "      <td>The State Department told the Republican Natio...</td>\n",
       "      <td>REAL</td>\n",
       "      <td>4076</td>\n",
       "      <td>629</td>\n",
       "      <td>6.480127</td>\n",
       "    </tr>\n",
       "    <tr>\n",
       "      <th>6331</th>\n",
       "      <td>8062</td>\n",
       "      <td>The ‘P’ in PBS Should Stand for ‘Plutocratic’ ...</td>\n",
       "      <td>The ‘P’ in PBS Should Stand for ‘Plutocratic’ ...</td>\n",
       "      <td>FAKE</td>\n",
       "      <td>14323</td>\n",
       "      <td>2183</td>\n",
       "      <td>6.561154</td>\n",
       "    </tr>\n",
       "    <tr>\n",
       "      <th>6332</th>\n",
       "      <td>8622</td>\n",
       "      <td>Anti-Trump Protesters Are Tools of the Oligarc...</td>\n",
       "      <td>Anti-Trump Protesters Are Tools of the Oligar...</td>\n",
       "      <td>FAKE</td>\n",
       "      <td>11974</td>\n",
       "      <td>1910</td>\n",
       "      <td>6.269110</td>\n",
       "    </tr>\n",
       "    <tr>\n",
       "      <th>6333</th>\n",
       "      <td>4021</td>\n",
       "      <td>In Ethiopia, Obama seeks progress on peace, se...</td>\n",
       "      <td>ADDIS ABABA, Ethiopia —President Obama convene...</td>\n",
       "      <td>REAL</td>\n",
       "      <td>6991</td>\n",
       "      <td>1093</td>\n",
       "      <td>6.396157</td>\n",
       "    </tr>\n",
       "    <tr>\n",
       "      <th>6334</th>\n",
       "      <td>4330</td>\n",
       "      <td>Jeb Bush Is Suddenly Attacking Trump. Here's W...</td>\n",
       "      <td>Jeb Bush Is Suddenly Attacking Trump. Here's W...</td>\n",
       "      <td>REAL</td>\n",
       "      <td>4818</td>\n",
       "      <td>801</td>\n",
       "      <td>6.014981</td>\n",
       "    </tr>\n",
       "  </tbody>\n",
       "</table>\n",
       "<p>6335 rows × 7 columns</p>\n",
       "</div>"
      ],
      "text/plain": [
       "      Unnamed: 0                                              title  \\\n",
       "0           8476                       You Can Smell Hillary’s Fear   \n",
       "1          10294  Watch The Exact Moment Paul Ryan Committed Pol...   \n",
       "2           3608        Kerry to go to Paris in gesture of sympathy   \n",
       "3          10142  Bernie supporters on Twitter erupt in anger ag...   \n",
       "4            875   The Battle of New York: Why This Primary Matters   \n",
       "...          ...                                                ...   \n",
       "6330        4490  State Department says it can't find emails fro...   \n",
       "6331        8062  The ‘P’ in PBS Should Stand for ‘Plutocratic’ ...   \n",
       "6332        8622  Anti-Trump Protesters Are Tools of the Oligarc...   \n",
       "6333        4021  In Ethiopia, Obama seeks progress on peace, se...   \n",
       "6334        4330  Jeb Bush Is Suddenly Attacking Trump. Here's W...   \n",
       "\n",
       "                                                   text label  text_len  \\\n",
       "0     Daniel Greenfield, a Shillman Journalism Fello...  FAKE      7518   \n",
       "1     Google Pinterest Digg Linkedin Reddit Stumbleu...  FAKE      2646   \n",
       "2     U.S. Secretary of State John F. Kerry said Mon...  REAL      2543   \n",
       "3     — Kaydee King (@KaydeeKing) November 9, 2016 T...  FAKE      2660   \n",
       "4     It's primary day in New York and front-runners...  REAL      1840   \n",
       "...                                                 ...   ...       ...   \n",
       "6330  The State Department told the Republican Natio...  REAL      4076   \n",
       "6331  The ‘P’ in PBS Should Stand for ‘Plutocratic’ ...  FAKE     14323   \n",
       "6332   Anti-Trump Protesters Are Tools of the Oligar...  FAKE     11974   \n",
       "6333  ADDIS ABABA, Ethiopia —President Obama convene...  REAL      6991   \n",
       "6334  Jeb Bush Is Suddenly Attacking Trump. Here's W...  REAL      4818   \n",
       "\n",
       "      text_cnt  char_to_word  \n",
       "0         1298      5.791988  \n",
       "1          446      5.932735  \n",
       "2          423      6.011820  \n",
       "3          404      6.584158  \n",
       "4          307      5.993485  \n",
       "...        ...           ...  \n",
       "6330       629      6.480127  \n",
       "6331      2183      6.561154  \n",
       "6332      1910      6.269110  \n",
       "6333      1093      6.396157  \n",
       "6334       801      6.014981  \n",
       "\n",
       "[6335 rows x 7 columns]"
      ]
     },
     "execution_count": 158,
     "metadata": {},
     "output_type": "execute_result"
    }
   ],
   "source": [
    "ratio_df = df\n",
    "ratio_df['char_to_word'] = ratio_df['text_len'] / ratio_df['text_cnt']\n",
    "ratio_df"
   ]
  },
  {
   "cell_type": "code",
   "execution_count": 155,
<<<<<<< HEAD
=======
   "id": "arctic-pointer",
>>>>>>> upstream/jun
   "metadata": {},
   "outputs": [
    {
     "data": {
      "text/plain": [
       "count    6335.000000\n",
       "mean        6.132453\n",
       "std         0.843677\n",
       "min         0.500000\n",
       "25%         5.947837\n",
       "50%         6.153846\n",
       "75%         6.340880\n",
       "max        49.496000\n",
       "Name: char_to_word, dtype: float64"
      ]
     },
     "execution_count": 155,
     "metadata": {},
     "output_type": "execute_result"
    }
   ],
   "source": [
    "ratio_df['char_to_word'].describe()"
   ]
  },
  {
   "cell_type": "code",
   "execution_count": 153,
<<<<<<< HEAD
=======
   "id": "younger-richmond",
>>>>>>> upstream/jun
   "metadata": {},
   "outputs": [
    {
     "data": {
      "text/plain": [
       "count    3171.000000\n",
       "mean        6.228743\n",
       "std         0.306222\n",
       "min         4.640000\n",
       "25%         6.067430\n",
       "50%         6.229993\n",
       "75%         6.395342\n",
       "max         7.527711\n",
       "Name: char_to_word, dtype: float64"
      ]
     },
     "execution_count": 153,
     "metadata": {},
     "output_type": "execute_result"
    }
   ],
   "source": [
    "ratio_df[ratio_df['label'] == \"REAL\"]['char_to_word'].describe()"
   ]
  },
  {
   "cell_type": "code",
   "execution_count": 154,
<<<<<<< HEAD
=======
   "id": "owned-creator",
>>>>>>> upstream/jun
   "metadata": {},
   "outputs": [
    {
     "data": {
      "text/plain": [
       "count    3164.000000\n",
       "mean        6.035950\n",
       "std         1.145771\n",
       "min         0.500000\n",
       "25%         5.834852\n",
       "50%         6.055629\n",
       "75%         6.264377\n",
       "max        49.496000\n",
       "Name: char_to_word, dtype: float64"
      ]
     },
     "execution_count": 154,
     "metadata": {},
     "output_type": "execute_result"
    }
   ],
   "source": [
    "ratio_df[ratio_df['label'] == \"FAKE\"]['char_to_word'].describe()"
   ]
  },
  {
   "cell_type": "code",
   "execution_count": 145,
<<<<<<< HEAD
=======
   "id": "compressed-bullet",
>>>>>>> upstream/jun
   "metadata": {},
   "outputs": [
    {
     "data": {
      "image/png": "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\n",
      "text/plain": [
       "<Figure size 864x576 with 1 Axes>"
      ]
     },
     "metadata": {
      "needs_background": "light"
     },
     "output_type": "display_data"
    }
   ],
   "source": [
    "bins = 100\n",
    "plt.figure(figsize=(12, 8))\n",
    "plt.hist(ratio_df[ratio_df['label'] == \"REAL\"]['char_to_word'], bins=bins, color=\"blue\")\n",
    "plt.xlabel('text word count')\n",
    "plt.ylabel('frequency')\n",
    "plt.xlim(0, 10)\n",
    "plt.title('Text word Count Histogram')\n",
    "plt.grid(True)\n",
    "plt.show()"
   ]
  },
  {
   "cell_type": "code",
   "execution_count": 147,
<<<<<<< HEAD
=======
   "id": "recovered-telescope",
>>>>>>> upstream/jun
   "metadata": {},
   "outputs": [
    {
     "data": {
      "image/png": "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\n",
      "text/plain": [
       "<Figure size 864x576 with 1 Axes>"
      ]
     },
     "metadata": {
      "needs_background": "light"
     },
     "output_type": "display_data"
    }
   ],
   "source": [
    "bins = 100\n",
    "plt.figure(figsize=(12, 8))\n",
    "plt.hist(ratio_df[ratio_df['label'] == \"FAKE\"]['char_to_word'], bins=bins, color=\"red\")\n",
    "plt.xlabel('text word count')\n",
    "plt.ylabel('frequency')\n",
    "plt.title('Text word Count Histogram')\n",
    "plt.grid(True)\n",
    "plt.show()"
   ]
  },
  {
   "cell_type": "code",
   "execution_count": 148,
<<<<<<< HEAD
=======
   "id": "offshore-houston",
>>>>>>> upstream/jun
   "metadata": {},
   "outputs": [
    {
     "name": "stderr",
     "output_type": "stream",
     "text": [
      "/Users/turbo/projects/fake_news_analysis/.venv/lib/python3.6/site-packages/ipykernel_launcher.py:3: UserWarning: Boolean Series key will be reindexed to match DataFrame index.\n",
      "  This is separate from the ipykernel package so we can avoid doing imports until\n"
     ]
    },
    {
     "data": {
      "image/png": "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\n",
      "text/plain": [
       "<Figure size 864x576 with 1 Axes>"
      ]
     },
     "metadata": {
      "needs_background": "light"
     },
     "output_type": "display_data"
    }
   ],
   "source": [
    "bins = 100\n",
    "plt.figure(figsize=(12, 8))\n",
    "plt.hist(ratio_df[ratio_df['label'] == \"FAKE\"][ratio_df['char_to_word'] <= 8]['char_to_word'], bins=bins, color=\"red\")\n",
    "plt.xlabel('text word count')\n",
    "plt.ylabel('frequency')\n",
    "plt.xlim(0, 10)\n",
    "plt.title('Text word Count Histogram')\n",
    "plt.grid(True)\n",
    "plt.show()"
   ]
  },
  {
   "cell_type": "code",
   "execution_count": null,
<<<<<<< HEAD
=======
   "id": "adequate-vanilla",
>>>>>>> upstream/jun
   "metadata": {},
   "outputs": [],
   "source": []
  },
  {
   "cell_type": "code",
   "execution_count": null,
<<<<<<< HEAD
=======
   "id": "constitutional-aquatic",
>>>>>>> upstream/jun
   "metadata": {},
   "outputs": [],
   "source": []
  }
 ],
 "metadata": {
  "kernelspec": {
   "display_name": "Python 3",
   "language": "python",
   "name": "python3"
  },
  "language_info": {
   "codemirror_mode": {
    "name": "ipython",
    "version": 3
   },
   "file_extension": ".py",
   "mimetype": "text/x-python",
   "name": "python",
   "nbconvert_exporter": "python",
   "pygments_lexer": "ipython3",
<<<<<<< HEAD
   "version": "3.8.5"
=======
   "version": "3.6.10"
>>>>>>> upstream/jun
  }
 },
 "nbformat": 4,
 "nbformat_minor": 5
}
