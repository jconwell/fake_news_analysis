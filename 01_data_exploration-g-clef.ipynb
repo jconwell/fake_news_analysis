{
 "cells": [
  {
   "cell_type": "markdown",
   "metadata": {},
   "source": [
    "# Data Set Exploration"
   ]
  },
  {
   "cell_type": "code",
   "execution_count": 29,
   "metadata": {},
   "outputs": [],
   "source": [
    "import re\n",
    "import numpy as np\n",
    "import pandas as pd\n",
    "import itertools\n",
    "from collections import Counter\n",
    "\n",
    "import matplotlib.pyplot as plt\n",
    "import numpy as np\n",
    "from matplotlib import colors\n",
    "from matplotlib.ticker import PercentFormatter"
   ]
  },
  {
   "cell_type": "markdown",
   "metadata": {},
   "source": [
    "# `news.csv` Data Set\n",
    "\n",
    "There are 4 columns: \n",
    "\n",
    "- article id\n",
    "- article title\n",
    "- article text\n",
    "- label\n",
    " \n",
    "How many rows? What does the data look like?"
   ]
  },
  {
   "cell_type": "code",
   "execution_count": 30,
   "metadata": {},
   "outputs": [
    {
     "name": "stdout",
     "output_type": "stream",
     "text": [
      "shape of the dataset: (6335, 4) \n",
      "\n"
     ]
    },
    {
     "data": {
      "text/html": [
       "<div>\n",
       "<style scoped>\n",
       "    .dataframe tbody tr th:only-of-type {\n",
       "        vertical-align: middle;\n",
       "    }\n",
       "\n",
       "    .dataframe tbody tr th {\n",
       "        vertical-align: top;\n",
       "    }\n",
       "\n",
       "    .dataframe thead th {\n",
       "        text-align: right;\n",
       "    }\n",
       "</style>\n",
       "<table border=\"1\" class=\"dataframe\">\n",
       "  <thead>\n",
       "    <tr style=\"text-align: right;\">\n",
       "      <th></th>\n",
       "      <th>Unnamed: 0</th>\n",
       "      <th>title</th>\n",
       "      <th>text</th>\n",
       "      <th>label</th>\n",
       "    </tr>\n",
       "  </thead>\n",
       "  <tbody>\n",
       "    <tr>\n",
       "      <th>0</th>\n",
       "      <td>8476</td>\n",
       "      <td>You Can Smell Hillary’s Fear</td>\n",
       "      <td>Daniel Greenfield, a Shillman Journalism Fello...</td>\n",
       "      <td>FAKE</td>\n",
       "    </tr>\n",
       "    <tr>\n",
       "      <th>1</th>\n",
       "      <td>10294</td>\n",
       "      <td>Watch The Exact Moment Paul Ryan Committed Pol...</td>\n",
       "      <td>Google Pinterest Digg Linkedin Reddit Stumbleu...</td>\n",
       "      <td>FAKE</td>\n",
       "    </tr>\n",
       "    <tr>\n",
       "      <th>2</th>\n",
       "      <td>3608</td>\n",
       "      <td>Kerry to go to Paris in gesture of sympathy</td>\n",
       "      <td>U.S. Secretary of State John F. Kerry said Mon...</td>\n",
       "      <td>REAL</td>\n",
       "    </tr>\n",
       "    <tr>\n",
       "      <th>3</th>\n",
       "      <td>10142</td>\n",
       "      <td>Bernie supporters on Twitter erupt in anger ag...</td>\n",
       "      <td>— Kaydee King (@KaydeeKing) November 9, 2016 T...</td>\n",
       "      <td>FAKE</td>\n",
       "    </tr>\n",
       "    <tr>\n",
       "      <th>4</th>\n",
       "      <td>875</td>\n",
       "      <td>The Battle of New York: Why This Primary Matters</td>\n",
       "      <td>It's primary day in New York and front-runners...</td>\n",
       "      <td>REAL</td>\n",
       "    </tr>\n",
       "    <tr>\n",
       "      <th>5</th>\n",
       "      <td>6903</td>\n",
       "      <td>Tehran, USA</td>\n",
       "      <td>\\nI’m not an immigrant, but my grandparents ...</td>\n",
       "      <td>FAKE</td>\n",
       "    </tr>\n",
       "    <tr>\n",
       "      <th>6</th>\n",
       "      <td>7341</td>\n",
       "      <td>Girl Horrified At What She Watches Boyfriend D...</td>\n",
       "      <td>Share This Baylee Luciani (left), Screenshot o...</td>\n",
       "      <td>FAKE</td>\n",
       "    </tr>\n",
       "    <tr>\n",
       "      <th>7</th>\n",
       "      <td>95</td>\n",
       "      <td>‘Britain’s Schindler’ Dies at 106</td>\n",
       "      <td>A Czech stockbroker who saved more than 650 Je...</td>\n",
       "      <td>REAL</td>\n",
       "    </tr>\n",
       "    <tr>\n",
       "      <th>8</th>\n",
       "      <td>4869</td>\n",
       "      <td>Fact check: Trump and Clinton at the 'commande...</td>\n",
       "      <td>Hillary Clinton and Donald Trump made some ina...</td>\n",
       "      <td>REAL</td>\n",
       "    </tr>\n",
       "    <tr>\n",
       "      <th>9</th>\n",
       "      <td>2909</td>\n",
       "      <td>Iran reportedly makes new push for uranium con...</td>\n",
       "      <td>Iranian negotiators reportedly have made a las...</td>\n",
       "      <td>REAL</td>\n",
       "    </tr>\n",
       "  </tbody>\n",
       "</table>\n",
       "</div>"
      ],
      "text/plain": [
       "   Unnamed: 0                                              title  \\\n",
       "0        8476                       You Can Smell Hillary’s Fear   \n",
       "1       10294  Watch The Exact Moment Paul Ryan Committed Pol...   \n",
       "2        3608        Kerry to go to Paris in gesture of sympathy   \n",
       "3       10142  Bernie supporters on Twitter erupt in anger ag...   \n",
       "4         875   The Battle of New York: Why This Primary Matters   \n",
       "5        6903                                        Tehran, USA   \n",
       "6        7341  Girl Horrified At What She Watches Boyfriend D...   \n",
       "7          95                  ‘Britain’s Schindler’ Dies at 106   \n",
       "8        4869  Fact check: Trump and Clinton at the 'commande...   \n",
       "9        2909  Iran reportedly makes new push for uranium con...   \n",
       "\n",
       "                                                text label  \n",
       "0  Daniel Greenfield, a Shillman Journalism Fello...  FAKE  \n",
       "1  Google Pinterest Digg Linkedin Reddit Stumbleu...  FAKE  \n",
       "2  U.S. Secretary of State John F. Kerry said Mon...  REAL  \n",
       "3  — Kaydee King (@KaydeeKing) November 9, 2016 T...  FAKE  \n",
       "4  It's primary day in New York and front-runners...  REAL  \n",
       "5    \\nI’m not an immigrant, but my grandparents ...  FAKE  \n",
       "6  Share This Baylee Luciani (left), Screenshot o...  FAKE  \n",
       "7  A Czech stockbroker who saved more than 650 Je...  REAL  \n",
       "8  Hillary Clinton and Donald Trump made some ina...  REAL  \n",
       "9  Iranian negotiators reportedly have made a las...  REAL  "
      ]
     },
     "execution_count": 30,
     "metadata": {},
     "output_type": "execute_result"
    }
   ],
   "source": [
    "#Read the data\n",
    "df=pd.read_csv('data/news.csv')\n",
    "\n",
    "#Get shape and head\n",
    "shape = df.shape\n",
    "print(f\"shape of the dataset: {shape} \\n\")\n",
    "\n",
    "df.head(10)"
   ]
  },
  {
   "cell_type": "code",
   "execution_count": 31,
   "metadata": {},
   "outputs": [
    {
     "data": {
      "text/html": [
       "<div>\n",
       "<style scoped>\n",
       "    .dataframe tbody tr th:only-of-type {\n",
       "        vertical-align: middle;\n",
       "    }\n",
       "\n",
       "    .dataframe tbody tr th {\n",
       "        vertical-align: top;\n",
       "    }\n",
       "\n",
       "    .dataframe thead th {\n",
       "        text-align: right;\n",
       "    }\n",
       "</style>\n",
       "<table border=\"1\" class=\"dataframe\">\n",
       "  <thead>\n",
       "    <tr style=\"text-align: right;\">\n",
       "      <th></th>\n",
       "      <th>Unnamed: 0</th>\n",
       "      <th>title</th>\n",
       "      <th>text</th>\n",
       "      <th>label</th>\n",
       "      <th>title_char_cnt</th>\n",
       "      <th>title_word_cnt</th>\n",
       "    </tr>\n",
       "  </thead>\n",
       "  <tbody>\n",
       "    <tr>\n",
       "      <th>0</th>\n",
       "      <td>8476</td>\n",
       "      <td>You Can Smell Hillary’s Fear</td>\n",
       "      <td>Daniel Greenfield, a Shillman Journalism Fello...</td>\n",
       "      <td>FAKE</td>\n",
       "      <td>28</td>\n",
       "      <td>5</td>\n",
       "    </tr>\n",
       "    <tr>\n",
       "      <th>1</th>\n",
       "      <td>10294</td>\n",
       "      <td>Watch The Exact Moment Paul Ryan Committed Pol...</td>\n",
       "      <td>Google Pinterest Digg Linkedin Reddit Stumbleu...</td>\n",
       "      <td>FAKE</td>\n",
       "      <td>85</td>\n",
       "      <td>14</td>\n",
       "    </tr>\n",
       "    <tr>\n",
       "      <th>2</th>\n",
       "      <td>3608</td>\n",
       "      <td>Kerry to go to Paris in gesture of sympathy</td>\n",
       "      <td>U.S. Secretary of State John F. Kerry said Mon...</td>\n",
       "      <td>REAL</td>\n",
       "      <td>43</td>\n",
       "      <td>9</td>\n",
       "    </tr>\n",
       "    <tr>\n",
       "      <th>3</th>\n",
       "      <td>10142</td>\n",
       "      <td>Bernie supporters on Twitter erupt in anger ag...</td>\n",
       "      <td>— Kaydee King (@KaydeeKing) November 9, 2016 T...</td>\n",
       "      <td>FAKE</td>\n",
       "      <td>84</td>\n",
       "      <td>15</td>\n",
       "    </tr>\n",
       "    <tr>\n",
       "      <th>4</th>\n",
       "      <td>875</td>\n",
       "      <td>The Battle of New York: Why This Primary Matters</td>\n",
       "      <td>It's primary day in New York and front-runners...</td>\n",
       "      <td>REAL</td>\n",
       "      <td>48</td>\n",
       "      <td>9</td>\n",
       "    </tr>\n",
       "    <tr>\n",
       "      <th>5</th>\n",
       "      <td>6903</td>\n",
       "      <td>Tehran, USA</td>\n",
       "      <td>\\nI’m not an immigrant, but my grandparents ...</td>\n",
       "      <td>FAKE</td>\n",
       "      <td>11</td>\n",
       "      <td>2</td>\n",
       "    </tr>\n",
       "    <tr>\n",
       "      <th>6</th>\n",
       "      <td>7341</td>\n",
       "      <td>Girl Horrified At What She Watches Boyfriend D...</td>\n",
       "      <td>Share This Baylee Luciani (left), Screenshot o...</td>\n",
       "      <td>FAKE</td>\n",
       "      <td>73</td>\n",
       "      <td>13</td>\n",
       "    </tr>\n",
       "    <tr>\n",
       "      <th>7</th>\n",
       "      <td>95</td>\n",
       "      <td>‘Britain’s Schindler’ Dies at 106</td>\n",
       "      <td>A Czech stockbroker who saved more than 650 Je...</td>\n",
       "      <td>REAL</td>\n",
       "      <td>33</td>\n",
       "      <td>5</td>\n",
       "    </tr>\n",
       "    <tr>\n",
       "      <th>8</th>\n",
       "      <td>4869</td>\n",
       "      <td>Fact check: Trump and Clinton at the 'commande...</td>\n",
       "      <td>Hillary Clinton and Donald Trump made some ina...</td>\n",
       "      <td>REAL</td>\n",
       "      <td>63</td>\n",
       "      <td>9</td>\n",
       "    </tr>\n",
       "    <tr>\n",
       "      <th>9</th>\n",
       "      <td>2909</td>\n",
       "      <td>Iran reportedly makes new push for uranium con...</td>\n",
       "      <td>Iranian negotiators reportedly have made a las...</td>\n",
       "      <td>REAL</td>\n",
       "      <td>71</td>\n",
       "      <td>11</td>\n",
       "    </tr>\n",
       "  </tbody>\n",
       "</table>\n",
       "</div>"
      ],
      "text/plain": [
       "   Unnamed: 0                                              title  \\\n",
       "0        8476                       You Can Smell Hillary’s Fear   \n",
       "1       10294  Watch The Exact Moment Paul Ryan Committed Pol...   \n",
       "2        3608        Kerry to go to Paris in gesture of sympathy   \n",
       "3       10142  Bernie supporters on Twitter erupt in anger ag...   \n",
       "4         875   The Battle of New York: Why This Primary Matters   \n",
       "5        6903                                        Tehran, USA   \n",
       "6        7341  Girl Horrified At What She Watches Boyfriend D...   \n",
       "7          95                  ‘Britain’s Schindler’ Dies at 106   \n",
       "8        4869  Fact check: Trump and Clinton at the 'commande...   \n",
       "9        2909  Iran reportedly makes new push for uranium con...   \n",
       "\n",
       "                                                text label  title_char_cnt  \\\n",
       "0  Daniel Greenfield, a Shillman Journalism Fello...  FAKE              28   \n",
       "1  Google Pinterest Digg Linkedin Reddit Stumbleu...  FAKE              85   \n",
       "2  U.S. Secretary of State John F. Kerry said Mon...  REAL              43   \n",
       "3  — Kaydee King (@KaydeeKing) November 9, 2016 T...  FAKE              84   \n",
       "4  It's primary day in New York and front-runners...  REAL              48   \n",
       "5    \\nI’m not an immigrant, but my grandparents ...  FAKE              11   \n",
       "6  Share This Baylee Luciani (left), Screenshot o...  FAKE              73   \n",
       "7  A Czech stockbroker who saved more than 650 Je...  REAL              33   \n",
       "8  Hillary Clinton and Donald Trump made some ina...  REAL              63   \n",
       "9  Iranian negotiators reportedly have made a las...  REAL              71   \n",
       "\n",
       "   title_word_cnt  \n",
       "0               5  \n",
       "1              14  \n",
       "2               9  \n",
       "3              15  \n",
       "4               9  \n",
       "5               2  \n",
       "6              13  \n",
       "7               5  \n",
       "8               9  \n",
       "9              11  "
      ]
     },
     "execution_count": 31,
     "metadata": {},
     "output_type": "execute_result"
    }
   ],
   "source": [
    "# Add columns with title char and word counts\n",
    "title_char_cnt = [len(title) for title in df.title]\n",
    "df['title_char_cnt'] = title_char_cnt\n",
    "\n",
    "title_word_cnt = [len(title.split(\" \")) for title in df.title]\n",
    "df['title_word_cnt'] = title_word_cnt\n",
    "\n",
    "df.head(10)"
   ]
  },
  {
   "cell_type": "code",
   "execution_count": 32,
   "metadata": {},
   "outputs": [
    {
     "data": {
      "text/html": [
       "<div>\n",
       "<style scoped>\n",
       "    .dataframe tbody tr th:only-of-type {\n",
       "        vertical-align: middle;\n",
       "    }\n",
       "\n",
       "    .dataframe tbody tr th {\n",
       "        vertical-align: top;\n",
       "    }\n",
       "\n",
       "    .dataframe thead th {\n",
       "        text-align: right;\n",
       "    }\n",
       "</style>\n",
       "<table border=\"1\" class=\"dataframe\">\n",
       "  <thead>\n",
       "    <tr style=\"text-align: right;\">\n",
       "      <th></th>\n",
       "      <th>Unnamed: 0</th>\n",
       "      <th>title</th>\n",
       "      <th>text</th>\n",
       "      <th>label</th>\n",
       "      <th>title_char_cnt</th>\n",
       "      <th>title_word_cnt</th>\n",
       "      <th>text_char_cnt</th>\n",
       "      <th>text_word_cnt</th>\n",
       "    </tr>\n",
       "  </thead>\n",
       "  <tbody>\n",
       "    <tr>\n",
       "      <th>0</th>\n",
       "      <td>8476</td>\n",
       "      <td>You Can Smell Hillary’s Fear</td>\n",
       "      <td>Daniel Greenfield, a Shillman Journalism Fello...</td>\n",
       "      <td>FAKE</td>\n",
       "      <td>28</td>\n",
       "      <td>5</td>\n",
       "      <td>7518</td>\n",
       "      <td>1298</td>\n",
       "    </tr>\n",
       "    <tr>\n",
       "      <th>1</th>\n",
       "      <td>10294</td>\n",
       "      <td>Watch The Exact Moment Paul Ryan Committed Pol...</td>\n",
       "      <td>Google Pinterest Digg Linkedin Reddit Stumbleu...</td>\n",
       "      <td>FAKE</td>\n",
       "      <td>85</td>\n",
       "      <td>14</td>\n",
       "      <td>2646</td>\n",
       "      <td>446</td>\n",
       "    </tr>\n",
       "    <tr>\n",
       "      <th>2</th>\n",
       "      <td>3608</td>\n",
       "      <td>Kerry to go to Paris in gesture of sympathy</td>\n",
       "      <td>U.S. Secretary of State John F. Kerry said Mon...</td>\n",
       "      <td>REAL</td>\n",
       "      <td>43</td>\n",
       "      <td>9</td>\n",
       "      <td>2543</td>\n",
       "      <td>423</td>\n",
       "    </tr>\n",
       "    <tr>\n",
       "      <th>3</th>\n",
       "      <td>10142</td>\n",
       "      <td>Bernie supporters on Twitter erupt in anger ag...</td>\n",
       "      <td>— Kaydee King (@KaydeeKing) November 9, 2016 T...</td>\n",
       "      <td>FAKE</td>\n",
       "      <td>84</td>\n",
       "      <td>15</td>\n",
       "      <td>2660</td>\n",
       "      <td>404</td>\n",
       "    </tr>\n",
       "    <tr>\n",
       "      <th>4</th>\n",
       "      <td>875</td>\n",
       "      <td>The Battle of New York: Why This Primary Matters</td>\n",
       "      <td>It's primary day in New York and front-runners...</td>\n",
       "      <td>REAL</td>\n",
       "      <td>48</td>\n",
       "      <td>9</td>\n",
       "      <td>1840</td>\n",
       "      <td>307</td>\n",
       "    </tr>\n",
       "    <tr>\n",
       "      <th>5</th>\n",
       "      <td>6903</td>\n",
       "      <td>Tehran, USA</td>\n",
       "      <td>\\nI’m not an immigrant, but my grandparents ...</td>\n",
       "      <td>FAKE</td>\n",
       "      <td>11</td>\n",
       "      <td>2</td>\n",
       "      <td>13333</td>\n",
       "      <td>2348</td>\n",
       "    </tr>\n",
       "    <tr>\n",
       "      <th>6</th>\n",
       "      <td>7341</td>\n",
       "      <td>Girl Horrified At What She Watches Boyfriend D...</td>\n",
       "      <td>Share This Baylee Luciani (left), Screenshot o...</td>\n",
       "      <td>FAKE</td>\n",
       "      <td>73</td>\n",
       "      <td>13</td>\n",
       "      <td>3171</td>\n",
       "      <td>553</td>\n",
       "    </tr>\n",
       "    <tr>\n",
       "      <th>7</th>\n",
       "      <td>95</td>\n",
       "      <td>‘Britain’s Schindler’ Dies at 106</td>\n",
       "      <td>A Czech stockbroker who saved more than 650 Je...</td>\n",
       "      <td>REAL</td>\n",
       "      <td>33</td>\n",
       "      <td>5</td>\n",
       "      <td>783</td>\n",
       "      <td>123</td>\n",
       "    </tr>\n",
       "    <tr>\n",
       "      <th>8</th>\n",
       "      <td>4869</td>\n",
       "      <td>Fact check: Trump and Clinton at the 'commande...</td>\n",
       "      <td>Hillary Clinton and Donald Trump made some ina...</td>\n",
       "      <td>REAL</td>\n",
       "      <td>63</td>\n",
       "      <td>9</td>\n",
       "      <td>13863</td>\n",
       "      <td>2288</td>\n",
       "    </tr>\n",
       "    <tr>\n",
       "      <th>9</th>\n",
       "      <td>2909</td>\n",
       "      <td>Iran reportedly makes new push for uranium con...</td>\n",
       "      <td>Iranian negotiators reportedly have made a las...</td>\n",
       "      <td>REAL</td>\n",
       "      <td>71</td>\n",
       "      <td>11</td>\n",
       "      <td>4296</td>\n",
       "      <td>692</td>\n",
       "    </tr>\n",
       "  </tbody>\n",
       "</table>\n",
       "</div>"
      ],
      "text/plain": [
       "   Unnamed: 0                                              title  \\\n",
       "0        8476                       You Can Smell Hillary’s Fear   \n",
       "1       10294  Watch The Exact Moment Paul Ryan Committed Pol...   \n",
       "2        3608        Kerry to go to Paris in gesture of sympathy   \n",
       "3       10142  Bernie supporters on Twitter erupt in anger ag...   \n",
       "4         875   The Battle of New York: Why This Primary Matters   \n",
       "5        6903                                        Tehran, USA   \n",
       "6        7341  Girl Horrified At What She Watches Boyfriend D...   \n",
       "7          95                  ‘Britain’s Schindler’ Dies at 106   \n",
       "8        4869  Fact check: Trump and Clinton at the 'commande...   \n",
       "9        2909  Iran reportedly makes new push for uranium con...   \n",
       "\n",
       "                                                text label  title_char_cnt  \\\n",
       "0  Daniel Greenfield, a Shillman Journalism Fello...  FAKE              28   \n",
       "1  Google Pinterest Digg Linkedin Reddit Stumbleu...  FAKE              85   \n",
       "2  U.S. Secretary of State John F. Kerry said Mon...  REAL              43   \n",
       "3  — Kaydee King (@KaydeeKing) November 9, 2016 T...  FAKE              84   \n",
       "4  It's primary day in New York and front-runners...  REAL              48   \n",
       "5    \\nI’m not an immigrant, but my grandparents ...  FAKE              11   \n",
       "6  Share This Baylee Luciani (left), Screenshot o...  FAKE              73   \n",
       "7  A Czech stockbroker who saved more than 650 Je...  REAL              33   \n",
       "8  Hillary Clinton and Donald Trump made some ina...  REAL              63   \n",
       "9  Iranian negotiators reportedly have made a las...  REAL              71   \n",
       "\n",
       "   title_word_cnt  text_char_cnt  text_word_cnt  \n",
       "0               5           7518           1298  \n",
       "1              14           2646            446  \n",
       "2               9           2543            423  \n",
       "3              15           2660            404  \n",
       "4               9           1840            307  \n",
       "5               2          13333           2348  \n",
       "6              13           3171            553  \n",
       "7               5            783            123  \n",
       "8               9          13863           2288  \n",
       "9              11           4296            692  "
      ]
     },
     "execution_count": 32,
     "metadata": {},
     "output_type": "execute_result"
    }
   ],
   "source": [
    "# Add columns with text char and word counts\n",
    "text_char_cnt = [len(text) for text in df.text]\n",
    "df['text_char_cnt'] = text_char_cnt\n",
    "\n",
    "text_word_cnt = [len(text.split(\" \")) for text in df.text]\n",
    "df['text_word_cnt'] = text_word_cnt\n",
    "\n",
    "df.head(10)"
   ]
  },
  {
   "cell_type": "markdown",
   "metadata": {},
   "source": [
    "# Explore the character and word count distributions"
   ]
  },
  {
   "cell_type": "code",
   "execution_count": 33,
   "metadata": {},
   "outputs": [
    {
     "data": {
      "image/png": "[encoded data removed]",
      "text/plain": [
       "<Figure size 864x576 with 1 Axes>"
      ]
     },
     "metadata": {
      "needs_background": "light"
     },
     "output_type": "display_data"
    }
   ],
   "source": [
    "# Histogrm of atricle title char count\n",
    "bins = df.title_char_cnt.max()\n",
    "plt.figure(figsize=(12, 8))\n",
    "plt.hist(df.title_char_cnt, bins=bins)\n",
    "plt.xlabel('title char count')\n",
    "plt.ylabel('frequency')\n",
    "plt.title('Title Char Count Histogram')\n",
    "plt.grid(True)\n",
    "plt.show()"
   ]
  },
  {
   "cell_type": "markdown",
   "metadata": {},
   "source": [
    "# Homework\n",
    "\n",
    "### Explore the data\n",
    "\n",
    "Create histograms to show the distributions of the different count columns. Also show histograms for the counts separated by fake and real news. Add markdown cells to the notebook with your observations about the distributions. Are there any differences between fake and real? What about word count vs character count?\n",
    "\n",
    "If you find something in the data that seems interesting that you want to explore add that to the notebook along with your observations.\n",
    "\n",
    "Calculate the min and max character and word counts for title and text columns.\n",
    "\n",
    "Calculate the total number of distinct words across all articles. Note the difference between the max words in the text and the total number of unique words in the dataset.\n",
    "\n",
    "### TFIDF - Term Frequency Inverse Document Frequency\n",
    "\n",
    "Here is a good page that describes TFIDF and how to calculate it: http://www.tfidf.com/\n",
    "\n",
    "Calculate the TFIDF scores for the following words: smell, the, this, washington, money, road, and\n",
    "\n",
    "How are their scores different from each other? What does this mean?\n",
    "\n",
    "Extra credit if you have time: what word in the articles has the highest and lowest TFIDF score?\n",
    "\n",
    "### Stop Words\n",
    "\n",
    "Here is a page that describes what are known as \"stop words\":\n",
    "https://nlp.stanford.edu/IR-book/html/htmledition/dropping-common-terms-stop-words-1.html\n",
    "\n",
    "Based on this, do you expect stop words to have high or low TFIDF scores?\n"
   ]
  },
  {
   "cell_type": "markdown",
   "metadata": {},
   "source": [
    "## Exploration \n",
    "\n",
    "Create histograms to show the distributions of the different count columns. Also show histograms for the counts separated by fake and real news. Add markdown cells to the notebook with your observations about the distributions. Are there any differences between fake and real? What about word count vs character count?"
   ]
  },
  {
   "cell_type": "code",
   "execution_count": 7,
   "metadata": {},
   "outputs": [
    {
     "data": {
      "image/png": "[encoded data removed]",
      "text/plain": [
       "<Figure size 864x576 with 1 Axes>"
      ]
     },
     "metadata": {
      "needs_background": "light"
     },
     "output_type": "display_data"
    }
   ],
   "source": [
    "bins = df.title_word_cnt.max()\n",
    "plt.figure(figsize=(12, 8))\n",
    "plt.hist(df.title_word_cnt, bins=bins)\n",
    "plt.xlabel('title word count')\n",
    "plt.ylabel('frequency')\n",
    "plt.title('Title Word Count Histogram')\n",
    "plt.grid(True)\n",
    "plt.show()"
   ]
  },
  {
   "cell_type": "code",
   "execution_count": 7,
   "metadata": {},
   "outputs": [
    {
     "data": {
      "image/png": "[encoded data removed]",
      "text/plain": [
       "<Figure size 864x576 with 1 Axes>"
      ]
     },
     "metadata": {
      "needs_background": "light"
     },
     "output_type": "display_data"
    }
   ],
   "source": [
    "bins = int(df.text_char_cnt.max()/100)\n",
    "plt.figure(figsize=(12, 8))\n",
    "plt.hist(df.text_char_cnt, bins=bins)\n",
    "plt.xlabel('text char count')\n",
    "plt.ylabel('frequency')\n",
    "plt.title('Text Char Count Histogram')\n",
    "plt.grid(True)\n",
    "plt.show()"
   ]
  },
  {
   "cell_type": "markdown",
   "metadata": {},
   "source": [
    "Interesting detail of Text Char count: plotting it naively hung because there were too many buckets. Distribution seems to be poisson or power-law-like."
   ]
  },
  {
   "cell_type": "code",
   "execution_count": 8,
   "metadata": {},
   "outputs": [
    {
     "data": {
      "image/png": "[encoded data removed]",
      "text/plain": [
       "<Figure size 864x576 with 1 Axes>"
      ]
     },
     "metadata": {
      "needs_background": "light"
     },
     "output_type": "display_data"
    }
   ],
   "source": [
    "bins = int(df.text_word_cnt.max()/100)\n",
    "plt.figure(figsize=(12, 8))\n",
    "plt.hist(df.text_word_cnt, bins=bins)\n",
    "plt.xlabel('text word count')\n",
    "plt.ylabel('frequency')\n",
    "plt.title('Text Word Count Histogram')\n",
    "plt.grid(True)\n",
    "plt.show()"
   ]
  },
  {
   "cell_type": "markdown",
   "metadata": {},
   "source": [
    "Even stronger power-law-like behavior here. Super-long tail, but majority of the results are down at the bottom of the distribution. Question: correlation between place on the long tail and real/fake determination?"
   ]
  },
  {
   "cell_type": "code",
   "execution_count": 9,
   "metadata": {},
   "outputs": [
    {
     "data": {
      "image/png": "[encoded data removed]",
      "text/plain": [
       "<Figure size 1080x576 with 1 Axes>"
      ]
     },
     "metadata": {
      "needs_background": "light"
     },
     "output_type": "display_data"
    }
   ],
   "source": [
    "fake = df.loc[df['label'] == \"FAKE\"]\n",
    "bins = int(df.text_word_cnt.max()/100)\n",
    "plt.figure(figsize=(15, 8))\n",
    "plt.hist(fake.text_word_cnt, bins=bins)\n",
    "plt.xlabel('text word count')\n",
    "plt.ylabel('frequency')\n",
    "plt.title('Fake Article Text Word Count Histogram')\n",
    "plt.grid(True)\n",
    "plt.show()"
   ]
  },
  {
   "cell_type": "code",
   "execution_count": 9,
   "metadata": {},
   "outputs": [
    {
     "data": {
      "image/png": "[encoded data removed]",
      "text/plain": [
       "<Figure size 1080x576 with 1 Axes>"
      ]
     },
     "metadata": {
      "needs_background": "light"
     },
     "output_type": "display_data"
    }
   ],
   "source": [
    "real = df.loc[df['label'] == \"REAL\"]\n",
    "bins = int(df.text_word_cnt.max()/100)\n",
    "plt.figure(figsize=(15, 8))\n",
    "plt.hist(real.text_word_cnt, bins=bins)\n",
    "plt.xlabel('text word count')\n",
    "plt.ylabel('frequency')\n",
    "plt.title('Real Article Text Word Count Histogram')\n",
    "plt.grid(True)\n",
    "plt.show()"
   ]
  },
  {
   "cell_type": "markdown",
   "metadata": {},
   "source": [
    "Real ones (ignoring the spike at 0...more on this later) are much more poisson-distributed, less power-law distributed. Also, long tail much less pronounced on real ones. Implies that there's a word count where stories become more likely to be real, but stories shorter (and especially much longer) become more likely to be fake. "
   ]
  },
  {
   "cell_type": "code",
   "execution_count": 10,
   "metadata": {},
   "outputs": [
    {
     "data": {
      "image/png": "[encoded data removed]",
      "text/plain": [
       "<Figure size 864x576 with 1 Axes>"
      ]
     },
     "metadata": {
      "needs_background": "light"
     },
     "output_type": "display_data"
    }
   ],
   "source": [
    "fake = df.loc[df['label'] == \"FAKE\"]\n",
    "bins = df.title_word_cnt.max()\n",
    "plt.figure(figsize=(12, 8))\n",
    "plt.hist(fake.title_word_cnt, bins=bins)\n",
    "plt.xlabel('title word count')\n",
    "plt.ylabel('frequency')\n",
    "plt.title('Fake Article Title Word Count Histogram')\n",
    "plt.grid(True)\n",
    "plt.show()"
   ]
  },
  {
   "cell_type": "code",
   "execution_count": 13,
   "metadata": {},
   "outputs": [
    {
     "data": {
      "image/png": "[encoded data removed]",
      "text/plain": [
       "<Figure size 864x576 with 1 Axes>"
      ]
     },
     "metadata": {
      "needs_background": "light"
     },
     "output_type": "display_data"
    }
   ],
   "source": [
    "real = df.loc[df['label'] == \"REAL\"]\n",
    "bins = df.title_word_cnt.max()\n",
    "plt.figure(figsize=(12, 8))\n",
    "# note: set explicit range on this histogram to make it scale identically to the fake title word count one.\n",
    "plt.hist(real.title_word_cnt, bins=bins, range=[0,53])\n",
    "plt.xlabel('title word count')\n",
    "plt.ylabel('frequency')\n",
    "plt.title('Real Article Title Word Count Histogram')\n",
    "plt.grid(True)\n",
    "plt.show()"
   ]
  },
  {
   "cell_type": "markdown",
   "metadata": {},
   "source": [
    "Title word histograms much more similar between fake and real, but again fake ones seem to have longer tail. That may be an artifact of the data. Quick check: are the # of articles between the two samples the same?"
   ]
  },
  {
   "cell_type": "code",
   "execution_count": 14,
   "metadata": {},
   "outputs": [
    {
     "name": "stdout",
     "output_type": "stream",
     "text": [
      "3171 3164\n"
     ]
    }
   ],
   "source": [
    "print(f\"{len(real)} {len(fake)}\")"
   ]
  },
  {
   "cell_type": "markdown",
   "metadata": {},
   "source": [
    "close enough. So, the longer tail on the fake histogram isn't just an artifact of there being more fakes. \n",
    "\n",
    "Out of curiosity, for the text distributions, which had much clearer distribution differences, I'd like to plot the difference between the two histograms, to show explicitly how and where they diverge."
   ]
  },
  {
   "cell_type": "code",
   "execution_count": 17,
   "metadata": {},
   "outputs": [
    {
     "data": {
      "image/png": "[encoded data removed]",
      "text/plain": [
       "<Figure size 432x288 with 1 Axes>"
      ]
     },
     "metadata": {
      "needs_background": "light"
     },
     "output_type": "display_data"
    }
   ],
   "source": [
    "bins = int(df.text_word_cnt.max()/100)\n",
    "fake_hist, _ = np.histogram(fake.text_word_cnt, range=[0,100], bins=bins)\n",
    "real_hist, _ = np.histogram(real.text_word_cnt, range=[0,100], bins=bins)\n",
    "residual = fake_hist - real_hist\n",
    "plt.bar(range(bins), residual)\n",
    "plt.show()"
   ]
  },
  {
   "cell_type": "markdown",
   "metadata": {},
   "source": [
    "this says to me that there are ranges of text word counts where articles are much more likely to be fake, and others where it's more likely they're real."
   ]
  },
  {
   "cell_type": "markdown",
   "metadata": {},
   "source": [
    "next up: Calculate the min and max character and word counts for title and text columns."
   ]
  },
  {
   "cell_type": "code",
   "execution_count": 29,
   "metadata": {},
   "outputs": [
    {
     "name": "stdout",
     "output_type": "stream",
     "text": [
      "title word count: min 1 max 53\n",
      "title char count: min 1 max 289\n",
      "body word count: min 2 max 20897\n",
      "body char count: min 1 max 115372\n"
     ]
    }
   ],
   "source": [
    "max_title_word_count = df.title_word_cnt.max()\n",
    "max_body_word_count = df.text_word_cnt.max()\n",
    "max_title_char_count = df.title_char_cnt.max()\n",
    "max_body_char_count = df.text_char_cnt.max()\n",
    "min_title_word_count = df.title_word_cnt.min()\n",
    "min_body_word_count = df.text_word_cnt.min()\n",
    "min_title_char_count = df.title_char_cnt.min()\n",
    "min_body_char_count = df.text_char_cnt.min()\n",
    "print(f\"title word count: min {min_title_word_count} max {max_title_word_count}\")\n",
    "print(f\"title char count: min {min_title_char_count} max {max_title_char_count}\")\n",
    "print(f\"body word count: min {min_body_word_count} max {max_body_word_count}\")\n",
    "print(f\"body char count: min {min_body_char_count} max {max_body_char_count}\")"
   ]
  },
  {
   "cell_type": "markdown",
   "metadata": {},
   "source": [
    "wait. How can the smallest body character count be 1, but word count be 2? A 1-character body should be 1 word"
   ]
  },
  {
   "cell_type": "code",
   "execution_count": 52,
   "metadata": {},
   "outputs": [
    {
     "data": {
      "text/html": [
       "<div>\n",
       "<style scoped>\n",
       "    .dataframe tbody tr th:only-of-type {\n",
       "        vertical-align: middle;\n",
       "    }\n",
       "\n",
       "    .dataframe tbody tr th {\n",
       "        vertical-align: top;\n",
       "    }\n",
       "\n",
       "    .dataframe thead th {\n",
       "        text-align: right;\n",
       "    }\n",
       "</style>\n",
       "<table border=\"1\" class=\"dataframe\">\n",
       "  <thead>\n",
       "    <tr style=\"text-align: right;\">\n",
       "      <th></th>\n",
       "      <th>Unnamed: 0</th>\n",
       "      <th>title</th>\n",
       "      <th>text</th>\n",
       "      <th>label</th>\n",
       "      <th>title_char_cnt</th>\n",
       "      <th>title_word_cnt</th>\n",
       "      <th>text_char_cnt</th>\n",
       "      <th>text_word_cnt</th>\n",
       "    </tr>\n",
       "  </thead>\n",
       "  <tbody>\n",
       "    <tr>\n",
       "      <th>106</th>\n",
       "      <td>5530</td>\n",
       "      <td>The Arcturian Group by Marilyn Raffaele Octobe...</td>\n",
       "      <td></td>\n",
       "      <td>FAKE</td>\n",
       "      <td>64</td>\n",
       "      <td>10</td>\n",
       "      <td>1</td>\n",
       "      <td>2</td>\n",
       "    </tr>\n",
       "  </tbody>\n",
       "</table>\n",
       "</div>"
      ],
      "text/plain": [
       "     Unnamed: 0                                              title text label  \\\n",
       "106        5530  The Arcturian Group by Marilyn Raffaele Octobe...       FAKE   \n",
       "\n",
       "     title_char_cnt  title_word_cnt  text_char_cnt  text_word_cnt  \n",
       "106              64              10              1              2  "
      ]
     },
     "execution_count": 52,
     "metadata": {},
     "output_type": "execute_result"
    }
   ],
   "source": [
    "smallest_body_by_char = df.loc[df['text'] == \" \"]\n",
    "smallest_body_by_word = df.loc[df['text_word_cnt'] <= 2]\n",
    "assert len(smallest_body_by_word) == len(smallest_body_by_char)\n",
    "smallest_body_by_word.head(1)\n"
   ]
  },
  {
   "cell_type": "markdown",
   "metadata": {},
   "source": [
    "interesting conundrum at this point: don't want to change the initial data, but it's clear that dataset puts a single space in for a lot of the articles, possibly as the default \"this story has no body\" value, which makes our char and word counts potentially off by one since we're doing a split on spaces. (` \" \".split(\" \") ` returns two empty strings in python). \n",
    "\n",
    "I don't think that changes much about the analysis so far, since we've mostly been talking about statistical distributions, and it's clear from the assert that there are only one-character articles that are spaces, no other characters. But if we start talking about actual values of the counts (like if it makes a difference if an article is 0-character-length or 1-character length), should revisit this."
   ]
  },
  {
   "cell_type": "markdown",
   "metadata": {},
   "source": [
    "Next up: Calculate the total number of distinct words across all articles. Note the difference between the max words in the text and the total number of unique words in the dataset."
   ]
  },
  {
   "cell_type": "code",
   "execution_count": 56,
   "metadata": {},
   "outputs": [
    {
     "data": {
      "text/plain": [
       "274816"
      ]
     },
     "execution_count": 56,
     "metadata": {},
     "output_type": "execute_result"
    }
   ],
   "source": [
    "# I love that I can do this with python, but man do I find this way of notating it super-confusing\n",
    "all_words = {word for body in df.text for word in body.split(\" \")}\n",
    "len(all_words)"
   ]
  },
  {
   "cell_type": "markdown",
   "metadata": {},
   "source": [
    "That's a super-naive way of doing that count, though. The split on spaces will leave in all punctuation, so `something` will be counted as a distinct word from `something.` We can do better with a regex to split on non-word characters, and force-lower-casing all the words, to avoid double-counting words that are capitalized at the beginning of sentances, etc:"
   ]
  },
  {
   "cell_type": "code",
   "execution_count": 57,
   "metadata": {},
   "outputs": [
    {
     "data": {
      "text/plain": [
       "67719"
      ]
     },
     "execution_count": 57,
     "metadata": {},
     "output_type": "execute_result"
    }
   ],
   "source": [
    "import re\n",
    "all_words = {word.lower() for body in df.text for word in re.split(\"\\W+\", body) if word}\n",
    "len(all_words)"
   ]
  },
  {
   "cell_type": "markdown",
   "metadata": {},
   "source": [
    "That count may be mis-leading a bit since it's treating -'s as punctuation, so `mis-leading` would be counted in that analysis as 2 words. Plurals and word stemming (ran/run/running) also a potential problem if you want to get a full count of all words. Skipping that for the moment."
   ]
  },
  {
   "cell_type": "markdown",
   "metadata": {},
   "source": [
    "## TF-IDF"
   ]
  },
  {
   "cell_type": "markdown",
   "metadata": {},
   "source": [
    "Calculate the TFIDF scores for the following words: smell, the, this, washington, money, road, and"
   ]
  },
  {
   "cell_type": "markdown",
   "metadata": {},
   "source": [
    "Definitions: \n",
    "\n",
    "tf = # of times term is in doc / # of terms in doc\n",
    " \n",
    "idf = ln(num_documents/num documents that contain term)\n",
    " \n",
    "tfidf = tf * idf\n",
    "\n",
    "Note: for purposes of \"doc\" in these computations, I'm going to combine the title and the text into one big doc. Also, note: tf is document-specific, so isn't a global property of the system. Have to compute it doc-by-doc, so tf-idf will also be doc-specific."
   ]
  },
  {
   "cell_type": "markdown",
   "metadata": {},
   "source": [
    "Plan at the moment: pre-compute the term counts (per word and total doc) as another object, query those to answer various questions. "
   ]
  },
  {
   "cell_type": "code",
   "execution_count": 80,
   "metadata": {},
   "outputs": [],
   "source": [
    "term_count = dict()\n",
    "counter = 0\n",
    "for body, title in zip(df['text'], df['title']):\n",
    "    all_words = body +  \" \" + title\n",
    "    word_collection = Counter()\n",
    "    for word in re.split(\"\\W+\", all_words):\n",
    "        if word:\n",
    "            word_collection[word.lower()] += 1\n",
    "    word_collection[\"__total__\"] = len(all_words)\n",
    "    term_count[counter] = word_collection\n",
    "    counter += 1"
   ]
  },
  {
   "cell_type": "code",
   "execution_count": 94,
   "metadata": {},
   "outputs": [
    {
     "name": "stdout",
     "output_type": "stream",
     "text": [
      "smell\t tf = 0.00026500596263415925\t idf = 5.257337531288759\t tf-idf = 0.001393225793371872\n",
      "the\t tf = 0.012322777262488406\t idf = 0.019767900195936484\t tf-idf = 0.00024359543106162621\n",
      "this\t tf = 0.0007950178879024779\t idf = 0.22018817530833698\t tf-idf = 0.00017505353807473458\n",
      "washington\t tf = 0.0\t idf = 1.3362646903406952\t tf-idf = 0.0\n",
      "money\t tf = 0.0\t idf = 1.794446580621264\t tf-idf = 0.0\n",
      "road\t tf = 0.0\t idf = 3.0839641697747195\t tf-idf = 0.0\n",
      "and\t tf = 0.003975089439512389\t idf = 0.055998401645744385\t tf-idf = 0.00022259865501157171\n"
     ]
    }
   ],
   "source": [
    "num_docs = len(term_count.keys())\n",
    "doc_id = 0\n",
    "for term in (\"smell\", \"the\", \"this\", \"washington\", \"money\", \"road\", \"and\"):\n",
    "    tf = term_count[doc_id][term] / term_count[doc_id][\"__total__\"]\n",
    "    num_docs_with_term = sum(1 for doc_id in term_count if term_count[doc_id][term])\n",
    "    idf = np.log(num_docs/(1+num_docs_with_term))\n",
    "    tf_idf = tf * idf\n",
    "    print(f\"{term}\\t tf = {tf}\\t idf = {idf}\\t tf-idf = {tf_idf}\")"
   ]
  },
  {
   "cell_type": "markdown",
   "metadata": {},
   "source": [
    "How are their scores different from each other? What does this mean"
   ]
  },
  {
   "cell_type": "markdown",
   "metadata": {},
   "source": [
    "The TF will be high for common words (\"the\", \"and\"), but always less than 1. The IDF will be small for common words, and large for uncommon ones, and IDF will be less than 1 for words that are very common. When multiplied together, if both are less than 1, the result gets even smaller, so common words will have a smaller tf-idf than unusual ones. For example, in doc 0, \"the\", \"this\", and \"and\" are common, while \"smell\" is uncommon, so the tf-idf of the common ones is approximately 1 factor of 10 smaller for the common words."
   ]
  },
  {
   "cell_type": "markdown",
   "metadata": {},
   "source": [
    "At first glance (need to think about this more) tf-idf will be large for words that are special/unusual in the set of docs, and be consistently small for words that are common across all documents. "
   ]
  },
  {
   "cell_type": "markdown",
   "metadata": {},
   "source": [
    "## Stop words"
   ]
  },
  {
   "cell_type": "markdown",
   "metadata": {},
   "source": [
    "Based on that, I'd expect a stop word like \"the\" to have a consistently-low tf-idf. A good stop word candidate will be common in a given document and common across all documents. "
   ]
  },
  {
   "cell_type": "code",
   "execution_count": null,
   "metadata": {},
   "outputs": [],
   "source": []
  }
 ],
 "metadata": {
  "kernelspec": {
   "display_name": "Python 3",
   "language": "python",
   "name": "python3"
  },
  "language_info": {
   "codemirror_mode": {
    "name": "ipython",
    "version": 3
   },
   "file_extension": ".py",
   "mimetype": "text/x-python",
   "name": "python",
   "nbconvert_exporter": "python",
   "pygments_lexer": "ipython3",
   "version": "3.8.2"
  }
 },
 "nbformat": 4,
 "nbformat_minor": 5
}
